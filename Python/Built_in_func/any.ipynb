{
 "cells": [
  {
   "cell_type": "markdown",
   "metadata": {},
   "source": [
    "## any()\n",
    "- 파이썬에서 **하나라도 참인지 확인할 때 사용**하는 any()"
   ]
  },
  {
   "cell_type": "markdown",
   "metadata": {},
   "source": [
    "#### 반복문으로 하나라도 참인지 확인하기\n",
    "- 여러 개의 데이터가 하나라도 어떤 조건을 만족하는지 확인을 해야할 때 보통 어떻게 접근하나? => 반복문 떠올림 "
   ]
  },
  {
   "cell_type": "code",
   "execution_count": 1,
   "metadata": {},
   "outputs": [],
   "source": [
    "# 예를 들어, 여러 숫자 중에서 하나라도 양의 짝수인지를 확인하는 함수를 구현해보자\n",
    "def any_positive_even(nums):\n",
    "    for num in nums:\n",
    "        if num > 0 and num % 2 == 0:\n",
    "            return True\n",
    "    return False"
   ]
  },
  {
   "cell_type": "code",
   "execution_count": 3,
   "metadata": {},
   "outputs": [
    {
     "name": "stdout",
     "output_type": "stream",
     "text": [
      "True\n",
      "False\n"
     ]
    }
   ],
   "source": [
    "# True\n",
    "print(any_positive_even([-2,4,5,-8]))\n",
    "\n",
    "# False\n",
    "print(any_positive_even([-2,3,5,-8]))"
   ]
  },
  {
   "cell_type": "markdown",
   "metadata": {},
   "source": [
    "### any() 내장 함수 사용해보기\n",
    "\n",
    "파이썬에서는 굳이 반복문이 없이도 하나라도 참인지를 확인할 수 있도록 any()라는 내장함수를 제공하고 있다. <br><br>\n",
    "**any() 함수는 반복문으로 순회할 수 있는(iterable) 모든 객체를 인자로 받을 수 있다.**<br><br>\n",
    "(엄밀히 얘기하면 여러 데이터를 제공할 수 있는 이터레이터(iterator)나 제너레이터(generator)도 인자로 넘길 수 있지만..) <br><br>\n",
    "**기본적으로 any() 함수는 인자로 넘어온 자료구조 내의 하나의 요소라도 참일 때만 True를 반환한다.<br>\n",
    "이 말은 인자로 넘어온 자료구조 내에 모든 요소가 거짓이라면 False를 반환한다.**\n",
    "\n"
   ]
  },
  {
   "cell_type": "code",
   "execution_count": 4,
   "metadata": {},
   "outputs": [
    {
     "data": {
      "text/plain": [
       "False"
      ]
     },
     "execution_count": 4,
     "metadata": {},
     "output_type": "execute_result"
    }
   ],
   "source": [
    "# False만 담고있는 리스트 => False 반환\n",
    "any([False, False, False, False, False]) # False"
   ]
  },
  {
   "cell_type": "code",
   "execution_count": 5,
   "metadata": {},
   "outputs": [
    {
     "data": {
      "text/plain": [
       "True"
      ]
     },
     "execution_count": 5,
     "metadata": {},
     "output_type": "execute_result"
    }
   ],
   "source": [
    "# True를 하나라도 포함하고 있다면 => True\n",
    "any([False, True, False, False, False]) # True"
   ]
  },
  {
   "cell_type": "code",
   "execution_count": 9,
   "metadata": {},
   "outputs": [
    {
     "data": {
      "text/plain": [
       "False"
      ]
     },
     "execution_count": 9,
     "metadata": {},
     "output_type": "execute_result"
    }
   ],
   "source": [
    "# 꼭 boolean type 일 필요는 없음\n",
    "# value나 expression도 가능\n",
    "# 내부적으로 boolean으로 형변환을 해서 참/거짓  여부를 판단하기 때문\n",
    "\n",
    "any([0,\"\",{},[], None, 1>2, 2+3==4]) #False"
   ]
  },
  {
   "cell_type": "code",
   "execution_count": 10,
   "metadata": {},
   "outputs": [
    {
     "data": {
      "text/plain": [
       "True"
      ]
     },
     "execution_count": 10,
     "metadata": {},
     "output_type": "execute_result"
    }
   ],
   "source": [
    "# 반면 boolean으로 형변환을 해서 True가 될 수 있는 값이나 식을 하나라도 포함한다면 \n",
    "\n",
    "any([1, 'Test', 1<2, 2+3 == 5]) # True"
   ]
  },
  {
   "cell_type": "markdown",
   "metadata": {},
   "source": [
    "#### 표현식과 함께 활용하기\n",
    "\n",
    "사실 이렇게 단순한 리스트나 튜플을 인자로 넘겨서는 any() 함수의 진가를 느끼기가 어렵다. <br>\n",
    "왜냐하면 파이썬에서는 모든 것이 결국 객체이고, 대부분의 객체는 boolean type으로 참으로 판단되기 때문이다. <br><br>\n",
    "하지만 list comprehension이나 generator comprehension을 넘기면 어떻게 될까?\n"
   ]
  },
  {
   "cell_type": "code",
   "execution_count": 11,
   "metadata": {},
   "outputs": [
    {
     "data": {
      "text/plain": [
       "True"
      ]
     },
     "execution_count": 11,
     "metadata": {},
     "output_type": "execute_result"
    }
   ],
   "source": [
    "# 예를 들어, 리스트 안에 숫자가 하나라도 양수인지 확인하는 코드를 작성해보자\n",
    "\n",
    "any(num > 0 for num in [-1,-4,7,9]) # True (7과 9는 양수)"
   ]
  },
  {
   "cell_type": "code",
   "execution_count": 12,
   "metadata": {},
   "outputs": [
    {
     "data": {
      "text/plain": [
       "True"
      ]
     },
     "execution_count": 12,
     "metadata": {},
     "output_type": "execute_result"
    }
   ],
   "source": [
    "# 리스트 안에 숫자가 하나라도 짝수인지를 확인하는 코드\n",
    "\n",
    "any(num % 2 == 0 for num in [-1,-4,7,9]) # Ture (-4는 짝수)"
   ]
  }
 ],
 "metadata": {
  "kernelspec": {
   "display_name": "Python 3",
   "language": "python",
   "name": "python3"
  },
  "language_info": {
   "codemirror_mode": {
    "name": "ipython",
    "version": 3
   },
   "file_extension": ".py",
   "mimetype": "text/x-python",
   "name": "python",
   "nbconvert_exporter": "python",
   "pygments_lexer": "ipython3",
   "version": "3.12.0"
  }
 },
 "nbformat": 4,
 "nbformat_minor": 2
}
