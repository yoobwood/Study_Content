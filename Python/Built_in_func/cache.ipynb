{
 "cells": [
  {
   "cell_type": "markdown",
   "metadata": {},
   "source": [
    "## 캐싱이란?\n",
    "\n",
    "**일반적으로 캐싱은 접근하는데 시간이 오래 걸리는 데이터를 접근 속도가 빠른 저장소에 사본을 저장해두고 재사용하거나, <br> \n",
    "실행하는데 오래 걸리는 연산의 결과를 미리 계산해놓고 최초로 필요할 때 한번만 계산하여 저장해놓고 재사용하는 기법을 의미한다.** <br><br>\n",
    "\n",
    "예를 들어, 대부분의 웹브라우저는 클라이언트 컴퓨터에 캐시를 두고 있다.<br>\n",
    "이 캐시에 이전에 방문했던 웹페이지의 내용을 저장해놓고 동일한 페이지를 재방문 시 <br>\n",
    "이 저장해놓은 사본의 페이지를 보여주는 경우가 많다. <br>\n",
    "이렇게 함으로써 불필요한 HTTP 통신을 줄이고, 좀 더 기민한 웹 브라우징 경험을 제공할 수 있는 것이다.<br><br>\n",
    "\n",
    "캐싱은 서버 단에서도 성능 최적화를 위한 핵심 도구로 사용되고 있다. <br>\n",
    "예를 들어, 클라이언트로부터 받은 요청에 대한 처리 결과를 캐시에 저장해두고, <br>\n",
    "나중에 동일한 요청이 들어왔을 때 저장해둔 결과를 그대로 응답하는 것은 매우 흔한 서버 단의 캐싱 패턴이다.<br><br>\n",
    "\n",
    "뿐만 아니라 캐싱은 데이터베이스와 같은 핵심적인 서버 자원을 과부하로부터 보호하기 위해서도 사용할 수 있다. <br>\n",
    "애플리케이션에서 데이터베이스로부터 불러온 데이터를 캐시에 저장해놓고 재사용해준다면<br>\n",
    "중복 쿼리가 줄어 데이터베이스 입장에서 동시에 처리해야하는 부담이 현저히 줄어들 것이다.<br><br>\n",
    "\n",
    "하드웨어 쪽에서는 캐싱이 고성능 저장 매체와 저성능 저장 매체 사이의 속도 차이로 인한 성능 손실을 최소화 하기 위해서 많이 사용된다. <br>\n",
    "대표적인 예로, CPU와 RAM 사이에 있는 CPU 캐시를 들 수 있다. <br>\n",
    "하드디스크(HDD,SDD)의 일부 용량을 마치 메모리처럼 사용하는 가상 메모리 전략도 비슷한 맥락으로 볼 수 있다. <br><br>\n",
    "\n",
    "네트워크 쪽에서는 프록시(Proxy) 서버나 CDN(Content Delivery Network)을 대표적인 캐싱 사례로 들 수 있다. <br>\n",
    "유저와 최대한 가까운 CDN 노드(Node)에 이미지나 비디오 같이 고용량 데이터의 사본을 저장해놓으면, <br>\n",
    "굳이 지리적으로 멀리 있는 서버로부터 원본 데이터를 받을 필요가 없을 것이다."
   ]
  },
  {
   "cell_type": "markdown",
   "metadata": {},
   "source": [
    "### 메모이제이션 (memoization)\n",
    "가장 원초적인 형태의 캐싱으로 소위 메모이제이션(memoization)이라고 일컫는 저장 공간에 별도의 상한선을 두지 않는 캐싱 방법을 생각할 수 있다. <br>\n",
    "메모이제이션은 특히 코딩테스트에서 재귀 알고리즘의 성능을 최적화하기 위해서 자주 사용된다.<br><br>\n",
    "\n",
    "메모이제이션을 구현할 때는 일반적으로 해시 테이블 자료구조를 사용하여 함수의 첫번째 호출 결과를 저장해놓고 두번째 호출부터는 기존에 저장된 결과를 재사용한다."
   ]
  },
  {
   "cell_type": "code",
   "execution_count": 2,
   "metadata": {},
   "outputs": [],
   "source": [
    "# 인자로 받은 해당 아이디에 해당하는 사용자 정보를 DB에서 읽어오는 척(?) 하는 함수\n",
    "def fetch_user(user_id):\n",
    "    print(f'DB에서 아이디가 {user_id}인 사용자 정보를 읽어오고 있습니다....')\n",
    "    return {\n",
    "        'userID' : user_id,\n",
    "        'email' : f'{user_id}@test.com',\n",
    "        'password' : 'test1234'\n",
    "    }\n",
    "\n",
    "\n",
    "# 단순히 넘어온 인자를 그대로 위의 함수로 넘겨 호출한 결과를 반환하는 함수\n",
    "def get_user(user_id):\n",
    "    return fetch_user(user_id)"
   ]
  },
  {
   "cell_type": "code",
   "execution_count": 3,
   "metadata": {},
   "outputs": [
    {
     "name": "stdout",
     "output_type": "stream",
     "text": [
      "DB에서 아이디가 B02인 사용자 정보를 읽어오고 있습니다....\n",
      "DB에서 아이디가 B02인 사용자 정보를 읽어오고 있습니다....\n",
      "DB에서 아이디가 B02인 사용자 정보를 읽어오고 있습니다....\n",
      "DB에서 아이디가 C03인 사용자 정보를 읽어오고 있습니다....\n",
      "DB에서 아이디가 B02인 사용자 정보를 읽어오고 있습니다....\n",
      "DB에서 아이디가 C03인 사용자 정보를 읽어오고 있습니다....\n",
      "DB에서 아이디가 C03인 사용자 정보를 읽어오고 있습니다....\n",
      "DB에서 아이디가 A01인 사용자 정보를 읽어오고 있습니다....\n",
      "DB에서 아이디가 A01인 사용자 정보를 읽어오고 있습니다....\n",
      "DB에서 아이디가 B02인 사용자 정보를 읽어오고 있습니다....\n"
     ]
    }
   ],
   "source": [
    "# 3개 사용자 아이디 중 하나를 랜덤하게 인자로 넘겨서 10회 호출해보자.\n",
    "if __name__ == \"__main__\":\n",
    "    from random import  choice\n",
    "\n",
    "    for _ in range(10):\n",
    "        get_user(user_id = choice(['A01','B02','C03']))"
   ]
  },
  {
   "cell_type": "markdown",
   "metadata": {},
   "source": [
    "이러한 상황에서 메모이제이션을 활용하면 각 사용자에 대해서 딱 한번씩만 DB를 조회할 수 있다.<br>\n",
    "파이썬에서 메모이제이션은 **dictionary**라는 내장 자료구조를 이용하면 어렵지 않게 구현할 수 있다."
   ]
  },
  {
   "cell_type": "code",
   "execution_count": 4,
   "metadata": {},
   "outputs": [],
   "source": [
    "cache = {}\n",
    "\n",
    "def get_user(user_id):\n",
    "    if user_id not in cache:\n",
    "        cache[user_id] = fetch_user(user_id)\n",
    "    return cache[user_id]"
   ]
  },
  {
   "cell_type": "code",
   "execution_count": 5,
   "metadata": {},
   "outputs": [
    {
     "name": "stdout",
     "output_type": "stream",
     "text": [
      "DB에서 아이디가 B02인 사용자 정보를 읽어오고 있습니다....\n",
      "DB에서 아이디가 A01인 사용자 정보를 읽어오고 있습니다....\n",
      "DB에서 아이디가 C03인 사용자 정보를 읽어오고 있습니다....\n"
     ]
    }
   ],
   "source": [
    "# 위와 똑같이 10회를 호출해보면, 이번에는 딱 3번만 DB에 접근하는 것을 볼 수 있다.\n",
    "\n",
    "if __name__ == \"__main__\":\n",
    "    from random import  choice\n",
    "\n",
    "    for _ in range(10):\n",
    "        get_user(user_id = choice(['A01','B02','C03']))"
   ]
  },
  {
   "cell_type": "markdown",
   "metadata": {},
   "source": [
    "### @cache 데코레이터\n",
    "- @cache 데코레이터를 활요하면 더 깔끔하게 처리할 수 있다.\n",
    "- 파이썬에 내장된 **functools** 모듈로부터 불러올 수 있으며 **함수를 대상**으로 사용한다.\n",
    "    - 단, 비교적 최신 버전인 파이썬 3.9에 추가된 기능이므로 버전을 확인해야한다.\n",
    "\n",
    "    \n",
    "<br><br>\n",
    "**@cache 데코레이터를 어떤 함수 위에 선언하면, 그 함수에 넘어온 인자를 키(key)로 <br>\n",
    "그리고 함수의 호출 결과를 값(value)으로 메모이제이션이 적용된다.**\n",
    "\n",
    "\n",
    "\n",
    "\n"
   ]
  },
  {
   "cell_type": "code",
   "execution_count": 6,
   "metadata": {},
   "outputs": [],
   "source": [
    "from functools import cache\n",
    "\n",
    "def fetch_user(user_id):\n",
    "    print(f'DB에서 아이디가 {user_id}인 사용자 정보를 읽어오고 있습니다....')\n",
    "    return {\n",
    "        'userID' : user_id,\n",
    "        'email' : f'{user_id}@test.com',\n",
    "        'password' : 'test1234'\n",
    "    }\n",
    "\n",
    "\n",
    "@cache\n",
    "def get_user(user_id):\n",
    "    return fetch_user(user_id)"
   ]
  },
  {
   "cell_type": "code",
   "execution_count": 7,
   "metadata": {},
   "outputs": [
    {
     "name": "stdout",
     "output_type": "stream",
     "text": [
      "DB에서 아이디가 B02인 사용자 정보를 읽어오고 있습니다....\n",
      "DB에서 아이디가 A01인 사용자 정보를 읽어오고 있습니다....\n",
      "DB에서 아이디가 C03인 사용자 정보를 읽어오고 있습니다....\n"
     ]
    }
   ],
   "source": [
    "if __name__ == \"__main__\":\n",
    "    from random import  choice\n",
    "\n",
    "    for _ in range(10):\n",
    "        get_user(user_id = choice(['A01','B02','C03']))"
   ]
  },
  {
   "cell_type": "markdown",
   "metadata": {},
   "source": [
    "### 해싱 전략\n",
    "\n",
    "코딩테스트가 아닌 실전 코딩에서는 메모이제이션을 사용할 수 있는 경우는 극히 제한적이다. <br>\n",
    "일회성으로 실행되는 스크립트에서는 사용해봄직 하겠지만 상용 소프트웨어에서 무제한으로 늘어날 수 있는 캐시를 쓸 수 있는 경우는 많지 않을 것이다. <br><br>\n",
    "\n",
    "일반적으로 캐싱을 위해 사용되는 저장 매체는 접근 속도가 빨라야 하므로 가격이 자연스럽게 비싸질 수 밖에 없다. <br>\n",
    "따라서 용량이 제한된 고가의 저장 매체를 최대한 효과적으로 사용하기 위해서는 캐싱 전략에 대해 생각해봐야 한다. <br><br>\n",
    "\n",
    "**캐싱 전략이란 쉽게 말해 캐시 용량이 꽉 찼을 때 어떤 데이터는 캐시에 남겨두고 어떤 데이터는 지워야할지에 대한 접근 방법을 뜻한다.** <br><br>\n",
    "\n",
    "많은 캐싱 전략이 있지만 그 중에서 가장 많이 알려진 것은 LRU(Least Recently Used)일 것이다.<br>\n",
    "LRU는 \"최근에 사용된 데이터일수록 앞으로도 사용될 가능성이 높다.\"라는 가설을 바탕으로 고안된 캐싱 전략이다. <br>\n",
    "따라서, LRU 캐싱 전략에서는 가장 오랫동안 사용되지 않은 데이터를 우선적으로 캐시에서 삭제하여 여유 공간을 확보한다."
   ]
  },
  {
   "cell_type": "markdown",
   "metadata": {},
   "source": [
    "### @lru_cache 데코레이터\n",
    "- 파이썬에 메모리 기반 LRU 캐시를 좀 더 손쉽게 사용할 수 있도록 @lru_cache라는 데코레이터를 제공해주고 있다."
   ]
  },
  {
   "cell_type": "code",
   "execution_count": 8,
   "metadata": {},
   "outputs": [],
   "source": [
    "from functools import lru_cache\n",
    "\n",
    "def fetch_user(user_id):\n",
    "    print(f'DB에서 아이디가 {user_id}인 사용자 정보를 읽어오고 있습니다....')\n",
    "    return {\n",
    "        'userID' : user_id,\n",
    "        'email' : f'{user_id}@test.com',\n",
    "        'password' : 'test1234'\n",
    "    }\n",
    "\n",
    "\n",
    "@lru_cache\n",
    "def get_user(user_id):\n",
    "    return fetch_user(user_id)"
   ]
  },
  {
   "cell_type": "code",
   "execution_count": 9,
   "metadata": {},
   "outputs": [
    {
     "name": "stdout",
     "output_type": "stream",
     "text": [
      "DB에서 아이디가 C03인 사용자 정보를 읽어오고 있습니다....\n",
      "DB에서 아이디가 A01인 사용자 정보를 읽어오고 있습니다....\n",
      "DB에서 아이디가 B02인 사용자 정보를 읽어오고 있습니다....\n",
      "CacheInfo(hits=7, misses=3, maxsize=128, currsize=3)\n"
     ]
    }
   ],
   "source": [
    "if __name__ == \"__main__\":\n",
    "    from random import  choice\n",
    "\n",
    "    for _ in range(10):\n",
    "        get_user(user_id = choice(['A01','B02','C03']))\n",
    "\n",
    "    print(get_user.cache_info()) # 캐시 관련 정보를 확인"
   ]
  },
  {
   "cell_type": "markdown",
   "metadata": {},
   "source": [
    "- 캐시가 7번 hit \n",
    "- 3번 miss \n",
    "- 최대 캐시 크기는 128\n",
    "- 현재 캐시 크기는 3"
   ]
  },
  {
   "cell_type": "markdown",
   "metadata": {},
   "source": []
  }
 ],
 "metadata": {
  "kernelspec": {
   "display_name": "Python 3",
   "language": "python",
   "name": "python3"
  },
  "language_info": {
   "codemirror_mode": {
    "name": "ipython",
    "version": 3
   },
   "file_extension": ".py",
   "mimetype": "text/x-python",
   "name": "python",
   "nbconvert_exporter": "python",
   "pygments_lexer": "ipython3",
   "version": "3.12.0"
  }
 },
 "nbformat": 4,
 "nbformat_minor": 2
}
