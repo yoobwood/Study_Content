{
 "cells": [
  {
   "cell_type": "markdown",
   "metadata": {},
   "source": [
    "## enumerate() 함수\n",
    "- index와 원소를 동시에 접근하면서 루프를 돌릴 수 있다."
   ]
  },
  {
   "cell_type": "code",
   "execution_count": 2,
   "metadata": {},
   "outputs": [
    {
     "name": "stdout",
     "output_type": "stream",
     "text": [
      "(0, 'A')\n",
      "(1, 'B')\n",
      "(2, 'C')\n"
     ]
    }
   ],
   "source": [
    "# 인텍스와 원소로 이루어진 tuple을 만들어준다.\n",
    "for entry in enumerate(['A','B','C']):\n",
    "    print(entry)"
   ]
  },
  {
   "cell_type": "code",
   "execution_count": 3,
   "metadata": {},
   "outputs": [
    {
     "name": "stdout",
     "output_type": "stream",
     "text": [
      "0 A\n",
      "1 B\n",
      "2 C\n"
     ]
    }
   ],
   "source": [
    "# 인덱스와 원소를 각각 다른 변수에 할당하고 싶다면 unpacking을 해줘야 함\n",
    "for i, letter in enumerate(['A','B','C']):\n",
    "    print(i, letter)"
   ]
  },
  {
   "cell_type": "markdown",
   "metadata": {},
   "source": [
    "#### 시작 인덱스 변경\n",
    "- start 이용"
   ]
  },
  {
   "cell_type": "code",
   "execution_count": 5,
   "metadata": {},
   "outputs": [
    {
     "name": "stdout",
     "output_type": "stream",
     "text": [
      "1 A\n",
      "2 B\n",
      "3 C\n"
     ]
    }
   ],
   "source": [
    "# 인덱스 1로 시작\n",
    "for i, letter in enumerate(['A','B','C'], start=1):\n",
    "    print(i, letter)"
   ]
  },
  {
   "cell_type": "markdown",
   "metadata": {},
   "source": [
    "#### [팁] 2차원 리스트 루프"
   ]
  },
  {
   "cell_type": "code",
   "execution_count": 6,
   "metadata": {},
   "outputs": [],
   "source": [
    "matrix = [['A', 'B', 'C'], ['D', 'E', 'F'], ['G', 'H', 'I']]"
   ]
  },
  {
   "cell_type": "code",
   "execution_count": 8,
   "metadata": {},
   "outputs": [
    {
     "name": "stdout",
     "output_type": "stream",
     "text": [
      "0 0 A\n",
      "0 1 B\n",
      "0 2 C\n",
      "1 0 D\n",
      "1 1 E\n",
      "1 2 F\n",
      "2 0 G\n",
      "2 1 H\n",
      "2 2 I\n"
     ]
    }
   ],
   "source": [
    "# 중첩 for loop\n",
    "for r in range(len(matrix)):\n",
    "    for c in range(len(matrix[r])):\n",
    "        print(r,c, matrix[r][c])"
   ]
  },
  {
   "cell_type": "code",
   "execution_count": 9,
   "metadata": {},
   "outputs": [
    {
     "name": "stdout",
     "output_type": "stream",
     "text": [
      "0 0 A\n",
      "0 1 B\n",
      "0 2 C\n",
      "1 0 D\n",
      "1 1 E\n",
      "1 2 F\n",
      "2 0 G\n",
      "2 1 H\n",
      "2 2 I\n"
     ]
    }
   ],
   "source": [
    "# 위와 같은 결과를 주는 enumerate()\n",
    "for r, row in enumerate(matrix):\n",
    "    for c, letter in enumerate(matrix[r]):\n",
    "        print(r,c,letter)"
   ]
  },
  {
   "cell_type": "code",
   "execution_count": null,
   "metadata": {},
   "outputs": [],
   "source": []
  }
 ],
 "metadata": {
  "kernelspec": {
   "display_name": "Python 3",
   "language": "python",
   "name": "python3"
  },
  "language_info": {
   "codemirror_mode": {
    "name": "ipython",
    "version": 3
   },
   "file_extension": ".py",
   "mimetype": "text/x-python",
   "name": "python",
   "nbconvert_exporter": "python",
   "pygments_lexer": "ipython3",
   "version": "3.12.0"
  }
 },
 "nbformat": 4,
 "nbformat_minor": 2
}
