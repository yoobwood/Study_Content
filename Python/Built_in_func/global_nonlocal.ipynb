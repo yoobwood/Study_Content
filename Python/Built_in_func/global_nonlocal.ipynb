{
 "cells": [
  {
   "cell_type": "markdown",
   "metadata": {},
   "source": [
    "## global & nonlocal"
   ]
  },
  {
   "cell_type": "markdown",
   "metadata": {},
   "source": [
    "#### 변수의 범위(scope)\n",
    "- 함수 외부를 **전역(global / module)** 범위라고 하고,\n",
    "- 함수 내부를 **지역(local / function)** 범위라고 한다.\n",
    "- 또한, 함수를 중첩했을 때 외부 함수와 내부 함수 사이에서 생겨나는 **비지역(nonlocal / enclosing)** 범위라는 것도 있다."
   ]
  },
  {
   "cell_type": "code",
   "execution_count": null,
   "metadata": {},
   "outputs": [],
   "source": [
    "# outer(), inner() 함수 입장에서 전역(global) 범위\n",
    "def outer():\n",
    "    # outer() 함수 입장에서 지역(local) 범위\n",
    "    # inner() 함수 입장에서 비지역(nonlocal) 범위\n",
    "    def inner():\n",
    "        # inner 함수 입장에서 지역(local) 범위"
   ]
  },
  {
   "cell_type": "markdown",
   "metadata": {},
   "source": [
    "같은 범위 내에서는 자유롭게 변수에 접근이 가능하지만 다른 범위에서 선언된 변수에 접근할 때는 정해진 제약을 따르게 된다. <br>\n",
    "기본적으로 바깥 쪽 범위 내에서 선언된 변수를 안쪽 범위에서는 접근할 수 있지만, 반대로 안 쪽 범위 내에서 선언된 변수를 바깥 쪽 범위에서 접근하는 것은 불가능하다. <br>"
   ]
  },
  {
   "cell_type": "code",
   "execution_count": null,
   "metadata": {},
   "outputs": [],
   "source": [
    "global_var = '전역 변수'\n",
    "print(global_var) # 가능\n",
    "\n",
    "def outer():\n",
    "    nonlocal_var = '비전역 변수'\n",
    "    print(global_var) # 가능\n",
    "    print(nonlocal_var) # 가능\n",
    "\n",
    "    def inner():\n",
    "        local_var = '지역 변수'\n",
    "        print(global_var) # 가능\n",
    "        print(nonlocal_var) # 가능\n",
    "        print(local_var) # 가능\n",
    "\n",
    "    print(local_var) # 불가능 (NameError : name 'local_var' is not defined)\n",
    "\n",
    "print(nonlocal_var) # 불가능 (NameError : name 'nonlocal_var' is not defined)\n",
    "print(local_var) # 불가능 (NameError : name 'local_var' is not defined)"
   ]
  },
  {
   "cell_type": "markdown",
   "metadata": {},
   "source": [
    "#### Variable Shadowing\n",
    "변수의 범위의 다른 중요한 특성은 서로 다른 범위에서는 변수 이름 충돌이 발생하지 않으며 <br>\n",
    "안 쪽 범위에서 바깥 쪽 범위에서 선언된 변수와 똑같은 이름의 변수를 생성할 수 있다는 것이다. <br><br>\n",
    "\n",
    "**그러나, 코드 가독성을 해치기 때문에 일반적으로 피해야하는 코딩 관행으로 여겨지고 있음**\n"
   ]
  },
  {
   "cell_type": "code",
   "execution_count": 15,
   "metadata": {},
   "outputs": [
    {
     "name": "stdout",
     "output_type": "stream",
     "text": [
      "전역 변수\n",
      "비지역 변수\n",
      "지역 변수\n"
     ]
    }
   ],
   "source": [
    "# 예를 들어, 아래에 선언된 var 변수는 이름만 같을 뿐 서로 다른 값을 저장할 수 있는 다른 변수!!\n",
    "var = '전역 변수'\n",
    "print(var)\n",
    "\n",
    "def outer():\n",
    "    var = '비지역 변수'\n",
    "    print(var)\n",
    "\n",
    "    def inner():\n",
    "        var = '지역 변수'\n",
    "        print(var)\n",
    "\n",
    "    inner()\n",
    "\n",
    "outer()"
   ]
  },
  {
   "cell_type": "markdown",
   "metadata": {},
   "source": [
    "#### global 키워드"
   ]
  },
  {
   "cell_type": "code",
   "execution_count": 16,
   "metadata": {},
   "outputs": [
    {
     "name": "stdout",
     "output_type": "stream",
     "text": [
      "0\n",
      "0\n"
     ]
    }
   ],
   "source": [
    "num = 0 # 전역 변수\n",
    "\n",
    "def change_num():\n",
    "    print(num)\n",
    "\n",
    "change_num()\n",
    "\n",
    "print(num)\n"
   ]
  },
  {
   "cell_type": "code",
   "execution_count": 18,
   "metadata": {},
   "outputs": [
    {
     "name": "stdout",
     "output_type": "stream",
     "text": [
      "100\n",
      "0\n"
     ]
    }
   ],
   "source": [
    "# variable shadowing 예제\n",
    "num = 0 \n",
    "\n",
    "def change_num():\n",
    "    num = 100\n",
    "    print(num)\n",
    "\n",
    "change_num()\n",
    "\n",
    "print(num)\n"
   ]
  },
  {
   "cell_type": "markdown",
   "metadata": {},
   "source": [
    "그러면 이와 같이 동일한 이름의 지역 변수를 생성하지 않고, <br>\n",
    "전역 변수의 값을 함수 내부에서 변경하고 싶다면 어떻게 해야할까? => **global 키워드** <br><br>\n",
    "\n",
    "함수 안에서 변수 앞에 global 키워드를 붙여주면 해당 변수는 함수 내에서 값을 변경하더라도 <br>\n",
    "새로운 지역 변수가 되지 않고 함수 밖에서 이미 선언된 전역 변수를 가리키게 된다."
   ]
  },
  {
   "cell_type": "code",
   "execution_count": 19,
   "metadata": {},
   "outputs": [
    {
     "name": "stdout",
     "output_type": "stream",
     "text": [
      "100\n",
      "100\n"
     ]
    }
   ],
   "source": [
    "num = 0\n",
    "\n",
    "def change_num():\n",
    "    global num\n",
    "    num = 100\n",
    "    print(num)\n",
    "\n",
    "change_num()\n",
    "\n",
    "print(num)"
   ]
  },
  {
   "cell_type": "markdown",
   "metadata": {},
   "source": [
    "#### nonlocal 키워드\n",
    "- nonlocal 키워드도 global 키워드와 같이 동일한 이름의 새로운 변수가 생성되는 것을 방지하기 위해 사용된다.\n",
    "- 차이점\n",
    "    - global : 일반 함수 내에서 전역( global / module ) 변수를 대상으로 사용\n",
    "    - nonlocal : 중첩 함수 내에서 비지역( nonlocal / closing ) 변수를 대상으로 사용"
   ]
  },
  {
   "cell_type": "code",
   "execution_count": 20,
   "metadata": {},
   "outputs": [
    {
     "name": "stdout",
     "output_type": "stream",
     "text": [
      "0\n",
      "0\n"
     ]
    }
   ],
   "source": [
    "def print_num():\n",
    "    num =  0 # 비지역 변수\n",
    "\n",
    "    def change_num():\n",
    "        print(num)\n",
    "\n",
    "    change_num()\n",
    "\n",
    "    print(num)\n",
    "\n",
    "print_num()"
   ]
  },
  {
   "cell_type": "code",
   "execution_count": 21,
   "metadata": {},
   "outputs": [
    {
     "name": "stdout",
     "output_type": "stream",
     "text": [
      "100\n",
      "0\n"
     ]
    }
   ],
   "source": [
    "def print_num():\n",
    "    num =  0 # 비지역 변수\n",
    "\n",
    "    def change_num():\n",
    "        num = 100\n",
    "        print(num)\n",
    "\n",
    "    change_num()\n",
    "\n",
    "    print(num)\n",
    "\n",
    "print_num()"
   ]
  },
  {
   "cell_type": "code",
   "execution_count": 22,
   "metadata": {},
   "outputs": [
    {
     "name": "stdout",
     "output_type": "stream",
     "text": [
      "100\n",
      "100\n"
     ]
    }
   ],
   "source": [
    "# 비지역 변수를 지역 변수로 갱신하고 싶다면?\n",
    "def print_num():\n",
    "    num = 0\n",
    "\n",
    "    def change_num():\n",
    "        nonlocal num\n",
    "        num = 100\n",
    "        print(num)\n",
    "\n",
    "    change_num()\n",
    "\n",
    "    print(num)\n",
    "\n",
    "print_num()"
   ]
  },
  {
   "cell_type": "markdown",
   "metadata": {},
   "source": [
    "#### 실전 예제"
   ]
  },
  {
   "cell_type": "code",
   "execution_count": 25,
   "metadata": {},
   "outputs": [
    {
     "ename": "UnboundLocalError",
     "evalue": "cannot access local variable 'cnt' where it is not associated with a value",
     "output_type": "error",
     "traceback": [
      "\u001b[0;31m---------------------------------------------------------------------------\u001b[0m",
      "\u001b[0;31mUnboundLocalError\u001b[0m                         Traceback (most recent call last)",
      "Cell \u001b[0;32mIn[25], line 12\u001b[0m\n\u001b[1;32m      9\u001b[0m     \u001b[38;5;28;01mreturn\u001b[39;00m _increment\n\u001b[1;32m     11\u001b[0m count_up \u001b[38;5;241m=\u001b[39m counter()\n\u001b[0;32m---> 12\u001b[0m \u001b[38;5;28mprint\u001b[39m(\u001b[43mcount_up\u001b[49m\u001b[43m(\u001b[49m\u001b[43m)\u001b[49m)\n\u001b[1;32m     13\u001b[0m \u001b[38;5;28mprint\u001b[39m(count_up(\u001b[38;5;241m2\u001b[39m))\n\u001b[1;32m     14\u001b[0m \u001b[38;5;28mprint\u001b[39m(count_up(\u001b[38;5;241m3\u001b[39m))\n",
      "Cell \u001b[0;32mIn[25], line 6\u001b[0m, in \u001b[0;36mcounter.<locals>._increment\u001b[0;34m(step)\u001b[0m\n\u001b[1;32m      5\u001b[0m \u001b[38;5;28;01mdef\u001b[39;00m \u001b[38;5;21m_increment\u001b[39m(step\u001b[38;5;241m=\u001b[39m\u001b[38;5;241m1\u001b[39m):\n\u001b[0;32m----> 6\u001b[0m     \u001b[43mcnt\u001b[49m \u001b[38;5;241m+\u001b[39m\u001b[38;5;241m=\u001b[39m step  \u001b[38;5;66;03m# 오류 발생\u001b[39;00m\n\u001b[1;32m      7\u001b[0m     \u001b[38;5;28;01mreturn\u001b[39;00m cnt\n",
      "\u001b[0;31mUnboundLocalError\u001b[0m: cannot access local variable 'cnt' where it is not associated with a value"
     ]
    }
   ],
   "source": [
    "# 오류 발생\n",
    "def counter():\n",
    "    cnt = 0\n",
    "\n",
    "    def _increment(step=1):\n",
    "        cnt += step  # 오류 발생\n",
    "        return cnt\n",
    "    \n",
    "    return _increment\n",
    "\n",
    "count_up = counter()\n",
    "print(count_up())\n",
    "print(count_up(2))\n",
    "print(count_up(3))"
   ]
  },
  {
   "cell_type": "code",
   "execution_count": 26,
   "metadata": {},
   "outputs": [
    {
     "name": "stdout",
     "output_type": "stream",
     "text": [
      "1\n",
      "3\n",
      "6\n"
     ]
    }
   ],
   "source": [
    "def counter():\n",
    "    cnt = 0\n",
    "\n",
    "    def _increment(step=1):\n",
    "        nonlocal cnt\n",
    "        cnt += step  \n",
    "        return cnt\n",
    "    \n",
    "    return _increment\n",
    "\n",
    "count_up = counter()\n",
    "print(count_up())\n",
    "print(count_up(2))\n",
    "print(count_up(3))"
   ]
  },
  {
   "cell_type": "code",
   "execution_count": null,
   "metadata": {},
   "outputs": [],
   "source": []
  }
 ],
 "metadata": {
  "kernelspec": {
   "display_name": "Python 3",
   "language": "python",
   "name": "python3"
  },
  "language_info": {
   "codemirror_mode": {
    "name": "ipython",
    "version": 3
   },
   "file_extension": ".py",
   "mimetype": "text/x-python",
   "name": "python",
   "nbconvert_exporter": "python",
   "pygments_lexer": "ipython3",
   "version": "3.12.0"
  }
 },
 "nbformat": 4,
 "nbformat_minor": 2
}
