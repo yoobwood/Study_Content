{
 "cells": [
  {
   "cell_type": "markdown",
   "metadata": {},
   "source": [
    "## List\n",
    "\n",
    "### 리스트의 특징\n",
    "\n",
    "리스트(list)는 **여러 데이터를 순서가 있게 담기 위해서** 파이썬에서 가장 범용적으로 사용되는 자료형이다.<br>\n",
    "**가변(mutable) 자료형이기 때문에 리스트를 생성 후에 자유롭게 새로운 데이터를 추가하거나 기존 데이터를 변경 또는 제거할 수 있다.** <br><br>\n",
    "동적 타이핑(dynamic typing) 언어인 파이썬에서는 하나의 리스트 안에 여러 타입의 데이터를 막 섞어서 저장할 수 있다. 자바와 대조된다. (static typing)\n"
   ]
  },
  {
   "cell_type": "markdown",
   "metadata": {},
   "source": [
    "#### 리스트 생성"
   ]
  },
  {
   "cell_type": "code",
   "execution_count": 1,
   "metadata": {},
   "outputs": [
    {
     "data": {
      "text/plain": [
       "[1,\n",
       " 3.14,\n",
       " 'A',\n",
       " True,\n",
       " None,\n",
       " {'b': 2},\n",
       " ['c', 'd'],\n",
       " <function __main__.<lambda>(x)>]"
      ]
     },
     "execution_count": 1,
     "metadata": {},
     "output_type": "execute_result"
    }
   ],
   "source": [
    "[1, 3.14, 'A', True, None, {'b':2}, ['c','d'], lambda x: x*x]"
   ]
  },
  {
   "cell_type": "markdown",
   "metadata": {},
   "source": [
    "- 빈 리스트를 자주 생성한다\n",
    "- 가변 자료형이라 나중에 언제든지 데이터를 추가할 수 있기 때문"
   ]
  },
  {
   "cell_type": "code",
   "execution_count": 2,
   "metadata": {},
   "outputs": [
    {
     "data": {
      "text/plain": [
       "[]"
      ]
     },
     "execution_count": 2,
     "metadata": {},
     "output_type": "execute_result"
    }
   ],
   "source": [
    "[]"
   ]
  },
  {
   "cell_type": "code",
   "execution_count": 3,
   "metadata": {},
   "outputs": [
    {
     "data": {
      "text/plain": [
       "[]"
      ]
     },
     "execution_count": 3,
     "metadata": {},
     "output_type": "execute_result"
    }
   ],
   "source": [
    "list()"
   ]
  },
  {
   "cell_type": "code",
   "execution_count": 4,
   "metadata": {},
   "outputs": [
    {
     "name": "stdout",
     "output_type": "stream",
     "text": [
      "['C', 'B', 'A']\n",
      "[0, 1, 2, 3, 4, 5, 6, 7, 8, 9]\n",
      "[(0, 'A'), (1, 'B'), (2, 'C')]\n"
     ]
    }
   ],
   "source": [
    "# 다른 자료형을 리스트로 변환할 때 매우 요용하게 쓸 수 있다\n",
    "\n",
    "print(list({'A','B','C'})) # tuple -> list\n",
    "print(list(range(10))) # range 객체 -> list\n",
    "print(list(enumerate(['A','B','C']))) # enumerate 객체 -> list"
   ]
  },
  {
   "cell_type": "markdown",
   "metadata": {},
   "source": [
    "#### 데이터 추가"
   ]
  },
  {
   "cell_type": "markdown",
   "metadata": {},
   "source": [
    "- append()"
   ]
  },
  {
   "cell_type": "code",
   "execution_count": 5,
   "metadata": {},
   "outputs": [
    {
     "data": {
      "text/plain": [
       "['Apple', 'Banana', 'Cherry']"
      ]
     },
     "execution_count": 5,
     "metadata": {},
     "output_type": "execute_result"
    }
   ],
   "source": [
    "fruits = []\n",
    "fruits.append('Apple')\n",
    "fruits.append('Banana')\n",
    "fruits.append('Cherry')\n",
    "fruits"
   ]
  },
  {
   "cell_type": "markdown",
   "metadata": {},
   "source": [
    "- insert(index, value) : 데이터를 정확히 원하는 위치에 삽입할 수 있다."
   ]
  },
  {
   "cell_type": "code",
   "execution_count": 6,
   "metadata": {},
   "outputs": [
    {
     "data": {
      "text/plain": [
       "['Mongo', 'Apple', 'Banana', 'Cherry']"
      ]
     },
     "execution_count": 6,
     "metadata": {},
     "output_type": "execute_result"
    }
   ],
   "source": [
    "fruits.insert(0, 'Mongo')\n",
    "fruits"
   ]
  },
  {
   "cell_type": "markdown",
   "metadata": {},
   "source": [
    "여기서 append() 대신에 insert()를 사용할 때는 염두해야할 부분이 있다. <br>\n",
    "파이썬의 리스트는 다른 언어의 배열처럼 무작위 접근(random access)에 최적화된 자료구조이기 때문에 <br>\n",
    "**insert() 메서드를 사용하게 되면 기존에 배열 내에 있던 많은 원소를 뒤로 한 칸씩 밀어야 되서 성능상 불리하다.** <br><br>\n",
    "따라서, 많은 데이터가 저장된 리스트를 다루거나 성능에 민감한 프로그램에서는 가급적 insert()의 사용을 피하는 것이 좋으며, <br>\n",
    "원소를 리스트의 앞에서 넣을 일이 많다면 **deque**나 **Queue**와 같은 자료형을 고려하는 것이 좋다."
   ]
  },
  {
   "cell_type": "markdown",
   "metadata": {},
   "source": [
    "#### Indexing"
   ]
  },
  {
   "cell_type": "code",
   "execution_count": 7,
   "metadata": {},
   "outputs": [
    {
     "data": {
      "text/plain": [
       "'Mongo'"
      ]
     },
     "execution_count": 7,
     "metadata": {},
     "output_type": "execute_result"
    }
   ],
   "source": [
    "fruits[0]"
   ]
  },
  {
   "cell_type": "code",
   "execution_count": 8,
   "metadata": {},
   "outputs": [
    {
     "data": {
      "text/plain": [
       "'Cherry'"
      ]
     },
     "execution_count": 8,
     "metadata": {},
     "output_type": "execute_result"
    }
   ],
   "source": [
    "# negative index도 지원\n",
    "fruits[-1]"
   ]
  },
  {
   "cell_type": "markdown",
   "metadata": {},
   "source": [
    "#### Slicing"
   ]
  },
  {
   "cell_type": "code",
   "execution_count": 9,
   "metadata": {},
   "outputs": [
    {
     "data": {
      "text/plain": [
       "['Orange', 'Apple']"
      ]
     },
     "execution_count": 9,
     "metadata": {},
     "output_type": "execute_result"
    }
   ],
   "source": [
    "fruits = ['Mongo','Orange','Apple','Banana','Cherry']\n",
    "fruits[1:3]"
   ]
  },
  {
   "cell_type": "code",
   "execution_count": 10,
   "metadata": {},
   "outputs": [
    {
     "data": {
      "text/plain": [
       "['Mongo', 'Apple', 'Cherry']"
      ]
     },
     "execution_count": 10,
     "metadata": {},
     "output_type": "execute_result"
    }
   ],
   "source": [
    "# step 간격도 가능\n",
    "fruits[::2]"
   ]
  },
  {
   "cell_type": "code",
   "execution_count": 11,
   "metadata": {},
   "outputs": [
    {
     "data": {
      "text/plain": [
       "['Cherry', 'Banana', 'Apple', 'Orange', 'Mongo']"
      ]
     },
     "execution_count": 11,
     "metadata": {},
     "output_type": "execute_result"
    }
   ],
   "source": [
    "# 거꾸로 뒤집기 가능\n",
    "fruits[::-1]"
   ]
  },
  {
   "cell_type": "markdown",
   "metadata": {},
   "source": [
    "#### 데이터 갱신\n",
    "- index 활용하여 새로운 값을 할당하기만 하면 기존 값이 새로운 값으로 대체된다."
   ]
  },
  {
   "cell_type": "code",
   "execution_count": 12,
   "metadata": {},
   "outputs": [
    {
     "data": {
      "text/plain": [
       "['Mongo', 'Kiwi', 'Apple', 'Banana', 'Cherry']"
      ]
     },
     "execution_count": 12,
     "metadata": {},
     "output_type": "execute_result"
    }
   ],
   "source": [
    "fruits[1] = 'Kiwi'\n",
    "fruits"
   ]
  },
  {
   "cell_type": "code",
   "execution_count": 13,
   "metadata": {},
   "outputs": [
    {
     "data": {
      "text/plain": [
       "['Mongo', 'Kiwi', 'Lemon', 'Grape', 'Cherry']"
      ]
     },
     "execution_count": 13,
     "metadata": {},
     "output_type": "execute_result"
    }
   ],
   "source": [
    "# 슬라이싱 이용 가능\n",
    "fruits[2:4] = ['Lemon','Grape']\n",
    "fruits"
   ]
  },
  {
   "cell_type": "markdown",
   "metadata": {},
   "source": [
    "#### 데이터 삭제"
   ]
  },
  {
   "cell_type": "markdown",
   "metadata": {},
   "source": [
    "- remove()"
   ]
  },
  {
   "cell_type": "code",
   "execution_count": 14,
   "metadata": {},
   "outputs": [
    {
     "data": {
      "text/plain": [
       "['Mongo', 'Apple', 'Banana', 'Cherry']"
      ]
     },
     "execution_count": 14,
     "metadata": {},
     "output_type": "execute_result"
    }
   ],
   "source": [
    "fruits = ['Mongo','Kiwi','Apple','Banana','Cherry']\n",
    "fruits.remove('Kiwi')\n",
    "fruits"
   ]
  },
  {
   "cell_type": "markdown",
   "metadata": {},
   "source": [
    "- pop() \n",
    "    - 데이터를 리스트 내의 순서를 기준으로 삭제할 때는 pop() 메서드를 사용한다.\n",
    "    - **아무 인수도 넘기지 않으면 가장 최근에 넣은 맨 뒤에 있는 원소를 삭제하고 삭제된 원소를 반환한다.**"
   ]
  },
  {
   "cell_type": "code",
   "execution_count": 15,
   "metadata": {},
   "outputs": [
    {
     "data": {
      "text/plain": [
       "'Cherry'"
      ]
     },
     "execution_count": 15,
     "metadata": {},
     "output_type": "execute_result"
    }
   ],
   "source": [
    "fruits.pop()"
   ]
  },
  {
   "cell_type": "code",
   "execution_count": 16,
   "metadata": {},
   "outputs": [
    {
     "data": {
      "text/plain": [
       "'Apple'"
      ]
     },
     "execution_count": 16,
     "metadata": {},
     "output_type": "execute_result"
    }
   ],
   "source": [
    "# index를 넘기면 해당 위치에 있는 원소를 삭제해준다.\n",
    "fruits.pop(1)"
   ]
  },
  {
   "cell_type": "markdown",
   "metadata": {},
   "source": [
    "insert() 메서드와 마차가지로 pop() 메서드에 인덱스를 넘기면 성능 문제가 발생할 수 있다. <br>\n",
    "마찬가지로 원소가 사라진 자리를 매우기 위해 그 뒤에 있던 기존의 원소들을 앞으로 한칸씩 당겨하기 때문이다. <br><br>\n",
    "\n",
    "**참고로 삭제한 데이터를 얻고 싶지 않고 그냥 삭제만 하고 싶을 때는 del 연산자를 사용할 수 있다.**"
   ]
  },
  {
   "cell_type": "code",
   "execution_count": 17,
   "metadata": {},
   "outputs": [
    {
     "data": {
      "text/plain": [
       "['Mongo']"
      ]
     },
     "execution_count": 17,
     "metadata": {},
     "output_type": "execute_result"
    }
   ],
   "source": [
    "del fruits[1]\n",
    "fruits"
   ]
  },
  {
   "cell_type": "markdown",
   "metadata": {},
   "source": [
    "#### 리스트 순회\n",
    "- for loop 이용"
   ]
  },
  {
   "cell_type": "code",
   "execution_count": 18,
   "metadata": {},
   "outputs": [
    {
     "name": "stdout",
     "output_type": "stream",
     "text": [
      "Mongo\n",
      "Apple\n",
      "Banana\n"
     ]
    }
   ],
   "source": [
    "fruits = ['Mongo','Apple','Banana']\n",
    "\n",
    "for fruit in fruits:\n",
    "    print(fruit)"
   ]
  },
  {
   "cell_type": "code",
   "execution_count": 19,
   "metadata": {},
   "outputs": [
    {
     "name": "stdout",
     "output_type": "stream",
     "text": [
      "0 Mongo\n",
      "1 Apple\n",
      "2 Banana\n"
     ]
    }
   ],
   "source": [
    "# 만약 index와 value를 동시에 얻고 싶다면 enumerate() 함수를 활용하면 된다.\n",
    "for idx, fruit in enumerate(fruits):\n",
    "    print(idx, fruit)"
   ]
  },
  {
   "cell_type": "markdown",
   "metadata": {},
   "source": [
    "#### 데이터 존재 여부 확인\n",
    "- in 연산자를 사용"
   ]
  },
  {
   "cell_type": "code",
   "execution_count": 20,
   "metadata": {},
   "outputs": [
    {
     "data": {
      "text/plain": [
       "True"
      ]
     },
     "execution_count": 20,
     "metadata": {},
     "output_type": "execute_result"
    }
   ],
   "source": [
    "fruits = ['Mongo','Apple','Banana']\n",
    "\n",
    "'Apple' in fruits"
   ]
  },
  {
   "cell_type": "markdown",
   "metadata": {},
   "source": [
    "#### 리스트 병합\n",
    "- 여러 개의 리스트를 합쳐야할 때는 더하기(+) 연산자를 사용하면 된다."
   ]
  },
  {
   "cell_type": "code",
   "execution_count": 21,
   "metadata": {},
   "outputs": [
    {
     "data": {
      "text/plain": [
       "['A', 'B', 'C', 'D']"
      ]
     },
     "execution_count": 21,
     "metadata": {},
     "output_type": "execute_result"
    }
   ],
   "source": [
    "li1 = ['A','B']\n",
    "li2 = ['C','D']\n",
    "\n",
    "li1 + li2"
   ]
  },
  {
   "cell_type": "markdown",
   "metadata": {},
   "source": [
    "참고로 자바스크립트 개발자람ㄴ ...연산자와 비슷한 문법도 제공한다. <br>* 연산자를 사용하여, 대괄호 안에 합칠 리스트를 쉼표(,)로 구분하여 나열할 수 있다."
   ]
  },
  {
   "cell_type": "code",
   "execution_count": 22,
   "metadata": {},
   "outputs": [
    {
     "data": {
      "text/plain": [
       "['A', 'B', 'C', 'D']"
      ]
     },
     "execution_count": 22,
     "metadata": {},
     "output_type": "execute_result"
    }
   ],
   "source": [
    "[*li1, *li2]"
   ]
  },
  {
   "cell_type": "code",
   "execution_count": 23,
   "metadata": {},
   "outputs": [
    {
     "data": {
      "text/plain": [
       "[1, 2, 'A', 'B', 3, 4, 'C', 'D']"
      ]
     },
     "execution_count": 23,
     "metadata": {},
     "output_type": "execute_result"
    }
   ],
   "source": [
    "[1,2, *li1, 3,4, *li2]"
   ]
  },
  {
   "cell_type": "markdown",
   "metadata": {},
   "source": [
    "#### 리스트 복제\n",
    "- 곱하기(*) 연산자를 사용하면 같은 리스트를 여러번 복제할 수도 있다."
   ]
  },
  {
   "cell_type": "code",
   "execution_count": 24,
   "metadata": {},
   "outputs": [
    {
     "data": {
      "text/plain": [
       "['A', 'B', 'C', 'A', 'B', 'C']"
      ]
     },
     "execution_count": 24,
     "metadata": {},
     "output_type": "execute_result"
    }
   ],
   "source": [
    "li = ['A','B','C']\n",
    "li * 2"
   ]
  },
  {
   "cell_type": "markdown",
   "metadata": {},
   "source": [
    "#### 리스트 확장\n",
    "- 하나의 리스트에 다른 리스트의 모든 데이터를 추가하고 싶을 때는 **extend()** 메서드를 사용할 수 있다.\n",
    "- 대신 위의 단순 병합과는 달리 기존 리스트에 있는 데이터에 직접적인 변경이 가해지는 점을 주의해야 한다."
   ]
  },
  {
   "cell_type": "code",
   "execution_count": 25,
   "metadata": {},
   "outputs": [
    {
     "data": {
      "text/plain": [
       "['A', 'B', 'C', 'D']"
      ]
     },
     "execution_count": 25,
     "metadata": {},
     "output_type": "execute_result"
    }
   ],
   "source": [
    "li1 = ['A','B']\n",
    "li2 = ['C','D']\n",
    "\n",
    "li1.extend(li2)\n",
    "li1"
   ]
  },
  {
   "cell_type": "markdown",
   "metadata": {},
   "source": [
    "#### 리스트와 같이 쓸 수 있는 내장 함수\n",
    "- len()\n",
    "- min()\n",
    "- max()\n",
    "- ..."
   ]
  }
 ],
 "metadata": {
  "kernelspec": {
   "display_name": "Python 3",
   "language": "python",
   "name": "python3"
  },
  "language_info": {
   "codemirror_mode": {
    "name": "ipython",
    "version": 3
   },
   "file_extension": ".py",
   "mimetype": "text/x-python",
   "name": "python",
   "nbconvert_exporter": "python",
   "pygments_lexer": "ipython3",
   "version": "3.12.0"
  }
 },
 "nbformat": 4,
 "nbformat_minor": 2
}
