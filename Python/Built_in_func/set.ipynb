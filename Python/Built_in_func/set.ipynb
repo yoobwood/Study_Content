{
 "cells": [
  {
   "cell_type": "markdown",
   "metadata": {},
   "source": [
    "## 집합(Set)\n",
    "- set은 파이썬에서 고유한 값들의 집합을 다루는 자료구조\n",
    "- **이를 활용하면 데이터 중복을 제거하고 유일한 값들을 효과적으로 관리할 수 있다**"
   ]
  },
  {
   "cell_type": "markdown",
   "metadata": {},
   "source": [
    "### Set 자료구조\n",
    "set은 한마디로 **순서가 없는 중복되지 않은 데이터 집합**이다. (리스트와의 차이점을 이해하는 것이 중요) <br> <br>\n",
    "리스트는 데이터를 순서가 있게 저장한다. 그래서 인텍스(index)를 통해서 특정 위치에 저장되어 있는 데이터에 접근이 가능하다. <br>\n",
    "그리고 리스트에는 동일한 값을 여러번 저장할 수 있다. 값이 동일하더라도 인텍스가 틀리기 때문에 데이터의 중복이 문제되지 않는다. <br><br>\n",
    "반면, set은 데이터를 순서없이 저장한다. 따라서 리스트처럼 **인덱스를 통해서 접근할 수 없다.** <br>\n",
    "그리고 set은 중복된 데이터를 허용하지 않는다.<br>\n",
    "즉, 기존에 set에 있는 값을 또 추가해도 아무 효력이 발생하지 않는다.\n",
    " "
   ]
  },
  {
   "cell_type": "markdown",
   "metadata": {},
   "source": [
    "#### set 생성\n",
    "- set은 **set() 혹은 중괄호({})로 생성할 수 있다.**\n",
    "- 단, **빈 set을 생성할 때는 {}이 불가능**하다. (because, dictionary로 인식되기 때문에)"
   ]
  },
  {
   "cell_type": "code",
   "execution_count": 1,
   "metadata": {},
   "outputs": [
    {
     "data": {
      "text/plain": [
       "{'A', 'B', 'C'}"
      ]
     },
     "execution_count": 1,
     "metadata": {},
     "output_type": "execute_result"
    }
   ],
   "source": [
    "{'A','B','C'}"
   ]
  },
  {
   "cell_type": "code",
   "execution_count": 3,
   "metadata": {},
   "outputs": [
    {
     "data": {
      "text/plain": [
       "dict"
      ]
     },
     "execution_count": 3,
     "metadata": {},
     "output_type": "execute_result"
    }
   ],
   "source": [
    "# dict\n",
    "empty = {}\n",
    "type(empty)"
   ]
  },
  {
   "cell_type": "code",
   "execution_count": 4,
   "metadata": {},
   "outputs": [
    {
     "data": {
      "text/plain": [
       "set"
      ]
     },
     "execution_count": 4,
     "metadata": {},
     "output_type": "execute_result"
    }
   ],
   "source": [
    "# 빈 set을 생성할 때는 set() 내장 클래스를 사용해야 한다\n",
    "empty = set()\n",
    "type(empty)"
   ]
  },
  {
   "cell_type": "markdown",
   "metadata": {},
   "source": [
    "#### 값 추가\n",
    "- 새로운 값을 추가할 때는 **add()** 메서드를 사용한다."
   ]
  },
  {
   "cell_type": "code",
   "execution_count": 5,
   "metadata": {},
   "outputs": [
    {
     "data": {
      "text/plain": [
       "{1, 2, 3}"
      ]
     },
     "execution_count": 5,
     "metadata": {},
     "output_type": "execute_result"
    }
   ],
   "source": [
    "num_set = set()\n",
    "\n",
    "num_set.add(1)\n",
    "num_set.add(2)\n",
    "num_set.add(3)\n",
    "\n",
    "num_set"
   ]
  },
  {
   "cell_type": "markdown",
   "metadata": {},
   "source": [
    "#### 값 삭제\n",
    "- **remove()** 메서드를 사용하면 특정 값을 삭제할 수 있다."
   ]
  },
  {
   "cell_type": "code",
   "execution_count": 9,
   "metadata": {},
   "outputs": [
    {
     "data": {
      "text/plain": [
       "{2, 3}"
      ]
     },
     "execution_count": 9,
     "metadata": {},
     "output_type": "execute_result"
    }
   ],
   "source": [
    "num_set = {1,2,3}\n",
    "\n",
    "num_set.remove(1)\n",
    "num_set"
   ]
  },
  {
   "cell_type": "code",
   "execution_count": 10,
   "metadata": {},
   "outputs": [
    {
     "data": {
      "text/plain": [
       "{2}"
      ]
     },
     "execution_count": 10,
     "metadata": {},
     "output_type": "execute_result"
    }
   ],
   "source": [
    "num_set.remove(3)\n",
    "num_set"
   ]
  },
  {
   "cell_type": "code",
   "execution_count": 11,
   "metadata": {},
   "outputs": [
    {
     "ename": "KeyError",
     "evalue": "1",
     "output_type": "error",
     "traceback": [
      "\u001b[0;31m---------------------------------------------------------------------------\u001b[0m",
      "\u001b[0;31mKeyError\u001b[0m                                  Traceback (most recent call last)",
      "Cell \u001b[0;32mIn[11], line 2\u001b[0m\n\u001b[1;32m      1\u001b[0m \u001b[38;5;66;03m# 존재하지 않는 값을 넣으면 오류 발생\u001b[39;00m\n\u001b[0;32m----> 2\u001b[0m \u001b[43mnum_set\u001b[49m\u001b[38;5;241;43m.\u001b[39;49m\u001b[43mremove\u001b[49m\u001b[43m(\u001b[49m\u001b[38;5;241;43m1\u001b[39;49m\u001b[43m)\u001b[49m\n\u001b[1;32m      3\u001b[0m num_set\n",
      "\u001b[0;31mKeyError\u001b[0m: 1"
     ]
    }
   ],
   "source": [
    "# 존재하지 않는 값을 넣으면 오류 발생\n",
    "num_set.remove(1)\n",
    "num_set"
   ]
  },
  {
   "cell_type": "markdown",
   "metadata": {},
   "source": [
    "- **discard()** 메서드를 사용하면 값이 set에 존재하지 않아도 오류가 발생하지 않는다.\n",
    "- 대신 아무일도 일어나지 않는다."
   ]
  },
  {
   "cell_type": "code",
   "execution_count": 12,
   "metadata": {},
   "outputs": [
    {
     "data": {
      "text/plain": [
       "{2}"
      ]
     },
     "execution_count": 12,
     "metadata": {},
     "output_type": "execute_result"
    }
   ],
   "source": [
    "num_set.discard(1)\n",
    "num_set"
   ]
  },
  {
   "cell_type": "markdown",
   "metadata": {},
   "source": [
    "#### 값 존재 여부 확인\n",
    "- **in** 연산자를 사용하면 특정 값이 세트에 존재하는지 쉽게 확인할 수 있다."
   ]
  },
  {
   "cell_type": "code",
   "execution_count": 15,
   "metadata": {},
   "outputs": [
    {
     "name": "stdout",
     "output_type": "stream",
     "text": [
      "True\n",
      "False\n",
      "True\n"
     ]
    }
   ],
   "source": [
    "char_set = {'A','B','C'}\n",
    "\n",
    "print('B' in char_set)\n",
    "print('D' in char_set)\n",
    "print('D' not in char_set)\n"
   ]
  },
  {
   "cell_type": "markdown",
   "metadata": {},
   "source": [
    "#### 모든 값 제거\n",
    "- set에 저장된 모든 값을 제거하려면 **clear()** 메서드를 호출한다"
   ]
  },
  {
   "cell_type": "code",
   "execution_count": 16,
   "metadata": {},
   "outputs": [
    {
     "data": {
      "text/plain": [
       "set()"
      ]
     },
     "execution_count": 16,
     "metadata": {},
     "output_type": "execute_result"
    }
   ],
   "source": [
    "char_set = {'A','B','C'}\n",
    "\n",
    "char_set.clear()\n",
    "\n",
    "char_set"
   ]
  },
  {
   "cell_type": "markdown",
   "metadata": {},
   "source": [
    "#### set 순회\n",
    "- set에 저장되어 있는 모든 값을 순회하고 싶을 때는 for loop 안에서 in 연산자를 사용하면 된다.\n",
    "- 단, set은 값을 순서없이 저장하기 때문에 **반복문 안에서 어떤 값이 먼저 나올지는 예측할 수 없다.**\n",
    "- 값의 순서가 중요하다면 set 대신 list를 써야 한다."
   ]
  },
  {
   "cell_type": "code",
   "execution_count": 18,
   "metadata": {},
   "outputs": [
    {
     "name": "stdout",
     "output_type": "stream",
     "text": [
      "B\n",
      "C\n",
      "A\n"
     ]
    }
   ],
   "source": [
    "char_set = {'A','B','C'}\n",
    "\n",
    "for char in char_set:\n",
    "    print(char)"
   ]
  },
  {
   "cell_type": "markdown",
   "metadata": {},
   "source": [
    "#### set의 동등성\n",
    "- 값이 순서가 다르더라도 같은 값을 담고 있다면 동일한 set으로 취급 된다."
   ]
  },
  {
   "cell_type": "code",
   "execution_count": 19,
   "metadata": {},
   "outputs": [
    {
     "data": {
      "text/plain": [
       "True"
      ]
     },
     "execution_count": 19,
     "metadata": {},
     "output_type": "execute_result"
    }
   ],
   "source": [
    "{'A','B','C'} == {'A','C','B'}"
   ]
  },
  {
   "cell_type": "code",
   "execution_count": 20,
   "metadata": {},
   "outputs": [
    {
     "data": {
      "text/plain": [
       "True"
      ]
     },
     "execution_count": 20,
     "metadata": {},
     "output_type": "execute_result"
    }
   ],
   "source": [
    "# 중복된 값도 무시되어 비교된다!\n",
    "{'A','B'} == {'A','A','B','B'}"
   ]
  },
  {
   "cell_type": "markdown",
   "metadata": {},
   "source": [
    "#### List -> Set"
   ]
  },
  {
   "cell_type": "code",
   "execution_count": 22,
   "metadata": {},
   "outputs": [
    {
     "data": {
      "text/plain": [
       "{1, 2, 3}"
      ]
     },
     "execution_count": 22,
     "metadata": {},
     "output_type": "execute_result"
    }
   ],
   "source": [
    "# 중복 값이 모두 제거되어 set로!!\n",
    "nums = [1,2,2,3,3,3]\n",
    "num_set = set(nums)\n",
    "num_set"
   ]
  },
  {
   "cell_type": "markdown",
   "metadata": {},
   "source": [
    "#### Set -> List"
   ]
  },
  {
   "cell_type": "code",
   "execution_count": 23,
   "metadata": {},
   "outputs": [
    {
     "data": {
      "text/plain": [
       "[1, 2, 3]"
      ]
     },
     "execution_count": 23,
     "metadata": {},
     "output_type": "execute_result"
    }
   ],
   "source": [
    "num_set = {1,2,3}\n",
    "nums = list(num_set)\n",
    "nums"
   ]
  },
  {
   "cell_type": "markdown",
   "metadata": {},
   "source": [
    "#### 리스트에서 중복 값 제거\n",
    "- set는 중복 값을 허용하지 않기 때문에, 리스트에서 중복된 값을 제거하는 데에 매우 유용하게 활용된다."
   ]
  },
  {
   "cell_type": "code",
   "execution_count": 24,
   "metadata": {},
   "outputs": [
    {
     "data": {
      "text/plain": [
       "[1, 2, 3, 4, 5]"
      ]
     },
     "execution_count": 24,
     "metadata": {},
     "output_type": "execute_result"
    }
   ],
   "source": [
    "numbers = [1,2,2,3,4,4,5]\n",
    "unique_numbers  = list(set(numbers))\n",
    "unique_numbers"
   ]
  },
  {
   "cell_type": "markdown",
   "metadata": {},
   "source": [
    "#### 문자열에서 중복 문자 제거"
   ]
  },
  {
   "cell_type": "code",
   "execution_count": 26,
   "metadata": {},
   "outputs": [
    {
     "data": {
      "text/plain": [
       "'BCA'"
      ]
     },
     "execution_count": 26,
     "metadata": {},
     "output_type": "execute_result"
    }
   ],
   "source": [
    "chars = 'AAABBC'\n",
    "unique_chars = \"\".join(set(chars))\n",
    "unique_chars # 역시 문자의 순서는 예측할 수 없다."
   ]
  },
  {
   "cell_type": "markdown",
   "metadata": {},
   "source": [
    "#### 집합 연산\n",
    "- 합집합, 교집찹, 차집합을 구할 수 있다."
   ]
  },
  {
   "cell_type": "code",
   "execution_count": 27,
   "metadata": {},
   "outputs": [],
   "source": [
    "set1 = {1,2,3,4,5}\n",
    "set2 = {4,5,6,7,8}"
   ]
  },
  {
   "cell_type": "code",
   "execution_count": 28,
   "metadata": {},
   "outputs": [
    {
     "data": {
      "text/plain": [
       "{1, 2, 3, 4, 5, 6, 7, 8}"
      ]
     },
     "execution_count": 28,
     "metadata": {},
     "output_type": "execute_result"
    }
   ],
   "source": [
    "# 합집합 ( or )\n",
    "union = set1 | set2\n",
    "union "
   ]
  },
  {
   "cell_type": "code",
   "execution_count": 29,
   "metadata": {},
   "outputs": [
    {
     "data": {
      "text/plain": [
       "{4, 5}"
      ]
     },
     "execution_count": 29,
     "metadata": {},
     "output_type": "execute_result"
    }
   ],
   "source": [
    "# 교집합 ( and )\n",
    "intersection = set1 & set2\n",
    "intersection"
   ]
  },
  {
   "cell_type": "code",
   "execution_count": 30,
   "metadata": {},
   "outputs": [
    {
     "data": {
      "text/plain": [
       "{1, 2, 3}"
      ]
     },
     "execution_count": 30,
     "metadata": {},
     "output_type": "execute_result"
    }
   ],
   "source": [
    "# 차집합 ( sub )\n",
    "difference = set1 - set2\n",
    "difference"
   ]
  },
  {
   "cell_type": "code",
   "execution_count": null,
   "metadata": {},
   "outputs": [],
   "source": []
  }
 ],
 "metadata": {
  "kernelspec": {
   "display_name": "Python 3",
   "language": "python",
   "name": "python3"
  },
  "language_info": {
   "codemirror_mode": {
    "name": "ipython",
    "version": 3
   },
   "file_extension": ".py",
   "mimetype": "text/x-python",
   "name": "python",
   "nbconvert_exporter": "python",
   "pygments_lexer": "ipython3",
   "version": "3.12.0"
  }
 },
 "nbformat": 4,
 "nbformat_minor": 2
}
