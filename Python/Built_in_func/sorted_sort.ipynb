{
 "cells": [
  {
   "cell_type": "markdown",
   "metadata": {},
   "source": [
    "## sorted() 내장 함수\n",
    "- 순회 가능한(iterable) 객체를 인자로 받아 데이터를 **정렬**해줄 수 있다.\n",
    "- Default 값은 **오름차순**이다."
   ]
  },
  {
   "cell_type": "code",
   "execution_count": 1,
   "metadata": {},
   "outputs": [
    {
     "data": {
      "text/plain": [
       "[1, 2, 3, 4, 5]"
      ]
     },
     "execution_count": 1,
     "metadata": {},
     "output_type": "execute_result"
    }
   ],
   "source": [
    "sorted([3,5,2,1,4])"
   ]
  },
  {
   "cell_type": "code",
   "execution_count": 2,
   "metadata": {},
   "outputs": [
    {
     "data": {
      "text/plain": [
       "['A', 'B', 'C', 'D', 'E']"
      ]
     },
     "execution_count": 2,
     "metadata": {},
     "output_type": "execute_result"
    }
   ],
   "source": [
    "sorted(['D','A','C','B','E'])"
   ]
  },
  {
   "cell_type": "markdown",
   "metadata": {},
   "source": [
    "- sorted() 내장 함수는 인자로 넘어온 객체의 **원래 순서를 건드리지 않고 정렬된 원소들을 새로운 객체에 담아서 반환**해준다."
   ]
  },
  {
   "cell_type": "code",
   "execution_count": 4,
   "metadata": {},
   "outputs": [
    {
     "name": "stdout",
     "output_type": "stream",
     "text": [
      "[3, 5, 2, 1, 4]\n",
      "[1, 2, 3, 4, 5]\n"
     ]
    }
   ],
   "source": [
    "nums = [3,5,2,1,4]\n",
    "sorted_nums = sorted(nums)\n",
    "\n",
    "print(nums)\n",
    "print(sorted_nums)"
   ]
  },
  {
   "cell_type": "markdown",
   "metadata": {},
   "source": [
    "- 파이썬에서는 리스트(list) 뿐만 아니라, 튜플(tuple), 집합(set), 문자열(string)과 같은 다른 자료형도 iterable함. 따라서 이러한 자료형도 넣을 수 있음.\n",
    "- 그러나, 주의할 점은 **입력 자료형과 무방하게 항상 리스트가 반환된다**"
   ]
  },
  {
   "cell_type": "code",
   "execution_count": 5,
   "metadata": {},
   "outputs": [
    {
     "data": {
      "text/plain": [
       "[1, 2, 3, 4, 5]"
      ]
     },
     "execution_count": 5,
     "metadata": {},
     "output_type": "execute_result"
    }
   ],
   "source": [
    "sorted((3,5,2,1,4))"
   ]
  },
  {
   "cell_type": "code",
   "execution_count": 6,
   "metadata": {},
   "outputs": [
    {
     "data": {
      "text/plain": [
       "[1, 2, 3, 4, 5]"
      ]
     },
     "execution_count": 6,
     "metadata": {},
     "output_type": "execute_result"
    }
   ],
   "source": [
    "sorted({3,5,2,1,4})"
   ]
  },
  {
   "cell_type": "code",
   "execution_count": 8,
   "metadata": {},
   "outputs": [
    {
     "data": {
      "text/plain": [
       "['1', '2', '3', '4', '5']"
      ]
     },
     "execution_count": 8,
     "metadata": {},
     "output_type": "execute_result"
    }
   ],
   "source": [
    "# 문자열이 인자로 넘어왔을 때는 각 문자를 마치 리스트의 원소처럼 다루어 정렬후에 새로운 리스트에 담아 준다.\n",
    "sorted('35214')"
   ]
  },
  {
   "cell_type": "markdown",
   "metadata": {},
   "source": [
    "- 리스트 대신에 다른 문자열의 형태로 결과를 얻고 싶다면 문자열의 join() 함수를 사용하면 된다."
   ]
  },
  {
   "cell_type": "code",
   "execution_count": 11,
   "metadata": {},
   "outputs": [
    {
     "data": {
      "text/plain": [
       "'12345'"
      ]
     },
     "execution_count": 11,
     "metadata": {},
     "output_type": "execute_result"
    }
   ],
   "source": [
    "''.join(sorted('35214'))"
   ]
  },
  {
   "cell_type": "markdown",
   "metadata": {},
   "source": [
    "- 자료형이 다른 인자는 오류를 발생시킨다\n",
    "- 즉, 논리적으로 **대소 비교가 가능해야(comparable)**한다."
   ]
  },
  {
   "cell_type": "code",
   "execution_count": 13,
   "metadata": {},
   "outputs": [
    {
     "ename": "TypeError",
     "evalue": "'<' not supported between instances of 'int' and 'str'",
     "output_type": "error",
     "traceback": [
      "\u001b[0;31m---------------------------------------------------------------------------\u001b[0m",
      "\u001b[0;31mTypeError\u001b[0m                                 Traceback (most recent call last)",
      "Cell \u001b[0;32mIn[13], line 1\u001b[0m\n\u001b[0;32m----> 1\u001b[0m \u001b[38;5;28;43msorted\u001b[39;49m\u001b[43m(\u001b[49m\u001b[43m[\u001b[49m\u001b[38;5;124;43m'\u001b[39;49m\u001b[38;5;124;43m2\u001b[39;49m\u001b[38;5;124;43m'\u001b[39;49m\u001b[43m,\u001b[49m\u001b[43m \u001b[49m\u001b[38;5;241;43m1\u001b[39;49m\u001b[43m]\u001b[49m\u001b[43m)\u001b[49m\n",
      "\u001b[0;31mTypeError\u001b[0m: '<' not supported between instances of 'int' and 'str'"
     ]
    }
   ],
   "source": [
    "sorted(['2', 1])"
   ]
  },
  {
   "cell_type": "code",
   "execution_count": 14,
   "metadata": {},
   "outputs": [
    {
     "ename": "TypeError",
     "evalue": "'<' not supported between instances of 'NoneType' and 'int'",
     "output_type": "error",
     "traceback": [
      "\u001b[0;31m---------------------------------------------------------------------------\u001b[0m",
      "\u001b[0;31mTypeError\u001b[0m                                 Traceback (most recent call last)",
      "Cell \u001b[0;32mIn[14], line 3\u001b[0m\n\u001b[1;32m      1\u001b[0m \u001b[38;5;66;03m# None은 어떤 데이터와도 대소비교를 할 수 없다\u001b[39;00m\n\u001b[1;32m      2\u001b[0m nums \u001b[38;5;241m=\u001b[39m [\u001b[38;5;241m3\u001b[39m,\u001b[38;5;241m5\u001b[39m,\u001b[38;5;241m2\u001b[39m,\u001b[38;5;28;01mNone\u001b[39;00m,\u001b[38;5;241m1\u001b[39m,\u001b[38;5;241m4\u001b[39m]\n\u001b[0;32m----> 3\u001b[0m \u001b[38;5;28;43msorted\u001b[39;49m\u001b[43m(\u001b[49m\u001b[43mnums\u001b[49m\u001b[43m)\u001b[49m\n",
      "\u001b[0;31mTypeError\u001b[0m: '<' not supported between instances of 'NoneType' and 'int'"
     ]
    }
   ],
   "source": [
    "# None은 어떤 데이터와도 대소비교를 할 수 없다\n",
    "nums = [3,5,2,None,1,4]\n",
    "sorted(nums)"
   ]
  },
  {
   "cell_type": "code",
   "execution_count": 15,
   "metadata": {},
   "outputs": [
    {
     "data": {
      "text/plain": [
       "[1, 2, 3, 4, 5]"
      ]
     },
     "execution_count": 15,
     "metadata": {},
     "output_type": "execute_result"
    }
   ],
   "source": [
    "# sorted() 함수를 호출하기 전에 None을 제거해주면 위의 문제를 미연에 방지할 수 있다\n",
    "sorted([num for num in nums if num])"
   ]
  },
  {
   "cell_type": "markdown",
   "metadata": {},
   "source": [
    "- sorted() 내장 함수는 기본적으로 오름차순 정렬이다.\n",
    "- **reverse** 옵션을 사용하면 **내림차순**으로 정렬된다."
   ]
  },
  {
   "cell_type": "code",
   "execution_count": 17,
   "metadata": {},
   "outputs": [
    {
     "data": {
      "text/plain": [
       "[5, 4, 3, 2, 1]"
      ]
     },
     "execution_count": 17,
     "metadata": {},
     "output_type": "execute_result"
    }
   ],
   "source": [
    "sorted([3,5,2,1,4], reverse=True)"
   ]
  },
  {
   "cell_type": "markdown",
   "metadata": {},
   "source": [
    "### 정렬 기준 지정하기\n",
    "- 숫자나 문자가 아닌 dict나 클래스의 객체와 같이 좀 더 복잡한 구조의 데이터를 정렬할 때 특별한 기준이 필요하다.\n",
    "- 정렬 기준을 설정하려면 sorted() 함수의 **key** 옵션을 사용해야한다.\n",
    "- key 옵션에 **함수**를 지정하면 각 원소에 이 함수를 호출한 결과를 기준으로 대소비교를 하게된다."
   ]
  },
  {
   "cell_type": "code",
   "execution_count": 18,
   "metadata": {},
   "outputs": [],
   "source": [
    "countries = [\n",
    "  {'code': 'KR', 'name': 'Korea'},\n",
    "  {'code': 'CA', 'name': 'Canada'},\n",
    "  {'code': 'US', 'name': 'United States'},\n",
    "  {'code': 'GB', 'name': 'United Kingdom'},\n",
    "  {'code': 'CN', 'name': 'China'}\n",
    "]"
   ]
  },
  {
   "cell_type": "code",
   "execution_count": 22,
   "metadata": {},
   "outputs": [
    {
     "data": {
      "text/plain": [
       "[{'code': 'CA', 'name': 'Canada'},\n",
       " {'code': 'CN', 'name': 'China'},\n",
       " {'code': 'GB', 'name': 'United Kingdom'},\n",
       " {'code': 'KR', 'name': 'Korea'},\n",
       " {'code': 'US', 'name': 'United States'}]"
      ]
     },
     "execution_count": 22,
     "metadata": {},
     "output_type": "execute_result"
    }
   ],
   "source": [
    "# 예를 들어, 국가 코드를 기준으로 정렬해보자.\n",
    "sorted(countries, key=lambda country: country['code'])"
   ]
  },
  {
   "cell_type": "markdown",
   "metadata": {},
   "source": [
    "- key 옵션은 서로 다른 자료형의 데이터를 정렬할 때도 활용할 수 있다."
   ]
  },
  {
   "cell_type": "code",
   "execution_count": 23,
   "metadata": {},
   "outputs": [
    {
     "data": {
      "text/plain": [
       "[1, '2']"
      ]
     },
     "execution_count": 23,
     "metadata": {},
     "output_type": "execute_result"
    }
   ],
   "source": [
    "# key 옵션에 int 함수를 넘겨서 모든 데이터가 숫자로 취급되어 비교되기 때문에 정렬이 가능해진다\n",
    "sorted(['2',1], key=int)"
   ]
  },
  {
   "cell_type": "markdown",
   "metadata": {},
   "source": [
    "## 리스트의 sort() 함수\n",
    "- 새로운 리스트를 생성하지 않고 기존 리스트 내의 원소간에 순서를 바꿔서, 소위 **in-place 정렬**을 해준다.\n",
    "- sorted() 내장 함수처럼 새로운 리스트를 반환해줄 필요가 없으므로 **sort() 함수는 항상 None을 반환**한다."
   ]
  },
  {
   "cell_type": "code",
   "execution_count": 25,
   "metadata": {},
   "outputs": [],
   "source": [
    "nums = [3,5,2,1,4]\n",
    "nums.sort()"
   ]
  },
  {
   "cell_type": "code",
   "execution_count": 26,
   "metadata": {},
   "outputs": [
    {
     "name": "stdout",
     "output_type": "stream",
     "text": [
      "[1, 2, 3, 4, 5]\n"
     ]
    }
   ],
   "source": [
    "print(nums)"
   ]
  },
  {
   "cell_type": "markdown",
   "metadata": {},
   "source": [
    "- sort() 함수는 원본 데이터의 순서를 그대로 보존해야하는 상황에서 쓰면 데이터 순ㄴ서가 틀어져서 난감해질 수 있다\n",
    "- 하지만 리스트의 sort() 함수는 sorted() 내장 함수 대비 **메모리 사용량 측면에서 유리하다**\n",
    "- sorted() 함수처럼 입력 데이터와 동일한 크기의 리스트를 새로 만들 필요가 없기 때문이다\n",
    "- sort() 함수도 reverse와 key 옵션을 동일한 방법으로 사용할 수 있다"
   ]
  },
  {
   "cell_type": "code",
   "execution_count": 27,
   "metadata": {},
   "outputs": [
    {
     "name": "stdout",
     "output_type": "stream",
     "text": [
      "[5, 4, -3, -2, -1]\n"
     ]
    }
   ],
   "source": [
    "# 예를 들어, 양수와 음수가 섞여 있는 리스트를 절대값 기준으로 내림차순 정렬하기\n",
    "nums = [-3,5,-2,-1,4]\n",
    "nums.sort(reverse=True, key=abs)\n",
    "print(nums)"
   ]
  },
  {
   "cell_type": "code",
   "execution_count": null,
   "metadata": {},
   "outputs": [],
   "source": []
  }
 ],
 "metadata": {
  "kernelspec": {
   "display_name": "Python 3",
   "language": "python",
   "name": "python3"
  },
  "language_info": {
   "codemirror_mode": {
    "name": "ipython",
    "version": 3
   },
   "file_extension": ".py",
   "mimetype": "text/x-python",
   "name": "python",
   "nbconvert_exporter": "python",
   "pygments_lexer": "ipython3",
   "version": "3.12.0"
  }
 },
 "nbformat": 4,
 "nbformat_minor": 2
}
