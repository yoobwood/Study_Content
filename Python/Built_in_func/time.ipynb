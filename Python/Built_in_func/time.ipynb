{
 "cells": [
  {
   "cell_type": "markdown",
   "metadata": {},
   "source": [
    "### Epoch Time\n",
    "\n",
    "파이썬의 time 내장 모듈은 주로 epoch time(Unix time, POSIX time)을 다룰 때 사용한다.<br>\n",
    "epoch time은 UTC(GMT+0) 기준으로 1970년 1월 1일 0시 0분 0초부터의 경과 시간을 나타내는데 <br>\n",
    "흔히 **timestamp**라고 불리기도 한다. <br>"
   ]
  },
  {
   "cell_type": "markdown",
   "metadata": {},
   "source": [
    "###  struct_time 객체\n",
    "\n",
    "컴퓨터 친화적인 Unix timestamp 값은 인간에게는 직관적이지 않다. <br>\n",
    "예를 들어, timestamp 12423523.323342를 보고 무슨 날짜와 시간을 나타내는지를 바로 알아차릴 수 있는 사람은 많지 않을 것이다. \n",
    "<br><br>\n",
    "\n",
    "따라서, time 모듈은 timestamp가 주어졌을 때, 날짜와 시간을 알아내기 위한 API를 제공한다. <br>\n",
    "이를 위해 time 모듈은 내부적으로 날짜와 시간을 표현하기 위해서 9개의 속성을 갖는 struct_time 객체를 사용한다.\n",
    "<br><br>\n",
    "\n",
    "|이름|값|비고|\n",
    "|:--|:--|:--|\n",
    "|tm_year|연|예: 1993,2019|\n",
    "|tm_mon|달|1~12|\n",
    "|tm_mday|일|1~31|\n",
    "|tm_hour|시|0~23|\n",
    "|tm_min|분|0~59|\n",
    "|tm_sec|초|0~61|\n",
    "|tm_wday|요일|0~6(0:월요일)|\n",
    "|tm_yday|연중 경과일|1~366|\n",
    "|tm_isdst|일광절약타임 적용여부|0:미적용, 1:적용, -1:모름|"
   ]
  },
  {
   "cell_type": "markdown",
   "metadata": {},
   "source": [
    "### time() 함수: 현재 timestamp 얻기\n",
    "- time 함수는 현재 Unix timestamp를 소수로 리턴\n",
    "- 정수부는 초단위이고, 소수부는 마이크로(micro)초단위이다."
   ]
  },
  {
   "cell_type": "code",
   "execution_count": 2,
   "metadata": {},
   "outputs": [
    {
     "data": {
      "text/plain": [
       "1719383197.535975"
      ]
     },
     "execution_count": 2,
     "metadata": {},
     "output_type": "execute_result"
    }
   ],
   "source": [
    "from time import time \n",
    "\n",
    "time()"
   ]
  },
  {
   "cell_type": "markdown",
   "metadata": {},
   "source": [
    "### gmtime(), localtime() 함수: timestamp를 struct_time 객체로 변환"
   ]
  },
  {
   "cell_type": "markdown",
   "metadata": {},
   "source": [
    "gmtime() 함수는 주어진 timestamp 값을 GMT 기준의 struct_time 타입 데이터로 변환해준다."
   ]
  },
  {
   "cell_type": "code",
   "execution_count": 3,
   "metadata": {},
   "outputs": [
    {
     "data": {
      "text/plain": [
       "time.struct_time(tm_year=2024, tm_mon=6, tm_mday=26, tm_hour=6, tm_min=26, tm_sec=37, tm_wday=2, tm_yday=178, tm_isdst=0)"
      ]
     },
     "execution_count": 3,
     "metadata": {},
     "output_type": "execute_result"
    }
   ],
   "source": [
    "from time import gmtime\n",
    "\n",
    "gmtime(1719383197.535975)"
   ]
  },
  {
   "cell_type": "markdown",
   "metadata": {},
   "source": [
    "localtime() 함수는 주어진 timestamp 값을 현지 시간대 기준의 struct_time 타입 데이터로 변환해준다."
   ]
  },
  {
   "cell_type": "code",
   "execution_count": 4,
   "metadata": {},
   "outputs": [
    {
     "name": "stdout",
     "output_type": "stream",
     "text": [
      "year: 2024\n",
      "month: 6\n",
      "day: 26\n",
      "hour: 15\n",
      "minute: 26\n",
      "second: 37\n"
     ]
    }
   ],
   "source": [
    "from time import localtime\n",
    "\n",
    "tm = localtime(1719383197.535975)\n",
    "\n",
    "print('year:', tm.tm_year)\n",
    "print('month:', tm.tm_mon)\n",
    "print('day:', tm.tm_mday)\n",
    "print('hour:', tm.tm_hour)\n",
    "print('minute:', tm.tm_min)\n",
    "print('second:', tm.tm_sec)"
   ]
  },
  {
   "cell_type": "markdown",
   "metadata": {},
   "source": [
    "### ctime() 함수: timestamp를 문자열로 변환\n",
    "\n",
    "ctime() 함수는 주어진 timestamp를 현지 시간대 기준으로 소위 미국에서 흔히 사용되는 **요일 일 시:분:초 년** 포맷으로 변환해준다. <br>\n",
    "그냥 간단하게 timestamp가 나타내는 날짜와 시간을 확인해보는 용도로 쓰기에 좋다."
   ]
  },
  {
   "cell_type": "code",
   "execution_count": 5,
   "metadata": {},
   "outputs": [
    {
     "data": {
      "text/plain": [
       "'Wed Jun 26 15:26:37 2024'"
      ]
     },
     "execution_count": 5,
     "metadata": {},
     "output_type": "execute_result"
    }
   ],
   "source": [
    "from time import ctime\n",
    "\n",
    "ctime(1719383197.535975)"
   ]
  },
  {
   "cell_type": "markdown",
   "metadata": {},
   "source": [
    "### strftime() 함수: struct_time 객체를 특정 포맷의 문자열로 변환\n",
    "\n",
    "strftime() 함수는 ctime() 함수처럼 정해진 포맷이 아닌 다양한 포맷의 문자열 변환이 가능하게 해준다. <br>\n",
    "첫번째 인자로 포맷을 넘기고, <br>\n",
    "두번째 인자로 timestamp가 아닌 struct_time 객체를 받으므로 주의해야 한다. <br>\n",
    "gmtime()이나 localtime() 같은 함수를 사용해서 struct_time 객체를 확보 후에 넘겨야 한다."
   ]
  },
  {
   "cell_type": "markdown",
   "metadata": {},
   "source": [
    "파이썬 공식 포맷 레퍼런스 : https://docs.python.org/3.8/library/time.html#time.strftime"
   ]
  },
  {
   "cell_type": "code",
   "execution_count": 6,
   "metadata": {},
   "outputs": [
    {
     "data": {
      "text/plain": [
       "'2024-06-26 03:26:37 PM'"
      ]
     },
     "execution_count": 6,
     "metadata": {},
     "output_type": "execute_result"
    }
   ],
   "source": [
    "from time import strftime \n",
    "\n",
    "tm = localtime(1719383197.535975)\n",
    "strftime('%Y-%m-%d %I:%M:%S %p', tm)"
   ]
  },
  {
   "cell_type": "markdown",
   "metadata": {},
   "source": [
    "### strptime() 함수: 특정 포맷의 문자열을 struct_time 객체로 변환\n",
    "\n",
    "strftime() 함수와 정반대로 특정 포맷의 문자열을 struct_time 객체로 변환을 해준다. <br>\n",
    "첫번째 인자로 문자열을 받고, 두번째 인자로 날짜/시간 포맷을 받는다."
   ]
  },
  {
   "cell_type": "code",
   "execution_count": 7,
   "metadata": {},
   "outputs": [
    {
     "data": {
      "text/plain": [
       "time.struct_time(tm_year=2024, tm_mon=6, tm_mday=26, tm_hour=15, tm_min=46, tm_sec=30, tm_wday=2, tm_yday=178, tm_isdst=-1)"
      ]
     },
     "execution_count": 7,
     "metadata": {},
     "output_type": "execute_result"
    }
   ],
   "source": [
    "from time import strptime\n",
    "\n",
    "string = '2024-6-26 03:46:30 PM'\n",
    "strptime(string, '%Y-%m-%d %I:%M:%S %p')"
   ]
  },
  {
   "cell_type": "markdown",
   "metadata": {},
   "source": [
    "### sleep() 함수: 일정 시간동안 실행 지연 시키기\n",
    "\n",
    "프로그램의 실행을 일정 시간동안 지연시키고 싶을 때 사용된다. <br>\n",
    "지연시키고 싶은 시간을 초단위로 넘기면, 그 시간동안 프로그램의 실행이 멈췄다가 다시 실행된다."
   ]
  },
  {
   "cell_type": "code",
   "execution_count": 8,
   "metadata": {},
   "outputs": [
    {
     "name": "stdout",
     "output_type": "stream",
     "text": [
      "before\n",
      "after\n"
     ]
    }
   ],
   "source": [
    "from time import sleep\n",
    "\n",
    "print('before')\n",
    "sleep(2)\n",
    "print('after')"
   ]
  },
  {
   "cell_type": "markdown",
   "metadata": {},
   "source": [
    "### [응용] 프로그램 수행 시간 측정"
   ]
  },
  {
   "cell_type": "code",
   "execution_count": 9,
   "metadata": {},
   "outputs": [
    {
     "name": "stdout",
     "output_type": "stream",
     "text": [
      "time elapsed: 2.005466938018799\n"
     ]
    }
   ],
   "source": [
    "from time import time, sleep\n",
    "\n",
    "start = time()\n",
    "sleep(2)\n",
    "end = time()\n",
    "\n",
    "print('time elapsed:', end - start)"
   ]
  },
  {
   "cell_type": "code",
   "execution_count": null,
   "metadata": {},
   "outputs": [],
   "source": []
  }
 ],
 "metadata": {
  "kernelspec": {
   "display_name": "Python 3",
   "language": "python",
   "name": "python3"
  },
  "language_info": {
   "codemirror_mode": {
    "name": "ipython",
    "version": 3
   },
   "file_extension": ".py",
   "mimetype": "text/x-python",
   "name": "python",
   "nbconvert_exporter": "python",
   "pygments_lexer": "ipython3",
   "version": "3.12.0"
  }
 },
 "nbformat": 4,
 "nbformat_minor": 2
}
