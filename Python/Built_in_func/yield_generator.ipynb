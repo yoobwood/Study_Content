{
 "cells": [
  {
   "cell_type": "markdown",
   "metadata": {},
   "source": [
    "## yield 키워드"
   ]
  },
  {
   "cell_type": "code",
   "execution_count": 1,
   "metadata": {},
   "outputs": [],
   "source": [
    "# 알파벳 A, B, C를 결과 값으로 반환하는 함수를 작성해보자\n",
    "def return_abc():\n",
    "    return list('ABC')"
   ]
  },
  {
   "cell_type": "code",
   "execution_count": 2,
   "metadata": {},
   "outputs": [
    {
     "data": {
      "text/plain": [
       "['A', 'B', 'C']"
      ]
     },
     "execution_count": 2,
     "metadata": {},
     "output_type": "execute_result"
    }
   ],
   "source": [
    "return_abc()"
   ]
  },
  {
   "cell_type": "code",
   "execution_count": 3,
   "metadata": {},
   "outputs": [],
   "source": [
    "# yield 이용\n",
    "def yield_abc():\n",
    "    yield \"A\"\n",
    "    yield \"B\"\n",
    "    yield \"C\""
   ]
  },
  {
   "cell_type": "code",
   "execution_count": 4,
   "metadata": {},
   "outputs": [
    {
     "data": {
      "text/plain": [
       "<generator object yield_abc at 0x107d8a400>"
      ]
     },
     "execution_count": 4,
     "metadata": {},
     "output_type": "execute_result"
    }
   ],
   "source": [
    "yield_abc()"
   ]
  },
  {
   "cell_type": "markdown",
   "metadata": {},
   "source": [
    "return 키워드는 결과값을 딱 한번만 제공하는데, <br>\n",
    "yield 키워드는 결과값을 여러 번 나누어서 제공한다."
   ]
  },
  {
   "cell_type": "markdown",
   "metadata": {},
   "source": [
    "## 제어레이터 (generator)\n",
    "\n",
    "- 쉽게 말해서 여러 개의 데이터를 미리 만들어 놓지 않고 필요할 때마다 즉석해서 하나씩 만들어낼 수 있는 객체를 의미한다."
   ]
  },
  {
   "cell_type": "code",
   "execution_count": 5,
   "metadata": {},
   "outputs": [],
   "source": [
    "import time \n",
    "\n",
    "def return_abc():\n",
    "    alphabets = []\n",
    "    for ch in 'ABC':\n",
    "        time.sleep(1)\n",
    "        alphabets.append(ch)\n",
    "    return alphabets"
   ]
  },
  {
   "cell_type": "code",
   "execution_count": 6,
   "metadata": {},
   "outputs": [
    {
     "name": "stdout",
     "output_type": "stream",
     "text": [
      "A\n",
      "B\n",
      "C\n"
     ]
    }
   ],
   "source": [
    "# for loop를 통해 3초가 흐른 후에 A, B, C가 한번에 출력이 되는 것을 확인할 수 있다.\n",
    "for ch in return_abc():\n",
    "    print(ch)"
   ]
  },
  {
   "cell_type": "code",
   "execution_count": 7,
   "metadata": {},
   "outputs": [
    {
     "name": "stdout",
     "output_type": "stream",
     "text": [
      "A\n",
      "B\n",
      "C\n"
     ]
    }
   ],
   "source": [
    "# 1초 후에 A가 출력되고, 또 1초 후에 B가 출력되고, 또 1초 후에 C가 출력됨.\n",
    "def yield_abc():\n",
    "    for ch in 'ABC':\n",
    "        time.sleep(1)\n",
    "        yield ch\n",
    "\n",
    "for ch in yield_abc():\n",
    "    print(ch)    "
   ]
  },
  {
   "cell_type": "markdown",
   "metadata": {},
   "source": [
    "만약에 세개의 알파벳이 아닌 백개, 천개, 만개의 알파벳을 제공해야하는 경우에는 어떨까? <br>\n",
    "첫번째 방식에는 첫번째 결과값을 얻는데 백초, 천초, 만초가 걸리는 반면에, <br>\n",
    "두번째 방식에서는 항상 일초가 걸릴 것이다. <br>\n",
    "**즉, 제너레이터를 통해서는 결과값을 나누어서 얻을 수 있기 때문에 성능 측면에서 큰 이점이 있다.**\n",
    "<br><br>\n",
    "\n",
    "메모리 효율 측면에서도 이 두가지 방식은 큰 차이를 보인다.<br>\n",
    "return 키워드를 사용할 때는 모든 결과 값을 메모리에 올려놓아야 하는 반면에, <br>\n",
    "yield 키워드를 사용할 때는 결과값을 하나씩 메모리에 올려놓는다.<br><br>\n",
    "\n",
    "제너레이터는 이러한 특성 때문에 흔히 **게으른 반복자(lazy iterator)**라고도 불린다.<br>\n",
    "이 제너레이터의 게으른 특성을 잘 활용하면 좀 더 효율적인 프로그램을 작성할 수 있다.<br><br>\n",
    "\n",
    "**특히 메모리에 한 번에 올리기에는 부담스러운 대용량의 파일을 읽거나, 스트림 데이터를 처리할 때 상당히 유용하게 사용될 수 있다.**"
   ]
  },
  {
   "cell_type": "markdown",
   "metadata": {},
   "source": [
    "#### yield from\n",
    "제너레이터를 반환하는 함수를 작성하다 보면 아래와 같이 리스트를 제너레이터로 변환해야할 일이 자주 생긴다."
   ]
  },
  {
   "cell_type": "code",
   "execution_count": 9,
   "metadata": {},
   "outputs": [],
   "source": [
    "def yield_abc():\n",
    "    for ch in ['A','B','C']:\n",
    "        yield ch"
   ]
  },
  {
   "cell_type": "code",
   "execution_count": 11,
   "metadata": {},
   "outputs": [],
   "source": [
    "# yield fro을 사용하면 리스트를 바로 제너레이터로 변환할 수 있어서 매우 편리하다.\n",
    "def yield_abc():\n",
    "    yield from ['A','B','C']"
   ]
  },
  {
   "cell_type": "markdown",
   "metadata": {},
   "source": [
    "#### Generator Comprehension\n",
    "제너레이터를 만드는 또 다른 방법으로 제너레이터 표현식 (generator comprehension / expression)이라는 것도 있다. <br><br>\n",
    "\n",
    "list comprehension과 사용 방법이 매우 유사하다.<br>\n",
    "**단지 차이점이라고 하면 리스트 표현식은 대괄호를 사용하고 제너레이터 표현식은 소괄호를 사용한다.**"
   ]
  },
  {
   "cell_type": "code",
   "execution_count": 12,
   "metadata": {},
   "outputs": [
    {
     "name": "stdout",
     "output_type": "stream",
     "text": [
      "<generator object <genexpr> at 0x10815a2c0>\n",
      "A\n",
      "B\n",
      "C\n"
     ]
    }
   ],
   "source": [
    "abc = (ch for ch in \"ABC\")\n",
    "\n",
    "print(abc)\n",
    "\n",
    "for ch in abc:\n",
    "    print(ch)"
   ]
  },
  {
   "cell_type": "code",
   "execution_count": null,
   "metadata": {},
   "outputs": [],
   "source": []
  }
 ],
 "metadata": {
  "kernelspec": {
   "display_name": "Python 3",
   "language": "python",
   "name": "python3"
  },
  "language_info": {
   "codemirror_mode": {
    "name": "ipython",
    "version": 3
   },
   "file_extension": ".py",
   "mimetype": "text/x-python",
   "name": "python",
   "nbconvert_exporter": "python",
   "pygments_lexer": "ipython3",
   "version": "3.12.0"
  }
 },
 "nbformat": 4,
 "nbformat_minor": 2
}
