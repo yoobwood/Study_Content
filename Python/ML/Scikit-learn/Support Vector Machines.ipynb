{
 "cells": [
  {
   "attachments": {
    "image.png": {
     "image/png": "[encoded data removed]"
    }
   },
   "cell_type": "markdown",
   "id": "7a3d77a5",
   "metadata": {},
   "source": [
    "# 서포트 벡터 머신 (Support Vector Machines)\n",
    "\n",
    "- 회귀, 분류, 이상치 탐지 등에 사용되는 지도학습 방법\n",
    "- 클래스 사이의 경계에 위치한 데이터 포인트를 서포트 벡터(support vector)라고 함\n",
    "- 각 서포트 벡터가 클래스 사이의 결정 경계를 구분하는데 얼마나 중요한지를 학습\n",
    "- **각 서포트 벡터 사이의 마진이 큰 방향으로 학습**\n",
    "- 서포트 벡터까지의 거리와 서포트 벡터의 중요도를 기반으로 예측을 수행\n",
    "\n",
    "![image.png](attachment:image.png)\n",
    "\n",
    "    - H3는 두 클래스의 점들을 제대로 분류하고 있지 않음\n",
    "    - H1과 H2는 두 클래스의 점들을 분류하는데, H2가 H1보다 더 큰 마진을 갖고 분류하는 것을 확인할 수 있음"
   ]
  },
  {
   "cell_type": "code",
   "execution_count": 1,
   "id": "b9b7921f",
   "metadata": {},
   "outputs": [],
   "source": [
    "import warnings\n",
    "\n",
    "warnings.filterwarnings(action='ignore')"
   ]
  },
  {
   "cell_type": "code",
   "execution_count": 2,
   "id": "f5d0857f",
   "metadata": {},
   "outputs": [],
   "source": [
    "import multiprocessing\n",
    "import numpy as np\n",
    "import pandas as pd\n",
    "import matplotlib.pyplot as plt\n",
    "plt.style.use(['seaborn-whitegrid'])"
   ]
  },
  {
   "cell_type": "code",
   "execution_count": 3,
   "id": "749a60d1",
   "metadata": {},
   "outputs": [],
   "source": [
    "from sklearn.svm import SVR,SVC\n",
    "from sklearn.datasets import load_boston, load_diabetes, load_breast_cancer, load_wine\n",
    "from sklearn.pipeline import make_pipeline, Pipeline\n",
    "from sklearn.model_selection import train_test_split, cross_validate, GridSearchCV\n",
    "from sklearn.preprocessing import StandardScaler, MinMaxScaler\n",
    "from sklearn.manifold import TSNE"
   ]
  },
  {
   "cell_type": "markdown",
   "id": "ab6bdfda",
   "metadata": {},
   "source": [
    "## SVM을 이용한 회귀 모델과 분류 모델"
   ]
  },
  {
   "cell_type": "markdown",
   "id": "78fa0284",
   "metadata": {},
   "source": [
    "### SVR"
   ]
  },
  {
   "cell_type": "code",
   "execution_count": 6,
   "id": "e8a15734",
   "metadata": {},
   "outputs": [
    {
     "name": "stdout",
     "output_type": "stream",
     "text": [
      "학습 데이터 점수 : 0.21772837063748762\n",
      "평가 데이터 점수 : 0.13544178468518187\n"
     ]
    }
   ],
   "source": [
    "X,y = load_boston(return_X_y=True)\n",
    "X_train,X_test,y_train,y_test = train_test_split(X,y,random_state=123)\n",
    "\n",
    "model = SVR()\n",
    "model.fit(X_train, y_train)\n",
    "\n",
    "print('학습 데이터 점수 : {}'.format(model.score(X_train,y_train)))\n",
    "print('평가 데이터 점수 : {}'.format(model.score(X_test,y_test)))"
   ]
  },
  {
   "cell_type": "markdown",
   "id": "14cd0b28",
   "metadata": {},
   "source": [
    "### SVC"
   ]
  },
  {
   "cell_type": "code",
   "execution_count": 7,
   "id": "b6d0a379",
   "metadata": {},
   "outputs": [
    {
     "name": "stdout",
     "output_type": "stream",
     "text": [
      "학습 데이터 점수 : 0.9014084507042254\n",
      "평가 데이터 점수 : 0.9230769230769231\n"
     ]
    }
   ],
   "source": [
    "X,y = load_breast_cancer(return_X_y=True)\n",
    "X_train,X_test,y_train,y_test = train_test_split(X,y,random_state=123)\n",
    "\n",
    "model = SVC()\n",
    "model.fit(X_train, y_train)\n",
    "\n",
    "print('학습 데이터 점수 : {}'.format(model.score(X_train,y_train)))\n",
    "print('평가 데이터 점수 : {}'.format(model.score(X_test,y_test)))"
   ]
  },
  {
   "cell_type": "markdown",
   "id": "99ba99ff",
   "metadata": {},
   "source": [
    "## 커널 기법\n",
    "- 입력 데이터를 고차원 공간에 매핑(mapping)해서 비선형 특징을 학습할 수 있도록 확장하는 방법\n",
    "- scikit-learn에서는 Linear, Polynomial, RBF(Radial Basis Function)등 다양한 커널 기법을 지원"
   ]
  },
  {
   "cell_type": "code",
   "execution_count": 9,
   "id": "8b1bbb49",
   "metadata": {},
   "outputs": [
    {
     "name": "stdout",
     "output_type": "stream",
     "text": [
      "Linear SVR 학습 데이터 점수 : 0.7155065522216004\n",
      "Linear SVR 평가 데이터 점수 : 0.6380396318362328\n",
      "Polynomial SVR 학습 데이터 점수 : 0.20244542614462924\n",
      "Polynomial SVR 평가 데이터 점수 : 0.13366845036746156\n",
      "RBF SVR 학습 데이터 점수 : 0.21772837063748762\n",
      "RBF SVR 평가 데이터 점수 : 0.13544178468518187\n"
     ]
    }
   ],
   "source": [
    "X, y = load_boston(return_X_y=True)\n",
    "X_train,X_test,y_train,y_test = train_test_split(X,y,random_state=123)\n",
    "\n",
    "linear_svr = SVR(kernel='linear')\n",
    "linear_svr.fit(X_train, y_train)\n",
    "\n",
    "print('Linear SVR 학습 데이터 점수 : {}'.format(linear_svr.score(X_train,y_train)))\n",
    "print('Linear SVR 평가 데이터 점수 : {}'.format(linear_svr.score(X_test,y_test)))\n",
    "\n",
    "polynomial_svr = SVR(kernel='poly')\n",
    "polynomial_svr.fit(X_train, y_train)\n",
    "\n",
    "print('Polynomial SVR 학습 데이터 점수 : {}'.format(polynomial_svr.score(X_train,y_train)))\n",
    "print('Polynomial SVR 평가 데이터 점수 : {}'.format(polynomial_svr.score(X_test,y_test)))\n",
    "\n",
    "rbf_svr = SVR(kernel='rbf')\n",
    "rbf_svr.fit(X_train, y_train)\n",
    "\n",
    "print('RBF SVR 학습 데이터 점수 : {}'.format(rbf_svr.score(X_train,y_train)))\n",
    "print('RBF SVR 평가 데이터 점수 : {}'.format(rbf_svr.score(X_test,y_test)))\n"
   ]
  },
  {
   "cell_type": "code",
   "execution_count": 10,
   "id": "b6eb3716",
   "metadata": {
    "scrolled": true
   },
   "outputs": [
    {
     "name": "stdout",
     "output_type": "stream",
     "text": [
      "Linear SVC 학습 데이터 점수 : 0.960093896713615\n",
      "Linear SVC 평가 데이터 점수 : 0.986013986013986\n",
      "Polynomial SVC 학습 데이터 점수 : 0.9014084507042254\n",
      "Polynomial SVC 평가 데이터 점수 : 0.9230769230769231\n",
      "RBF SVC 학습 데이터 점수 : 0.9014084507042254\n",
      "RBF SVC 평가 데이터 점수 : 0.9230769230769231\n"
     ]
    }
   ],
   "source": [
    "X, y = load_breast_cancer(return_X_y=True)\n",
    "X_train,X_test,y_train,y_test = train_test_split(X,y,random_state=123)\n",
    "\n",
    "linear_svc = SVC(kernel='linear')\n",
    "linear_svc.fit(X_train, y_train)\n",
    "\n",
    "print('Linear SVC 학습 데이터 점수 : {}'.format(linear_svc.score(X_train,y_train)))\n",
    "print('Linear SVC 평가 데이터 점수 : {}'.format(linear_svc.score(X_test,y_test)))\n",
    "\n",
    "polynomial_svc = SVC(kernel='poly')\n",
    "polynomial_svc.fit(X_train, y_train)\n",
    "\n",
    "print('Polynomial SVC 학습 데이터 점수 : {}'.format(polynomial_svc.score(X_train,y_train)))\n",
    "print('Polynomial SVC 평가 데이터 점수 : {}'.format(polynomial_svc.score(X_test,y_test)))\n",
    "\n",
    "rbf_svc = SVC(kernel='rbf')\n",
    "rbf_svc.fit(X_train, y_train)\n",
    "\n",
    "print('RBF SVC 학습 데이터 점수 : {}'.format(rbf_svc.score(X_train,y_train)))\n",
    "print('RBF SVC 평가 데이터 점수 : {}'.format(rbf_svc.score(X_test,y_test)))\n"
   ]
  },
  {
   "cell_type": "markdown",
   "id": "22d5d22c",
   "metadata": {},
   "source": [
    "### 매개변수 튜닝\n",
    "- SVM은 사용하는 커널에 따라 다양한 매개변수 설정 가능\n",
    "- 매개변수를 변경하면서 성능변화를 관찰"
   ]
  },
  {
   "cell_type": "code",
   "execution_count": 13,
   "id": "5eedcdaf",
   "metadata": {},
   "outputs": [
    {
     "name": "stdout",
     "output_type": "stream",
     "text": [
      "kernel=poly, degree=2, C=0.1, gamma=auto\n",
      "Polynomial SVC 학습 데이터 점수 : 0.9835680751173709\n",
      "Polynomial SVC 평가 데이터 점수 : 0.993006993006993\n"
     ]
    }
   ],
   "source": [
    "X, y = load_breast_cancer(return_X_y=True)\n",
    "X_train,X_test,y_train,y_test = train_test_split(X,y,random_state=123)\n",
    "\n",
    "polynomial_svc = SVC(kernel='poly', degree=2, C=0.1, gamma='auto')\n",
    "polynomial_svc.fit(X_train, y_train)\n",
    "\n",
    "print('kernel=poly, degree={}, C={}, gamma={}'.format(2,0.1,'auto'))\n",
    "print('Polynomial SVC 학습 데이터 점수 : {}'.format(polynomial_svc.score(X_train,y_train)))\n",
    "print('Polynomial SVC 평가 데이터 점수 : {}'.format(polynomial_svc.score(X_test,y_test)))"
   ]
  },
  {
   "cell_type": "code",
   "execution_count": 15,
   "id": "f702f544",
   "metadata": {},
   "outputs": [
    {
     "name": "stdout",
     "output_type": "stream",
     "text": [
      "kernel=poly, C=2.0, gamma=scale\n",
      "RBF SVC 학습 데이터 점수 : 0.9154929577464789\n",
      "RBF SVC 평가 데이터 점수 : 0.9370629370629371\n"
     ]
    }
   ],
   "source": [
    "rbf_svc = SVC(kernel='rbf', C=2.0, gamma = 'scale')\n",
    "rbf_svc.fit(X_train, y_train)\n",
    "\n",
    "print('kernel=poly, C={}, gamma={}'.format(2.0,'scale'))\n",
    "print('RBF SVC 학습 데이터 점수 : {}'.format(rbf_svc.score(X_train,y_train)))\n",
    "print('RBF SVC 평가 데이터 점수 : {}'.format(rbf_svc.score(X_test,y_test)))"
   ]
  },
  {
   "cell_type": "markdown",
   "id": "fe558ce0",
   "metadata": {},
   "source": [
    "### 데이터 전처리\n",
    "- SVM은 입력 데이터가 정규화 되어야 좋은 성능을 ㅂ임\n",
    "- 주로 모든 특성 값을 [0,1] 범위로 맞추는 방법을 사용\n",
    "- scikit-learn의 StandardScaler 또는 MinMaxScaler를 사용해 정규화"
   ]
  },
  {
   "cell_type": "code",
   "execution_count": 16,
   "id": "b708a104",
   "metadata": {},
   "outputs": [],
   "source": [
    "X, y = load_breast_cancer(return_X_y=True)\n",
    "X_train,X_test,y_train,y_test = train_test_split(X,y,random_state=123)"
   ]
  },
  {
   "cell_type": "code",
   "execution_count": 22,
   "id": "7b648cbe",
   "metadata": {},
   "outputs": [
    {
     "name": "stdout",
     "output_type": "stream",
     "text": [
      "SVC 학습 데이터 점수 : 0.9014084507042254\n",
      "SVC 평가 데이터 점수 : 0.9230769230769231\n"
     ]
    }
   ],
   "source": [
    "model = SVC()\n",
    "model.fit(X_train,y_train)\n",
    "\n",
    "print('SVC 학습 데이터 점수 : {}'.format(model.score(X_train,y_train)))\n",
    "print('SVC 평가 데이터 점수 : {}'.format(model.score(X_test,y_test)))"
   ]
  },
  {
   "cell_type": "code",
   "execution_count": 26,
   "id": "d9793bcb",
   "metadata": {},
   "outputs": [
    {
     "name": "stdout",
     "output_type": "stream",
     "text": [
      "정규화 학습 데이터 점수 : 0.9835680751173709\n",
      "정규화 평가 데이터 점수 : 0.986013986013986\n"
     ]
    }
   ],
   "source": [
    "scaler = StandardScaler()\n",
    "X_train_scale = scaler.fit_transform(X_train)\n",
    "X_test_scale = scaler.transform(X_test)\n",
    "\n",
    "model = SVC()\n",
    "model.fit(X_train_scale,y_train)\n",
    "\n",
    "print('정규화 학습 데이터 점수 : {}'.format(model.score(X_train_scale,y_train)))\n",
    "print('정규화 평가 데이터 점수 : {}'.format(model.score(X_test_scale,y_test)))"
   ]
  },
  {
   "cell_type": "code",
   "execution_count": 27,
   "id": "c15f9a5d",
   "metadata": {},
   "outputs": [
    {
     "name": "stdout",
     "output_type": "stream",
     "text": [
      "표준화 학습 데이터 점수 : 0.9812206572769953\n",
      "표준화 평가 데이터 점수 : 0.986013986013986\n"
     ]
    }
   ],
   "source": [
    "scaler = MinMaxScaler()\n",
    "X_train_scale = scaler.fit_transform(X_train)\n",
    "X_test_scale = scaler.transform(X_test)\n",
    "\n",
    "model = SVC()\n",
    "model.fit(X_train_scale,y_train)\n",
    "\n",
    "print('표준화 학습 데이터 점수 : {}'.format(model.score(X_train_scale,y_train)))\n",
    "print('표준화 평가 데이터 점수 : {}'.format(model.score(X_test_scale,y_test)))"
   ]
  },
  {
   "cell_type": "markdown",
   "id": "a05c6bf7",
   "metadata": {},
   "source": [
    "## Linear SVR"
   ]
  },
  {
   "cell_type": "markdown",
   "id": "62e96a8e",
   "metadata": {},
   "source": [
    "#### 보스턴 주택 가격"
   ]
  },
  {
   "cell_type": "code",
   "execution_count": 84,
   "id": "fdd3386c",
   "metadata": {},
   "outputs": [],
   "source": [
    "X, y = load_boston(return_X_y=True)\n",
    "X_train,X_test,y_train,y_test = train_test_split(X,y,test_size=0.2)"
   ]
  },
  {
   "cell_type": "code",
   "execution_count": 92,
   "id": "68c2c0f4",
   "metadata": {},
   "outputs": [],
   "source": [
    "scaler = StandardScaler()\n",
    "scaler.fit(X_train)\n",
    "X_train = scaler.transform(X_train)\n",
    "X_test = scaler.transform(X_test)"
   ]
  },
  {
   "cell_type": "code",
   "execution_count": 93,
   "id": "e9a9b635",
   "metadata": {},
   "outputs": [
    {
     "name": "stdout",
     "output_type": "stream",
     "text": [
      "학습 데이터 점수 : 0.6839199654331991\n",
      "평가 데이터 점수 : 0.8000867456379769\n"
     ]
    }
   ],
   "source": [
    "model = SVR(kernel='linear')\n",
    "model.fit(X_train, y_train)\n",
    "\n",
    "print('학습 데이터 점수 : {}'.format(model.score(X_train,y_train)))\n",
    "print('평가 데이터 점수 : {}'.format(model.score(X_test,y_test)))"
   ]
  },
  {
   "cell_type": "markdown",
   "id": "e053d22e",
   "metadata": {},
   "source": [
    "SVM이 차원을 늘려서 매핑한 다음 나누기 때문에, 눈으로 보기위해(시각화 위해) TSNE를 통해서 저차원 변환 후  "
   ]
  },
  {
   "cell_type": "code",
   "execution_count": 94,
   "id": "e8ac592d",
   "metadata": {},
   "outputs": [
    {
     "data": {
      "image/png": "[encoded data removed]",
      "text/plain": [
       "<Figure size 432x288 with 1 Axes>"
      ]
     },
     "metadata": {},
     "output_type": "display_data"
    }
   ],
   "source": [
    "X_comp = TSNE(n_components=1).fit_transform(X)\n",
    "plt.scatter(X_comp, y);"
   ]
  },
  {
   "cell_type": "code",
   "execution_count": 95,
   "id": "8cc242a6",
   "metadata": {},
   "outputs": [
    {
     "data": {
      "image/png": "[encoded data removed]",
      "text/plain": [
       "<Figure size 432x288 with 1 Axes>"
      ]
     },
     "metadata": {},
     "output_type": "display_data"
    }
   ],
   "source": [
    "model.fit(X_comp, y)\n",
    "predict = model.predict(X_comp)\n",
    "\n",
    "plt.scatter(X_comp, y)\n",
    "plt.scatter(X_comp, predict, color='r');"
   ]
  },
  {
   "cell_type": "code",
   "execution_count": 96,
   "id": "37b8b110",
   "metadata": {},
   "outputs": [
    {
     "name": "stderr",
     "output_type": "stream",
     "text": [
      "[Parallel(n_jobs=8)]: Using backend LokyBackend with 8 concurrent workers.\n",
      "[Parallel(n_jobs=8)]: Done   2 out of   5 | elapsed:    0.0s remaining:    0.0s\n",
      "[Parallel(n_jobs=8)]: Done   5 out of   5 | elapsed:    0.0s finished\n"
     ]
    },
    {
     "data": {
      "text/plain": [
       "{'fit_time': array([0.00999951, 0.01300025, 0.01399994, 0.01100111, 0.01000142]),\n",
       " 'score_time': array([0.00200152, 0.00199986, 0.00100017, 0.0019989 , 0.00099969]),\n",
       " 'test_score': array([0.76908568, 0.72180141, 0.56428426, 0.14083339, 0.07810211])}"
      ]
     },
     "execution_count": 96,
     "metadata": {},
     "output_type": "execute_result"
    }
   ],
   "source": [
    "estimator = make_pipeline(StandardScaler(), SVR(kernel='linear'))\n",
    "\n",
    "cross_validate(\n",
    "    estimator=estimator,\n",
    "    X=X, y=y,\n",
    "    cv=5,\n",
    "    n_jobs = multiprocessing.cpu_count(),\n",
    "    verbose=True\n",
    ")"
   ]
  },
  {
   "cell_type": "code",
   "execution_count": 97,
   "id": "77d42a1c",
   "metadata": {},
   "outputs": [
    {
     "name": "stdout",
     "output_type": "stream",
     "text": [
      "Fitting 5 folds for each of 18 candidates, totalling 90 fits\n"
     ]
    },
    {
     "data": {
      "text/plain": [
       "GridSearchCV(cv=5,\n",
       "             estimator=Pipeline(steps=[('scaler', StandardScaler()),\n",
       "                                       ('model', SVR(kernel='linear'))]),\n",
       "             n_jobs=8,\n",
       "             param_grid=[{'model__C': [1.0, 0.1, 0.01],\n",
       "                          'model__epsilon': [1.0, 0.1, 0.01],\n",
       "                          'model__gamma': ['scale', 'auto']}],\n",
       "             verbose=True)"
      ]
     },
     "execution_count": 97,
     "metadata": {},
     "output_type": "execute_result"
    }
   ],
   "source": [
    "pipe = Pipeline([('scaler', StandardScaler()),\n",
    "                ('model', SVR(kernel='linear'))])\n",
    "\n",
    "param_grid = [{'model__gamma' : ['scale','auto'],\n",
    "              'model__C' : [1.0,0.1,0.01],\n",
    "              'model__epsilon': [1.0,0.1,0.01]}]\n",
    "\n",
    "gs = GridSearchCV(\n",
    "    estimator=pipe,\n",
    "    param_grid=param_grid,\n",
    "    n_jobs=multiprocessing.cpu_count(),\n",
    "    cv=5,\n",
    "    verbose=True\n",
    ")\n",
    "gs.fit(X,y)"
   ]
  },
  {
   "cell_type": "code",
   "execution_count": 98,
   "id": "cf9bb574",
   "metadata": {},
   "outputs": [
    {
     "data": {
      "text/plain": [
       "Pipeline(steps=[('scaler', StandardScaler()),\n",
       "                ('model', SVR(C=0.1, epsilon=1.0, kernel='linear'))])"
      ]
     },
     "execution_count": 98,
     "metadata": {},
     "output_type": "execute_result"
    }
   ],
   "source": [
    "gs.best_estimator_"
   ]
  },
  {
   "cell_type": "markdown",
   "id": "3e0d18c8",
   "metadata": {},
   "source": [
    "## Kernel SVR"
   ]
  },
  {
   "cell_type": "code",
   "execution_count": 100,
   "id": "6eed9afd",
   "metadata": {},
   "outputs": [],
   "source": [
    "X, y = load_boston(return_X_y=True)\n",
    "X_train,X_test,y_train,y_test = train_test_split(X,y,test_size=0.2)"
   ]
  },
  {
   "cell_type": "code",
   "execution_count": 101,
   "id": "6e3fb67b",
   "metadata": {},
   "outputs": [],
   "source": [
    "scaler = StandardScaler()\n",
    "scaler.fit(X_train)\n",
    "X_train = scaler.transform(X_train)\n",
    "X_test = scaler.transform(X_test)"
   ]
  },
  {
   "cell_type": "code",
   "execution_count": 103,
   "id": "b896464a",
   "metadata": {},
   "outputs": [
    {
     "name": "stdout",
     "output_type": "stream",
     "text": [
      "학습 데이터 점수 : 0.6936511072209748\n",
      "평가 데이터 점수 : 0.6120647722286499\n"
     ]
    }
   ],
   "source": [
    "model = SVR(kernel='rbf')\n",
    "model.fit(X_train, y_train)\n",
    "\n",
    "print('학습 데이터 점수 : {}'.format(model.score(X_train,y_train)))\n",
    "print('평가 데이터 점수 : {}'.format(model.score(X_test,y_test)))"
   ]
  },
  {
   "cell_type": "code",
   "execution_count": 104,
   "id": "edfaa66b",
   "metadata": {},
   "outputs": [
    {
     "data": {
      "image/png": "[encoded data removed]",
      "text/plain": [
       "<Figure size 432x288 with 1 Axes>"
      ]
     },
     "metadata": {},
     "output_type": "display_data"
    }
   ],
   "source": [
    "X_comp = TSNE(n_components=1).fit_transform(X)\n",
    "plt.scatter(X_comp, y);"
   ]
  },
  {
   "cell_type": "code",
   "execution_count": 105,
   "id": "f9c76af8",
   "metadata": {},
   "outputs": [
    {
     "data": {
      "image/png": "[encoded data removed]",
      "text/plain": [
       "<Figure size 432x288 with 1 Axes>"
      ]
     },
     "metadata": {},
     "output_type": "display_data"
    }
   ],
   "source": [
    "model.fit(X_comp, y)\n",
    "predict = model.predict(X_comp)\n",
    "\n",
    "plt.scatter(X_comp, y)\n",
    "plt.scatter(X_comp, predict, color='r');"
   ]
  },
  {
   "cell_type": "code",
   "execution_count": 112,
   "id": "4b4aecf4",
   "metadata": {},
   "outputs": [
    {
     "name": "stderr",
     "output_type": "stream",
     "text": [
      "[Parallel(n_jobs=8)]: Using backend LokyBackend with 8 concurrent workers.\n",
      "[Parallel(n_jobs=8)]: Done   2 out of   5 | elapsed:    0.0s remaining:    0.0s\n",
      "[Parallel(n_jobs=8)]: Done   5 out of   5 | elapsed:    0.0s finished\n"
     ]
    },
    {
     "data": {
      "text/plain": [
       "{'fit_time': array([0.01046014, 0.01046014, 0.00999975, 0.01099968, 0.01099968]),\n",
       " 'score_time': array([0.0045414 , 0.0045414 , 0.00600004, 0.00600147, 0.00700068]),\n",
       " 'test_score': array([ 0.75781445,  0.50211018,  0.04310107,  0.33851703, -0.75997942])}"
      ]
     },
     "execution_count": 112,
     "metadata": {},
     "output_type": "execute_result"
    }
   ],
   "source": [
    "estimator = make_pipeline(StandardScaler(), SVR(kernel='rbf'))\n",
    "\n",
    "cross_validate(\n",
    "    estimator=estimator,\n",
    "    X=X, y=y,\n",
    "    cv=5,\n",
    "    n_jobs = multiprocessing.cpu_count(),\n",
    "    verbose=True\n",
    ")"
   ]
  },
  {
   "cell_type": "code",
   "execution_count": 113,
   "id": "96e257e9",
   "metadata": {},
   "outputs": [
    {
     "name": "stdout",
     "output_type": "stream",
     "text": [
      "Fitting 5 folds for each of 3 candidates, totalling 15 fits\n"
     ]
    },
    {
     "data": {
      "text/plain": [
       "GridSearchCV(cv=5,\n",
       "             estimator=Pipeline(steps=[('scaler', StandardScaler()),\n",
       "                                       ('model', SVR())]),\n",
       "             n_jobs=8,\n",
       "             param_grid=[{'model__kernel': ['rbf', 'polynomial', 'sigmoid']}],\n",
       "             verbose=True)"
      ]
     },
     "execution_count": 113,
     "metadata": {},
     "output_type": "execute_result"
    }
   ],
   "source": [
    "pipe = Pipeline([('scaler', StandardScaler()),\n",
    "                ('model', SVR(kernel='rbf'))])\n",
    "\n",
    "param_grid = [{'model__kernel' : ['rbf', 'polynomial','sigmoid']}]\n",
    "\n",
    "gs = GridSearchCV(\n",
    "    estimator=pipe,\n",
    "    param_grid=param_grid,\n",
    "    n_jobs=multiprocessing.cpu_count(),\n",
    "    cv=5,\n",
    "    verbose=True\n",
    ")\n",
    "gs.fit(X,y)"
   ]
  },
  {
   "cell_type": "code",
   "execution_count": 114,
   "id": "10423031",
   "metadata": {
    "scrolled": true
   },
   "outputs": [
    {
     "data": {
      "text/plain": [
       "Pipeline(steps=[('scaler', StandardScaler()), ('model', SVR())])"
      ]
     },
     "execution_count": 114,
     "metadata": {},
     "output_type": "execute_result"
    }
   ],
   "source": [
    "gs.best_estimator_"
   ]
  },
  {
   "cell_type": "code",
   "execution_count": 115,
   "id": "1c6be301",
   "metadata": {},
   "outputs": [
    {
     "data": {
      "text/plain": [
       "Pipeline(steps=[('scaler', StandardScaler()), ('model', SVR())])"
      ]
     },
     "execution_count": 115,
     "metadata": {},
     "output_type": "execute_result"
    }
   ],
   "source": [
    "model = gs.best_estimator_\n",
    "model.fit(X_train,y_train)"
   ]
  },
  {
   "cell_type": "code",
   "execution_count": 116,
   "id": "9dfab650",
   "metadata": {},
   "outputs": [
    {
     "name": "stdout",
     "output_type": "stream",
     "text": [
      "학습 데이터 점수 : 0.6936511072209752\n",
      "평가 데이터 점수 : 0.6120647722286499\n"
     ]
    }
   ],
   "source": [
    "print('학습 데이터 점수 : {}'.format(model.score(X_train,y_train)))\n",
    "print('평가 데이터 점수 : {}'.format(model.score(X_test,y_test)))"
   ]
  },
  {
   "cell_type": "markdown",
   "id": "c7f8256e",
   "metadata": {},
   "source": [
    "## Linear SVC"
   ]
  },
  {
   "cell_type": "code",
   "execution_count": 118,
   "id": "e875965b",
   "metadata": {},
   "outputs": [],
   "source": [
    "X, y = load_breast_cancer(return_X_y=True)\n",
    "X_train,X_test,y_train,y_test = train_test_split(X,y,test_size=0.2)"
   ]
  },
  {
   "cell_type": "code",
   "execution_count": 119,
   "id": "4ea6a752",
   "metadata": {},
   "outputs": [],
   "source": [
    "scaler = StandardScaler()\n",
    "scaler.fit(X_train)\n",
    "X_train = scaler.transform(X_train)\n",
    "X_test = scaler.transform(X_test)"
   ]
  },
  {
   "cell_type": "code",
   "execution_count": 120,
   "id": "f97837f3",
   "metadata": {},
   "outputs": [
    {
     "data": {
      "text/plain": [
       "SVC(kernel='linear')"
      ]
     },
     "execution_count": 120,
     "metadata": {},
     "output_type": "execute_result"
    }
   ],
   "source": [
    "model = SVC(kernel='linear')\n",
    "model.fit(X_train,y_train)"
   ]
  },
  {
   "cell_type": "code",
   "execution_count": 121,
   "id": "9d0d3480",
   "metadata": {},
   "outputs": [
    {
     "name": "stdout",
     "output_type": "stream",
     "text": [
      "학습 데이터 점수 : 0.9868131868131869\n",
      "평가 데이터 점수 : 0.9824561403508771\n"
     ]
    }
   ],
   "source": [
    "print('학습 데이터 점수 : {}'.format(model.score(X_train,y_train)))\n",
    "print('평가 데이터 점수 : {}'.format(model.score(X_test,y_test)))"
   ]
  },
  {
   "cell_type": "code",
   "execution_count": 132,
   "id": "9a1939fa",
   "metadata": {},
   "outputs": [],
   "source": [
    "def make_meshgrid(x,y,h=0.2):\n",
    "    x_min,x_max = x.min()-1, x.max()+1\n",
    "    y_min,y_max = y.min()-1, y.max()+1\n",
    "    xx, yy = np.meshgrid(np.arange(x_min,x_max,h),\n",
    "                         np.arange(y_min,y_max,h))\n",
    "    return xx,yy\n",
    "\n",
    "def plt_contours(clf, xx, yy, **params):\n",
    "    Z = clf.predict(np.c_[xx.ravel(), yy.ravel()])\n",
    "    Z = Z.reshape(xx.shape)\n",
    "    out = plt.contour(xx,yy,Z,**params)\n",
    "    \n",
    "    return out"
   ]
  },
  {
   "cell_type": "code",
   "execution_count": 133,
   "id": "d15c6fb9",
   "metadata": {},
   "outputs": [],
   "source": [
    "X_comp = TSNE(n_components=2).fit_transform(X)\n",
    "X0,X1 = X_comp[:,0], X_comp[:,1]\n",
    "xx, yy = make_meshgrid(X0,X1)"
   ]
  },
  {
   "cell_type": "code",
   "execution_count": 135,
   "id": "f3f75c67",
   "metadata": {},
   "outputs": [
    {
     "data": {
      "text/plain": [
       "<matplotlib.collections.PathCollection at 0x1f258ded280>"
      ]
     },
     "execution_count": 135,
     "metadata": {},
     "output_type": "execute_result"
    },
    {
     "data": {
      "image/png": "[encoded data removed]",
      "text/plain": [
       "<Figure size 432x288 with 1 Axes>"
      ]
     },
     "metadata": {},
     "output_type": "display_data"
    }
   ],
   "source": [
    "model.fit(X_comp, y)\n",
    "\n",
    "plt_contours(model,xx,yy,cmap=plt.cm.coolwarm, alpha=0.7)\n",
    "plt.scatter(X0,X1, c=y, cmap=plt.cm.coolwarm, s=20, edgecolors='k' )"
   ]
  },
  {
   "cell_type": "code",
   "execution_count": 136,
   "id": "85b9856f",
   "metadata": {},
   "outputs": [
    {
     "name": "stderr",
     "output_type": "stream",
     "text": [
      "[Parallel(n_jobs=8)]: Using backend LokyBackend with 8 concurrent workers.\n",
      "[Parallel(n_jobs=8)]: Done   2 out of   5 | elapsed:    1.0s remaining:    1.6s\n",
      "[Parallel(n_jobs=8)]: Done   5 out of   5 | elapsed:    1.1s finished\n"
     ]
    },
    {
     "data": {
      "text/plain": [
       "{'fit_time': array([0.00600028, 0.00699973, 0.00400019, 0.00499988, 0.00499988]),\n",
       " 'score_time': array([0.00099945, 0.00099993, 0.00099945, 0.00100017, 0.0010004 ]),\n",
       " 'test_score': array([0.96491228, 0.98245614, 0.96491228, 0.96491228, 0.98230088])}"
      ]
     },
     "execution_count": 136,
     "metadata": {},
     "output_type": "execute_result"
    }
   ],
   "source": [
    "estimator = make_pipeline(StandardScaler(), SVC(kernel='linear'))\n",
    "\n",
    "cross_validate(\n",
    "    estimator=estimator,\n",
    "    X=X, y=y,\n",
    "    cv=5,\n",
    "    n_jobs = multiprocessing.cpu_count(),\n",
    "    verbose=True\n",
    ")"
   ]
  },
  {
   "cell_type": "code",
   "execution_count": 137,
   "id": "5afe3077",
   "metadata": {},
   "outputs": [
    {
     "name": "stdout",
     "output_type": "stream",
     "text": [
      "Fitting 5 folds for each of 6 candidates, totalling 30 fits\n"
     ]
    },
    {
     "data": {
      "text/plain": [
       "GridSearchCV(cv=5,\n",
       "             estimator=Pipeline(steps=[('scaler', StandardScaler()),\n",
       "                                       ('model', SVC(kernel='linear'))]),\n",
       "             n_jobs=8,\n",
       "             param_grid=[{'model__C': [1.0, 0.1, 0.01],\n",
       "                          'model__gamma': ['scale', 'auto']}],\n",
       "             verbose=True)"
      ]
     },
     "execution_count": 137,
     "metadata": {},
     "output_type": "execute_result"
    }
   ],
   "source": [
    "pipe = Pipeline([('scaler', StandardScaler()),\n",
    "                ('model', SVC(kernel='linear'))])\n",
    "\n",
    "param_grid = [{'model__gamma' : ['scale','auto'],\n",
    "              'model__C' : [1.0,0.1,0.01]}]\n",
    "\n",
    "gs = GridSearchCV(\n",
    "    estimator=pipe,\n",
    "    param_grid=param_grid,\n",
    "    n_jobs=multiprocessing.cpu_count(),\n",
    "    cv=5,\n",
    "    verbose=True\n",
    ")\n",
    "gs.fit(X,y)"
   ]
  },
  {
   "cell_type": "code",
   "execution_count": 138,
   "id": "dabc1b9f",
   "metadata": {},
   "outputs": [
    {
     "data": {
      "text/plain": [
       "Pipeline(steps=[('scaler', StandardScaler()),\n",
       "                ('model', SVC(C=0.1, kernel='linear'))])"
      ]
     },
     "execution_count": 138,
     "metadata": {},
     "output_type": "execute_result"
    }
   ],
   "source": [
    "gs.best_estimator_"
   ]
  },
  {
   "cell_type": "code",
   "execution_count": null,
   "id": "48789179",
   "metadata": {},
   "outputs": [],
   "source": []
  }
 ],
 "metadata": {
  "kernelspec": {
   "display_name": "Python 3 (ipykernel)",
   "language": "python",
   "name": "python3"
  },
  "language_info": {
   "codemirror_mode": {
    "name": "ipython",
    "version": 3
   },
   "file_extension": ".py",
   "mimetype": "text/x-python",
   "name": "python",
   "nbconvert_exporter": "python",
   "pygments_lexer": "ipython3",
   "version": "3.11.7"
  }
 },
 "nbformat": 4,
 "nbformat_minor": 5
}
