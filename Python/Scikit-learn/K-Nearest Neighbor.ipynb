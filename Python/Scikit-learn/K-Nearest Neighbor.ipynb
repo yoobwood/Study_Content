{
 "cells": [
  {
   "cell_type": "markdown",
   "id": "768f38d2",
   "metadata": {},
   "source": [
    "# 최근접 이웃 (K-Nearest Neighbor)\n",
    "- 특별한 예측 모델 없이 가장 가까운 데이터 포인트를 기반으로 예측을 수행하는 방법\n",
    "- 분류와 회귀 모두 지원"
   ]
  },
  {
   "cell_type": "code",
   "execution_count": 92,
   "id": "40814dfb",
   "metadata": {},
   "outputs": [],
   "source": [
    "import warnings\n",
    "\n",
    "warnings.filterwarnings(action='ignore')"
   ]
  },
  {
   "cell_type": "code",
   "execution_count": 93,
   "id": "4c17eaac",
   "metadata": {},
   "outputs": [],
   "source": [
    "import pandas as pd\n",
    "import numpy as np\n",
    "import multiprocessing\n",
    "import matplotlib.pyplot as plt\n",
    "plt.style.use(['seaborn-whitegrid'])"
   ]
  },
  {
   "cell_type": "code",
   "execution_count": 94,
   "id": "1ac5a07f",
   "metadata": {},
   "outputs": [],
   "source": [
    "from sklearn.neighbors import KNeighborsClassifier, KNeighborsRegressor\n",
    "from sklearn.manifold import TSNE\n",
    "from sklearn.datasets import load_iris, load_breast_cancer\n",
    "from sklearn.datasets import load_boston, fetch_california_housing\n",
    "from sklearn.model_selection import train_test_split, cross_validate, GridSearchCV\n",
    "from sklearn.preprocessing import StandardScaler\n",
    "from sklearn.pipeline import make_pipeline, Pipeline"
   ]
  },
  {
   "cell_type": "markdown",
   "id": "9326c976",
   "metadata": {},
   "source": [
    "## K 최근접 이웃 분류\n",
    "- 입력 데이터 포인트와 가장 가까운 k개의 훈련 데이터 포인트가 출력\n",
    "- k개의 데이터 포인트 중 가장 많은 클래스가 예측 결과"
   ]
  },
  {
   "cell_type": "markdown",
   "id": "51b616b2",
   "metadata": {},
   "source": [
    "#### 붓꽃 데이터"
   ]
  },
  {
   "cell_type": "code",
   "execution_count": 95,
   "id": "ad3acb54",
   "metadata": {},
   "outputs": [],
   "source": [
    "iris = load_iris()"
   ]
  },
  {
   "cell_type": "code",
   "execution_count": 96,
   "id": "fdd35c34",
   "metadata": {},
   "outputs": [
    {
     "data": {
      "text/html": [
       "<div>\n",
       "<style scoped>\n",
       "    .dataframe tbody tr th:only-of-type {\n",
       "        vertical-align: middle;\n",
       "    }\n",
       "\n",
       "    .dataframe tbody tr th {\n",
       "        vertical-align: top;\n",
       "    }\n",
       "\n",
       "    .dataframe thead th {\n",
       "        text-align: right;\n",
       "    }\n",
       "</style>\n",
       "<table border=\"1\" class=\"dataframe\">\n",
       "  <thead>\n",
       "    <tr style=\"text-align: right;\">\n",
       "      <th></th>\n",
       "      <th>sepal length (cm)</th>\n",
       "      <th>sepal width (cm)</th>\n",
       "      <th>petal length (cm)</th>\n",
       "      <th>petal width (cm)</th>\n",
       "      <th>Target</th>\n",
       "    </tr>\n",
       "  </thead>\n",
       "  <tbody>\n",
       "    <tr>\n",
       "      <th>0</th>\n",
       "      <td>5.1</td>\n",
       "      <td>3.5</td>\n",
       "      <td>1.4</td>\n",
       "      <td>0.2</td>\n",
       "      <td>0</td>\n",
       "    </tr>\n",
       "    <tr>\n",
       "      <th>1</th>\n",
       "      <td>4.9</td>\n",
       "      <td>3.0</td>\n",
       "      <td>1.4</td>\n",
       "      <td>0.2</td>\n",
       "      <td>0</td>\n",
       "    </tr>\n",
       "    <tr>\n",
       "      <th>2</th>\n",
       "      <td>4.7</td>\n",
       "      <td>3.2</td>\n",
       "      <td>1.3</td>\n",
       "      <td>0.2</td>\n",
       "      <td>0</td>\n",
       "    </tr>\n",
       "    <tr>\n",
       "      <th>3</th>\n",
       "      <td>4.6</td>\n",
       "      <td>3.1</td>\n",
       "      <td>1.5</td>\n",
       "      <td>0.2</td>\n",
       "      <td>0</td>\n",
       "    </tr>\n",
       "    <tr>\n",
       "      <th>4</th>\n",
       "      <td>5.0</td>\n",
       "      <td>3.6</td>\n",
       "      <td>1.4</td>\n",
       "      <td>0.2</td>\n",
       "      <td>0</td>\n",
       "    </tr>\n",
       "    <tr>\n",
       "      <th>...</th>\n",
       "      <td>...</td>\n",
       "      <td>...</td>\n",
       "      <td>...</td>\n",
       "      <td>...</td>\n",
       "      <td>...</td>\n",
       "    </tr>\n",
       "    <tr>\n",
       "      <th>145</th>\n",
       "      <td>6.7</td>\n",
       "      <td>3.0</td>\n",
       "      <td>5.2</td>\n",
       "      <td>2.3</td>\n",
       "      <td>2</td>\n",
       "    </tr>\n",
       "    <tr>\n",
       "      <th>146</th>\n",
       "      <td>6.3</td>\n",
       "      <td>2.5</td>\n",
       "      <td>5.0</td>\n",
       "      <td>1.9</td>\n",
       "      <td>2</td>\n",
       "    </tr>\n",
       "    <tr>\n",
       "      <th>147</th>\n",
       "      <td>6.5</td>\n",
       "      <td>3.0</td>\n",
       "      <td>5.2</td>\n",
       "      <td>2.0</td>\n",
       "      <td>2</td>\n",
       "    </tr>\n",
       "    <tr>\n",
       "      <th>148</th>\n",
       "      <td>6.2</td>\n",
       "      <td>3.4</td>\n",
       "      <td>5.4</td>\n",
       "      <td>2.3</td>\n",
       "      <td>2</td>\n",
       "    </tr>\n",
       "    <tr>\n",
       "      <th>149</th>\n",
       "      <td>5.9</td>\n",
       "      <td>3.0</td>\n",
       "      <td>5.1</td>\n",
       "      <td>1.8</td>\n",
       "      <td>2</td>\n",
       "    </tr>\n",
       "  </tbody>\n",
       "</table>\n",
       "<p>150 rows × 5 columns</p>\n",
       "</div>"
      ],
      "text/plain": [
       "     sepal length (cm)  sepal width (cm)  petal length (cm)  petal width (cm)  \\\n",
       "0                  5.1               3.5                1.4               0.2   \n",
       "1                  4.9               3.0                1.4               0.2   \n",
       "2                  4.7               3.2                1.3               0.2   \n",
       "3                  4.6               3.1                1.5               0.2   \n",
       "4                  5.0               3.6                1.4               0.2   \n",
       "..                 ...               ...                ...               ...   \n",
       "145                6.7               3.0                5.2               2.3   \n",
       "146                6.3               2.5                5.0               1.9   \n",
       "147                6.5               3.0                5.2               2.0   \n",
       "148                6.2               3.4                5.4               2.3   \n",
       "149                5.9               3.0                5.1               1.8   \n",
       "\n",
       "     Target  \n",
       "0         0  \n",
       "1         0  \n",
       "2         0  \n",
       "3         0  \n",
       "4         0  \n",
       "..      ...  \n",
       "145       2  \n",
       "146       2  \n",
       "147       2  \n",
       "148       2  \n",
       "149       2  \n",
       "\n",
       "[150 rows x 5 columns]"
      ]
     },
     "execution_count": 96,
     "metadata": {},
     "output_type": "execute_result"
    }
   ],
   "source": [
    "iris_df = pd.DataFrame(data=iris.data, columns=iris.feature_names)\n",
    "iris_df['Target'] = iris.target\n",
    "iris_df"
   ]
  },
  {
   "cell_type": "code",
   "execution_count": 97,
   "id": "f273671e",
   "metadata": {},
   "outputs": [],
   "source": [
    "X,y = load_iris(return_X_y=True)\n",
    "X_train, X_test, y_train, y_test = train_test_split(X,y,test_size=0.2)"
   ]
  },
  {
   "cell_type": "code",
   "execution_count": 98,
   "id": "aee47218",
   "metadata": {},
   "outputs": [],
   "source": [
    "scaler = StandardScaler()\n",
    "X_train_scale = scaler.fit_transform(X_train)\n",
    "X_test_scale = scaler.transform(X_test)"
   ]
  },
  {
   "cell_type": "code",
   "execution_count": 99,
   "id": "4f180ce1",
   "metadata": {},
   "outputs": [
    {
     "data": {
      "text/plain": [
       "KNeighborsClassifier()"
      ]
     },
     "execution_count": 99,
     "metadata": {},
     "output_type": "execute_result"
    }
   ],
   "source": [
    "model = KNeighborsClassifier()\n",
    "model.fit(X_train,y_train)"
   ]
  },
  {
   "cell_type": "code",
   "execution_count": 100,
   "id": "2d25bedb",
   "metadata": {},
   "outputs": [
    {
     "name": "stdout",
     "output_type": "stream",
     "text": [
      "학습 데이터 점수 : 0.9916666666666667\n",
      "평가 데이터 점수 : 0.9333333333333333\n"
     ]
    }
   ],
   "source": [
    "print('학습 데이터 점수 : {}'.format(model.score(X_train,y_train)))\n",
    "print('평가 데이터 점수 : {}'.format(model.score(X_test,y_test)))"
   ]
  },
  {
   "cell_type": "code",
   "execution_count": 101,
   "id": "7edcd0fd",
   "metadata": {},
   "outputs": [
    {
     "data": {
      "text/plain": [
       "KNeighborsClassifier()"
      ]
     },
     "execution_count": 101,
     "metadata": {},
     "output_type": "execute_result"
    }
   ],
   "source": [
    "model = KNeighborsClassifier()\n",
    "model.fit(X_train_scale,y_train)"
   ]
  },
  {
   "cell_type": "code",
   "execution_count": 102,
   "id": "dc73452b",
   "metadata": {},
   "outputs": [
    {
     "name": "stdout",
     "output_type": "stream",
     "text": [
      "학습 데이터 점수 : 0.975\n",
      "평가 데이터 점수 : 0.9\n"
     ]
    }
   ],
   "source": [
    "print('학습 데이터 점수 : {}'.format(model.score(X_train_scale,y_train)))\n",
    "print('평가 데이터 점수 : {}'.format(model.score(X_test_scale,y_test)))"
   ]
  },
  {
   "cell_type": "code",
   "execution_count": 103,
   "id": "b91be66d",
   "metadata": {},
   "outputs": [
    {
     "name": "stderr",
     "output_type": "stream",
     "text": [
      "[Parallel(n_jobs=8)]: Using backend LokyBackend with 8 concurrent workers.\n",
      "[Parallel(n_jobs=8)]: Done   2 out of   5 | elapsed:    1.0s remaining:    1.6s\n",
      "[Parallel(n_jobs=8)]: Done   5 out of   5 | elapsed:    1.1s finished\n"
     ]
    },
    {
     "data": {
      "text/plain": [
       "{'fit_time': array([0.00100017, 0.00100017, 0.00100017, 0.0010004 , 0.00100017]),\n",
       " 'score_time': array([0.00100136, 0.00099969, 0.00099969, 0.00199986, 0.00100088]),\n",
       " 'test_score': array([0.96666667, 1.        , 0.93333333, 0.96666667, 1.        ])}"
      ]
     },
     "execution_count": 103,
     "metadata": {},
     "output_type": "execute_result"
    }
   ],
   "source": [
    "cross_validate(\n",
    "    estimator=KNeighborsClassifier(),\n",
    "    X=X, y=y,\n",
    "    cv=5,\n",
    "    n_jobs=multiprocessing.cpu_count(),\n",
    "    verbose=True\n",
    ")"
   ]
  },
  {
   "cell_type": "code",
   "execution_count": 104,
   "id": "3f9ae6f9",
   "metadata": {},
   "outputs": [],
   "source": [
    "param_grid = [{'n_neighbors': [3,5,7],\n",
    "              'weights' : ['uniform','distance'],\n",
    "              'algorithm' : ['ball_tree', 'kd_tree', 'brute'] }]"
   ]
  },
  {
   "cell_type": "code",
   "execution_count": 105,
   "id": "f99f3ea4",
   "metadata": {},
   "outputs": [],
   "source": [
    "gs = GridSearchCV(\n",
    "    estimator=KNeighborsClassifier(),\n",
    "    param_grid=param_grid,\n",
    "    n_jobs=multiprocessing.cpu_count(),\n",
    "    verbose=True\n",
    ")"
   ]
  },
  {
   "cell_type": "code",
   "execution_count": 106,
   "id": "5b98f6ab",
   "metadata": {},
   "outputs": [
    {
     "name": "stdout",
     "output_type": "stream",
     "text": [
      "Fitting 5 folds for each of 18 candidates, totalling 90 fits\n"
     ]
    },
    {
     "data": {
      "text/plain": [
       "GridSearchCV(estimator=KNeighborsClassifier(), n_jobs=8,\n",
       "             param_grid=[{'algorithm': ['ball_tree', 'kd_tree', 'brute'],\n",
       "                          'n_neighbors': [3, 5, 7],\n",
       "                          'weights': ['uniform', 'distance']}],\n",
       "             verbose=True)"
      ]
     },
     "execution_count": 106,
     "metadata": {},
     "output_type": "execute_result"
    }
   ],
   "source": [
    "gs.fit(X,y)"
   ]
  },
  {
   "cell_type": "code",
   "execution_count": 107,
   "id": "256e97da",
   "metadata": {},
   "outputs": [
    {
     "data": {
      "text/plain": [
       "KNeighborsClassifier(algorithm='ball_tree', n_neighbors=7)"
      ]
     },
     "execution_count": 107,
     "metadata": {},
     "output_type": "execute_result"
    }
   ],
   "source": [
    "gs.best_estimator_"
   ]
  },
  {
   "cell_type": "code",
   "execution_count": 108,
   "id": "57e6e130",
   "metadata": {},
   "outputs": [
    {
     "name": "stdout",
     "output_type": "stream",
     "text": [
      "GridSearchCV best score :0.9800000000000001\n"
     ]
    }
   ],
   "source": [
    "print('GridSearchCV best score :{}'.format(gs.best_score_))"
   ]
  },
  {
   "cell_type": "code",
   "execution_count": 109,
   "id": "e0456f1d",
   "metadata": {},
   "outputs": [],
   "source": [
    "def make_meshgrid(x,y,h=.02):\n",
    "    x_min, x_max = x.min()-1, x.max()+1\n",
    "    y_min, y_max = y.min()-1, y.max()+1\n",
    "    xx, yy = np.meshgrid(np.arange(x_min, x_max, h),\n",
    "                        np.arange(y_min, y_max, h))\n",
    "    return\n",
    "\n",
    "def plot_contours(clf, xx, yy, **params):\n",
    "    Z = clf.predict(np.c_[xx.ravel(), yy.ravel()])\n",
    "    Z = Z.reshape(xx.shape)\n",
    "    out = plt.contourf(xx,yy,Z,**params)\n",
    "    \n",
    "    return out"
   ]
  },
  {
   "cell_type": "code",
   "execution_count": 110,
   "id": "1c07b2b8",
   "metadata": {},
   "outputs": [],
   "source": [
    "tsne = TSNE(n_components=2)\n",
    "X_comp = tsne.fit_transform(X)"
   ]
  },
  {
   "cell_type": "code",
   "execution_count": 111,
   "id": "baef2483",
   "metadata": {},
   "outputs": [
    {
     "data": {
      "text/html": [
       "<div>\n",
       "<style scoped>\n",
       "    .dataframe tbody tr th:only-of-type {\n",
       "        vertical-align: middle;\n",
       "    }\n",
       "\n",
       "    .dataframe tbody tr th {\n",
       "        vertical-align: top;\n",
       "    }\n",
       "\n",
       "    .dataframe thead th {\n",
       "        text-align: right;\n",
       "    }\n",
       "</style>\n",
       "<table border=\"1\" class=\"dataframe\">\n",
       "  <thead>\n",
       "    <tr style=\"text-align: right;\">\n",
       "      <th></th>\n",
       "      <th>0</th>\n",
       "      <th>1</th>\n",
       "      <th>Target</th>\n",
       "    </tr>\n",
       "  </thead>\n",
       "  <tbody>\n",
       "    <tr>\n",
       "      <th>0</th>\n",
       "      <td>-14.374131</td>\n",
       "      <td>-18.820038</td>\n",
       "      <td>0</td>\n",
       "    </tr>\n",
       "    <tr>\n",
       "      <th>1</th>\n",
       "      <td>-15.457397</td>\n",
       "      <td>-16.325954</td>\n",
       "      <td>0</td>\n",
       "    </tr>\n",
       "    <tr>\n",
       "      <th>2</th>\n",
       "      <td>-14.353516</td>\n",
       "      <td>-16.402164</td>\n",
       "      <td>0</td>\n",
       "    </tr>\n",
       "    <tr>\n",
       "      <th>3</th>\n",
       "      <td>-14.753655</td>\n",
       "      <td>-15.979300</td>\n",
       "      <td>0</td>\n",
       "    </tr>\n",
       "    <tr>\n",
       "      <th>4</th>\n",
       "      <td>-14.481380</td>\n",
       "      <td>-18.836336</td>\n",
       "      <td>0</td>\n",
       "    </tr>\n",
       "    <tr>\n",
       "      <th>...</th>\n",
       "      <td>...</td>\n",
       "      <td>...</td>\n",
       "      <td>...</td>\n",
       "    </tr>\n",
       "    <tr>\n",
       "      <th>145</th>\n",
       "      <td>4.411093</td>\n",
       "      <td>15.048071</td>\n",
       "      <td>2</td>\n",
       "    </tr>\n",
       "    <tr>\n",
       "      <th>146</th>\n",
       "      <td>4.762630</td>\n",
       "      <td>11.935350</td>\n",
       "      <td>2</td>\n",
       "    </tr>\n",
       "    <tr>\n",
       "      <th>147</th>\n",
       "      <td>4.678333</td>\n",
       "      <td>14.163361</td>\n",
       "      <td>2</td>\n",
       "    </tr>\n",
       "    <tr>\n",
       "      <th>148</th>\n",
       "      <td>3.499342</td>\n",
       "      <td>15.088404</td>\n",
       "      <td>2</td>\n",
       "    </tr>\n",
       "    <tr>\n",
       "      <th>149</th>\n",
       "      <td>4.128881</td>\n",
       "      <td>11.067137</td>\n",
       "      <td>2</td>\n",
       "    </tr>\n",
       "  </tbody>\n",
       "</table>\n",
       "<p>150 rows × 3 columns</p>\n",
       "</div>"
      ],
      "text/plain": [
       "             0          1  Target\n",
       "0   -14.374131 -18.820038       0\n",
       "1   -15.457397 -16.325954       0\n",
       "2   -14.353516 -16.402164       0\n",
       "3   -14.753655 -15.979300       0\n",
       "4   -14.481380 -18.836336       0\n",
       "..         ...        ...     ...\n",
       "145   4.411093  15.048071       2\n",
       "146   4.762630  11.935350       2\n",
       "147   4.678333  14.163361       2\n",
       "148   3.499342  15.088404       2\n",
       "149   4.128881  11.067137       2\n",
       "\n",
       "[150 rows x 3 columns]"
      ]
     },
     "execution_count": 111,
     "metadata": {},
     "output_type": "execute_result"
    }
   ],
   "source": [
    "iris_comp_df = pd.DataFrame(data=X_comp)\n",
    "iris_comp_df['Target'] = y\n",
    "iris_comp_df"
   ]
  },
  {
   "cell_type": "code",
   "execution_count": 112,
   "id": "688e3920",
   "metadata": {},
   "outputs": [
    {
     "data": {
      "text/plain": [
       "<matplotlib.collections.PathCollection at 0x1293024b910>"
      ]
     },
     "execution_count": 112,
     "metadata": {},
     "output_type": "execute_result"
    },
    {
     "data": {
      "image/png": "[encoded data removed]",
      "text/plain": [
       "<Figure size 432x288 with 1 Axes>"
      ]
     },
     "metadata": {},
     "output_type": "display_data"
    }
   ],
   "source": [
    "plt.scatter(X_comp[:,0], X_comp[:,1],\n",
    "           c=y, cmap=plt.cm.coolwarm, s=20, edgecolors='k')"
   ]
  },
  {
   "cell_type": "code",
   "execution_count": 113,
   "id": "39e50a9e",
   "metadata": {},
   "outputs": [],
   "source": [
    "model = KNeighborsClassifier()\n",
    "model.fit(X_comp, y)\n",
    "predict = model.predict(X_comp)"
   ]
  },
  {
   "cell_type": "code",
   "execution_count": 114,
   "id": "d05528ea",
   "metadata": {},
   "outputs": [
    {
     "ename": "TypeError",
     "evalue": "cannot unpack non-iterable NoneType object",
     "output_type": "error",
     "traceback": [
      "\u001b[1;31m---------------------------------------------------------------------------\u001b[0m",
      "\u001b[1;31mTypeError\u001b[0m                                 Traceback (most recent call last)",
      "Input \u001b[1;32mIn [114]\u001b[0m, in \u001b[0;36m<cell line: 1>\u001b[1;34m()\u001b[0m\n\u001b[1;32m----> 1\u001b[0m xx, yy \u001b[38;5;241m=\u001b[39m make_meshgrid(X_comp[:,\u001b[38;5;241m0\u001b[39m], X_comp[:,\u001b[38;5;241m1\u001b[39m])\n\u001b[0;32m      2\u001b[0m plot_contours(model, xx, yy, cmap\u001b[38;5;241m=\u001b[39mplt\u001b[38;5;241m.\u001b[39mcm\u001b[38;5;241m.\u001b[39mcoolwarm, alpha\u001b[38;5;241m=\u001b[39m\u001b[38;5;241m0.8\u001b[39m)\n\u001b[0;32m      3\u001b[0m plt\u001b[38;5;241m.\u001b[39mscatter(X_comp[:,\u001b[38;5;241m0\u001b[39m], X_comp[:,\u001b[38;5;241m1\u001b[39m], c\u001b[38;5;241m=\u001b[39my, cmap\u001b[38;5;241m=\u001b[39mplt\u001b[38;5;241m.\u001b[39mcm\u001b[38;5;241m.\u001b[39mcoolwarm, s\u001b[38;5;241m=\u001b[39m\u001b[38;5;241m20\u001b[39m, edgecolors\u001b[38;5;241m=\u001b[39m\u001b[38;5;124m'\u001b[39m\u001b[38;5;124mk\u001b[39m\u001b[38;5;124m'\u001b[39m)\n",
      "\u001b[1;31mTypeError\u001b[0m: cannot unpack non-iterable NoneType object"
     ]
    }
   ],
   "source": [
    "xx, yy = make_meshgrid(X_comp[:,0], X_comp[:,1])\n",
    "plot_contours(model, xx, yy, cmap=plt.cm.coolwarm, alpha=0.8)\n",
    "plt.scatter(X_comp[:,0], X_comp[:,1], c=y, cmap=plt.cm.coolwarm, s=20, edgecolors='k')"
   ]
  },
  {
   "cell_type": "markdown",
   "id": "d8bc6eb2",
   "metadata": {},
   "source": [
    "#### 유방암 데이터"
   ]
  },
  {
   "cell_type": "code",
   "execution_count": 115,
   "id": "bc9b7fcd",
   "metadata": {},
   "outputs": [],
   "source": [
    "cancer = load_breast_cancer()"
   ]
  },
  {
   "cell_type": "code",
   "execution_count": 116,
   "id": "c510389c",
   "metadata": {},
   "outputs": [
    {
     "data": {
      "text/html": [
       "<div>\n",
       "<style scoped>\n",
       "    .dataframe tbody tr th:only-of-type {\n",
       "        vertical-align: middle;\n",
       "    }\n",
       "\n",
       "    .dataframe tbody tr th {\n",
       "        vertical-align: top;\n",
       "    }\n",
       "\n",
       "    .dataframe thead th {\n",
       "        text-align: right;\n",
       "    }\n",
       "</style>\n",
       "<table border=\"1\" class=\"dataframe\">\n",
       "  <thead>\n",
       "    <tr style=\"text-align: right;\">\n",
       "      <th></th>\n",
       "      <th>mean radius</th>\n",
       "      <th>mean texture</th>\n",
       "      <th>mean perimeter</th>\n",
       "      <th>mean area</th>\n",
       "      <th>mean smoothness</th>\n",
       "      <th>mean compactness</th>\n",
       "      <th>mean concavity</th>\n",
       "      <th>mean concave points</th>\n",
       "      <th>mean symmetry</th>\n",
       "      <th>mean fractal dimension</th>\n",
       "      <th>...</th>\n",
       "      <th>worst texture</th>\n",
       "      <th>worst perimeter</th>\n",
       "      <th>worst area</th>\n",
       "      <th>worst smoothness</th>\n",
       "      <th>worst compactness</th>\n",
       "      <th>worst concavity</th>\n",
       "      <th>worst concave points</th>\n",
       "      <th>worst symmetry</th>\n",
       "      <th>worst fractal dimension</th>\n",
       "      <th>Target</th>\n",
       "    </tr>\n",
       "  </thead>\n",
       "  <tbody>\n",
       "    <tr>\n",
       "      <th>0</th>\n",
       "      <td>17.99</td>\n",
       "      <td>10.38</td>\n",
       "      <td>122.80</td>\n",
       "      <td>1001.0</td>\n",
       "      <td>0.11840</td>\n",
       "      <td>0.27760</td>\n",
       "      <td>0.30010</td>\n",
       "      <td>0.14710</td>\n",
       "      <td>0.2419</td>\n",
       "      <td>0.07871</td>\n",
       "      <td>...</td>\n",
       "      <td>17.33</td>\n",
       "      <td>184.60</td>\n",
       "      <td>2019.0</td>\n",
       "      <td>0.16220</td>\n",
       "      <td>0.66560</td>\n",
       "      <td>0.7119</td>\n",
       "      <td>0.2654</td>\n",
       "      <td>0.4601</td>\n",
       "      <td>0.11890</td>\n",
       "      <td>0</td>\n",
       "    </tr>\n",
       "    <tr>\n",
       "      <th>1</th>\n",
       "      <td>20.57</td>\n",
       "      <td>17.77</td>\n",
       "      <td>132.90</td>\n",
       "      <td>1326.0</td>\n",
       "      <td>0.08474</td>\n",
       "      <td>0.07864</td>\n",
       "      <td>0.08690</td>\n",
       "      <td>0.07017</td>\n",
       "      <td>0.1812</td>\n",
       "      <td>0.05667</td>\n",
       "      <td>...</td>\n",
       "      <td>23.41</td>\n",
       "      <td>158.80</td>\n",
       "      <td>1956.0</td>\n",
       "      <td>0.12380</td>\n",
       "      <td>0.18660</td>\n",
       "      <td>0.2416</td>\n",
       "      <td>0.1860</td>\n",
       "      <td>0.2750</td>\n",
       "      <td>0.08902</td>\n",
       "      <td>0</td>\n",
       "    </tr>\n",
       "    <tr>\n",
       "      <th>2</th>\n",
       "      <td>19.69</td>\n",
       "      <td>21.25</td>\n",
       "      <td>130.00</td>\n",
       "      <td>1203.0</td>\n",
       "      <td>0.10960</td>\n",
       "      <td>0.15990</td>\n",
       "      <td>0.19740</td>\n",
       "      <td>0.12790</td>\n",
       "      <td>0.2069</td>\n",
       "      <td>0.05999</td>\n",
       "      <td>...</td>\n",
       "      <td>25.53</td>\n",
       "      <td>152.50</td>\n",
       "      <td>1709.0</td>\n",
       "      <td>0.14440</td>\n",
       "      <td>0.42450</td>\n",
       "      <td>0.4504</td>\n",
       "      <td>0.2430</td>\n",
       "      <td>0.3613</td>\n",
       "      <td>0.08758</td>\n",
       "      <td>0</td>\n",
       "    </tr>\n",
       "    <tr>\n",
       "      <th>3</th>\n",
       "      <td>11.42</td>\n",
       "      <td>20.38</td>\n",
       "      <td>77.58</td>\n",
       "      <td>386.1</td>\n",
       "      <td>0.14250</td>\n",
       "      <td>0.28390</td>\n",
       "      <td>0.24140</td>\n",
       "      <td>0.10520</td>\n",
       "      <td>0.2597</td>\n",
       "      <td>0.09744</td>\n",
       "      <td>...</td>\n",
       "      <td>26.50</td>\n",
       "      <td>98.87</td>\n",
       "      <td>567.7</td>\n",
       "      <td>0.20980</td>\n",
       "      <td>0.86630</td>\n",
       "      <td>0.6869</td>\n",
       "      <td>0.2575</td>\n",
       "      <td>0.6638</td>\n",
       "      <td>0.17300</td>\n",
       "      <td>0</td>\n",
       "    </tr>\n",
       "    <tr>\n",
       "      <th>4</th>\n",
       "      <td>20.29</td>\n",
       "      <td>14.34</td>\n",
       "      <td>135.10</td>\n",
       "      <td>1297.0</td>\n",
       "      <td>0.10030</td>\n",
       "      <td>0.13280</td>\n",
       "      <td>0.19800</td>\n",
       "      <td>0.10430</td>\n",
       "      <td>0.1809</td>\n",
       "      <td>0.05883</td>\n",
       "      <td>...</td>\n",
       "      <td>16.67</td>\n",
       "      <td>152.20</td>\n",
       "      <td>1575.0</td>\n",
       "      <td>0.13740</td>\n",
       "      <td>0.20500</td>\n",
       "      <td>0.4000</td>\n",
       "      <td>0.1625</td>\n",
       "      <td>0.2364</td>\n",
       "      <td>0.07678</td>\n",
       "      <td>0</td>\n",
       "    </tr>\n",
       "    <tr>\n",
       "      <th>...</th>\n",
       "      <td>...</td>\n",
       "      <td>...</td>\n",
       "      <td>...</td>\n",
       "      <td>...</td>\n",
       "      <td>...</td>\n",
       "      <td>...</td>\n",
       "      <td>...</td>\n",
       "      <td>...</td>\n",
       "      <td>...</td>\n",
       "      <td>...</td>\n",
       "      <td>...</td>\n",
       "      <td>...</td>\n",
       "      <td>...</td>\n",
       "      <td>...</td>\n",
       "      <td>...</td>\n",
       "      <td>...</td>\n",
       "      <td>...</td>\n",
       "      <td>...</td>\n",
       "      <td>...</td>\n",
       "      <td>...</td>\n",
       "      <td>...</td>\n",
       "    </tr>\n",
       "    <tr>\n",
       "      <th>564</th>\n",
       "      <td>21.56</td>\n",
       "      <td>22.39</td>\n",
       "      <td>142.00</td>\n",
       "      <td>1479.0</td>\n",
       "      <td>0.11100</td>\n",
       "      <td>0.11590</td>\n",
       "      <td>0.24390</td>\n",
       "      <td>0.13890</td>\n",
       "      <td>0.1726</td>\n",
       "      <td>0.05623</td>\n",
       "      <td>...</td>\n",
       "      <td>26.40</td>\n",
       "      <td>166.10</td>\n",
       "      <td>2027.0</td>\n",
       "      <td>0.14100</td>\n",
       "      <td>0.21130</td>\n",
       "      <td>0.4107</td>\n",
       "      <td>0.2216</td>\n",
       "      <td>0.2060</td>\n",
       "      <td>0.07115</td>\n",
       "      <td>0</td>\n",
       "    </tr>\n",
       "    <tr>\n",
       "      <th>565</th>\n",
       "      <td>20.13</td>\n",
       "      <td>28.25</td>\n",
       "      <td>131.20</td>\n",
       "      <td>1261.0</td>\n",
       "      <td>0.09780</td>\n",
       "      <td>0.10340</td>\n",
       "      <td>0.14400</td>\n",
       "      <td>0.09791</td>\n",
       "      <td>0.1752</td>\n",
       "      <td>0.05533</td>\n",
       "      <td>...</td>\n",
       "      <td>38.25</td>\n",
       "      <td>155.00</td>\n",
       "      <td>1731.0</td>\n",
       "      <td>0.11660</td>\n",
       "      <td>0.19220</td>\n",
       "      <td>0.3215</td>\n",
       "      <td>0.1628</td>\n",
       "      <td>0.2572</td>\n",
       "      <td>0.06637</td>\n",
       "      <td>0</td>\n",
       "    </tr>\n",
       "    <tr>\n",
       "      <th>566</th>\n",
       "      <td>16.60</td>\n",
       "      <td>28.08</td>\n",
       "      <td>108.30</td>\n",
       "      <td>858.1</td>\n",
       "      <td>0.08455</td>\n",
       "      <td>0.10230</td>\n",
       "      <td>0.09251</td>\n",
       "      <td>0.05302</td>\n",
       "      <td>0.1590</td>\n",
       "      <td>0.05648</td>\n",
       "      <td>...</td>\n",
       "      <td>34.12</td>\n",
       "      <td>126.70</td>\n",
       "      <td>1124.0</td>\n",
       "      <td>0.11390</td>\n",
       "      <td>0.30940</td>\n",
       "      <td>0.3403</td>\n",
       "      <td>0.1418</td>\n",
       "      <td>0.2218</td>\n",
       "      <td>0.07820</td>\n",
       "      <td>0</td>\n",
       "    </tr>\n",
       "    <tr>\n",
       "      <th>567</th>\n",
       "      <td>20.60</td>\n",
       "      <td>29.33</td>\n",
       "      <td>140.10</td>\n",
       "      <td>1265.0</td>\n",
       "      <td>0.11780</td>\n",
       "      <td>0.27700</td>\n",
       "      <td>0.35140</td>\n",
       "      <td>0.15200</td>\n",
       "      <td>0.2397</td>\n",
       "      <td>0.07016</td>\n",
       "      <td>...</td>\n",
       "      <td>39.42</td>\n",
       "      <td>184.60</td>\n",
       "      <td>1821.0</td>\n",
       "      <td>0.16500</td>\n",
       "      <td>0.86810</td>\n",
       "      <td>0.9387</td>\n",
       "      <td>0.2650</td>\n",
       "      <td>0.4087</td>\n",
       "      <td>0.12400</td>\n",
       "      <td>0</td>\n",
       "    </tr>\n",
       "    <tr>\n",
       "      <th>568</th>\n",
       "      <td>7.76</td>\n",
       "      <td>24.54</td>\n",
       "      <td>47.92</td>\n",
       "      <td>181.0</td>\n",
       "      <td>0.05263</td>\n",
       "      <td>0.04362</td>\n",
       "      <td>0.00000</td>\n",
       "      <td>0.00000</td>\n",
       "      <td>0.1587</td>\n",
       "      <td>0.05884</td>\n",
       "      <td>...</td>\n",
       "      <td>30.37</td>\n",
       "      <td>59.16</td>\n",
       "      <td>268.6</td>\n",
       "      <td>0.08996</td>\n",
       "      <td>0.06444</td>\n",
       "      <td>0.0000</td>\n",
       "      <td>0.0000</td>\n",
       "      <td>0.2871</td>\n",
       "      <td>0.07039</td>\n",
       "      <td>1</td>\n",
       "    </tr>\n",
       "  </tbody>\n",
       "</table>\n",
       "<p>569 rows × 31 columns</p>\n",
       "</div>"
      ],
      "text/plain": [
       "     mean radius  mean texture  mean perimeter  mean area  mean smoothness  \\\n",
       "0          17.99         10.38          122.80     1001.0          0.11840   \n",
       "1          20.57         17.77          132.90     1326.0          0.08474   \n",
       "2          19.69         21.25          130.00     1203.0          0.10960   \n",
       "3          11.42         20.38           77.58      386.1          0.14250   \n",
       "4          20.29         14.34          135.10     1297.0          0.10030   \n",
       "..           ...           ...             ...        ...              ...   \n",
       "564        21.56         22.39          142.00     1479.0          0.11100   \n",
       "565        20.13         28.25          131.20     1261.0          0.09780   \n",
       "566        16.60         28.08          108.30      858.1          0.08455   \n",
       "567        20.60         29.33          140.10     1265.0          0.11780   \n",
       "568         7.76         24.54           47.92      181.0          0.05263   \n",
       "\n",
       "     mean compactness  mean concavity  mean concave points  mean symmetry  \\\n",
       "0             0.27760         0.30010              0.14710         0.2419   \n",
       "1             0.07864         0.08690              0.07017         0.1812   \n",
       "2             0.15990         0.19740              0.12790         0.2069   \n",
       "3             0.28390         0.24140              0.10520         0.2597   \n",
       "4             0.13280         0.19800              0.10430         0.1809   \n",
       "..                ...             ...                  ...            ...   \n",
       "564           0.11590         0.24390              0.13890         0.1726   \n",
       "565           0.10340         0.14400              0.09791         0.1752   \n",
       "566           0.10230         0.09251              0.05302         0.1590   \n",
       "567           0.27700         0.35140              0.15200         0.2397   \n",
       "568           0.04362         0.00000              0.00000         0.1587   \n",
       "\n",
       "     mean fractal dimension  ...  worst texture  worst perimeter  worst area  \\\n",
       "0                   0.07871  ...          17.33           184.60      2019.0   \n",
       "1                   0.05667  ...          23.41           158.80      1956.0   \n",
       "2                   0.05999  ...          25.53           152.50      1709.0   \n",
       "3                   0.09744  ...          26.50            98.87       567.7   \n",
       "4                   0.05883  ...          16.67           152.20      1575.0   \n",
       "..                      ...  ...            ...              ...         ...   \n",
       "564                 0.05623  ...          26.40           166.10      2027.0   \n",
       "565                 0.05533  ...          38.25           155.00      1731.0   \n",
       "566                 0.05648  ...          34.12           126.70      1124.0   \n",
       "567                 0.07016  ...          39.42           184.60      1821.0   \n",
       "568                 0.05884  ...          30.37            59.16       268.6   \n",
       "\n",
       "     worst smoothness  worst compactness  worst concavity  \\\n",
       "0             0.16220            0.66560           0.7119   \n",
       "1             0.12380            0.18660           0.2416   \n",
       "2             0.14440            0.42450           0.4504   \n",
       "3             0.20980            0.86630           0.6869   \n",
       "4             0.13740            0.20500           0.4000   \n",
       "..                ...                ...              ...   \n",
       "564           0.14100            0.21130           0.4107   \n",
       "565           0.11660            0.19220           0.3215   \n",
       "566           0.11390            0.30940           0.3403   \n",
       "567           0.16500            0.86810           0.9387   \n",
       "568           0.08996            0.06444           0.0000   \n",
       "\n",
       "     worst concave points  worst symmetry  worst fractal dimension  Target  \n",
       "0                  0.2654          0.4601                  0.11890       0  \n",
       "1                  0.1860          0.2750                  0.08902       0  \n",
       "2                  0.2430          0.3613                  0.08758       0  \n",
       "3                  0.2575          0.6638                  0.17300       0  \n",
       "4                  0.1625          0.2364                  0.07678       0  \n",
       "..                    ...             ...                      ...     ...  \n",
       "564                0.2216          0.2060                  0.07115       0  \n",
       "565                0.1628          0.2572                  0.06637       0  \n",
       "566                0.1418          0.2218                  0.07820       0  \n",
       "567                0.2650          0.4087                  0.12400       0  \n",
       "568                0.0000          0.2871                  0.07039       1  \n",
       "\n",
       "[569 rows x 31 columns]"
      ]
     },
     "execution_count": 116,
     "metadata": {},
     "output_type": "execute_result"
    }
   ],
   "source": [
    "cancer_df = pd.DataFrame(data=cancer.data, columns=cancer.feature_names)\n",
    "cancer_df['Target'] = cancer.target\n",
    "cancer_df"
   ]
  },
  {
   "cell_type": "code",
   "execution_count": 117,
   "id": "c04e7a66",
   "metadata": {},
   "outputs": [],
   "source": [
    "X, y = cancer.data, cancer.target\n",
    "X_train, X_test, y_train, y_test = train_test_split(X,y,test_size=0.2)"
   ]
  },
  {
   "cell_type": "code",
   "execution_count": 118,
   "id": "37df4bc9",
   "metadata": {},
   "outputs": [
    {
     "data": {
      "text/html": [
       "<div>\n",
       "<style scoped>\n",
       "    .dataframe tbody tr th:only-of-type {\n",
       "        vertical-align: middle;\n",
       "    }\n",
       "\n",
       "    .dataframe tbody tr th {\n",
       "        vertical-align: top;\n",
       "    }\n",
       "\n",
       "    .dataframe thead th {\n",
       "        text-align: right;\n",
       "    }\n",
       "</style>\n",
       "<table border=\"1\" class=\"dataframe\">\n",
       "  <thead>\n",
       "    <tr style=\"text-align: right;\">\n",
       "      <th></th>\n",
       "      <th>mean radius</th>\n",
       "      <th>mean texture</th>\n",
       "      <th>mean perimeter</th>\n",
       "      <th>mean area</th>\n",
       "      <th>mean smoothness</th>\n",
       "      <th>mean compactness</th>\n",
       "      <th>mean concavity</th>\n",
       "      <th>mean concave points</th>\n",
       "      <th>mean symmetry</th>\n",
       "      <th>mean fractal dimension</th>\n",
       "      <th>...</th>\n",
       "      <th>worst texture</th>\n",
       "      <th>worst perimeter</th>\n",
       "      <th>worst area</th>\n",
       "      <th>worst smoothness</th>\n",
       "      <th>worst compactness</th>\n",
       "      <th>worst concavity</th>\n",
       "      <th>worst concave points</th>\n",
       "      <th>worst symmetry</th>\n",
       "      <th>worst fractal dimension</th>\n",
       "      <th>Target</th>\n",
       "    </tr>\n",
       "  </thead>\n",
       "  <tbody>\n",
       "    <tr>\n",
       "      <th>0</th>\n",
       "      <td>15.190</td>\n",
       "      <td>13.21</td>\n",
       "      <td>97.65</td>\n",
       "      <td>711.8</td>\n",
       "      <td>0.07963</td>\n",
       "      <td>0.06934</td>\n",
       "      <td>0.033930</td>\n",
       "      <td>0.02657</td>\n",
       "      <td>0.1721</td>\n",
       "      <td>0.05544</td>\n",
       "      <td>...</td>\n",
       "      <td>15.73</td>\n",
       "      <td>104.50</td>\n",
       "      <td>819.1</td>\n",
       "      <td>0.11260</td>\n",
       "      <td>0.17370</td>\n",
       "      <td>0.13620</td>\n",
       "      <td>0.08178</td>\n",
       "      <td>0.2487</td>\n",
       "      <td>0.06766</td>\n",
       "      <td>1</td>\n",
       "    </tr>\n",
       "    <tr>\n",
       "      <th>1</th>\n",
       "      <td>19.000</td>\n",
       "      <td>18.91</td>\n",
       "      <td>123.40</td>\n",
       "      <td>1138.0</td>\n",
       "      <td>0.08217</td>\n",
       "      <td>0.08028</td>\n",
       "      <td>0.092710</td>\n",
       "      <td>0.05627</td>\n",
       "      <td>0.1946</td>\n",
       "      <td>0.05044</td>\n",
       "      <td>...</td>\n",
       "      <td>25.73</td>\n",
       "      <td>148.20</td>\n",
       "      <td>1538.0</td>\n",
       "      <td>0.10210</td>\n",
       "      <td>0.22640</td>\n",
       "      <td>0.32070</td>\n",
       "      <td>0.12180</td>\n",
       "      <td>0.2841</td>\n",
       "      <td>0.06541</td>\n",
       "      <td>0</td>\n",
       "    </tr>\n",
       "    <tr>\n",
       "      <th>2</th>\n",
       "      <td>10.170</td>\n",
       "      <td>14.88</td>\n",
       "      <td>64.55</td>\n",
       "      <td>311.9</td>\n",
       "      <td>0.11340</td>\n",
       "      <td>0.08061</td>\n",
       "      <td>0.010840</td>\n",
       "      <td>0.01290</td>\n",
       "      <td>0.2743</td>\n",
       "      <td>0.06960</td>\n",
       "      <td>...</td>\n",
       "      <td>17.45</td>\n",
       "      <td>69.86</td>\n",
       "      <td>368.6</td>\n",
       "      <td>0.12750</td>\n",
       "      <td>0.09866</td>\n",
       "      <td>0.02168</td>\n",
       "      <td>0.02579</td>\n",
       "      <td>0.3557</td>\n",
       "      <td>0.08020</td>\n",
       "      <td>1</td>\n",
       "    </tr>\n",
       "    <tr>\n",
       "      <th>3</th>\n",
       "      <td>10.290</td>\n",
       "      <td>27.61</td>\n",
       "      <td>65.67</td>\n",
       "      <td>321.4</td>\n",
       "      <td>0.09030</td>\n",
       "      <td>0.07658</td>\n",
       "      <td>0.059990</td>\n",
       "      <td>0.02738</td>\n",
       "      <td>0.1593</td>\n",
       "      <td>0.06127</td>\n",
       "      <td>...</td>\n",
       "      <td>34.91</td>\n",
       "      <td>69.57</td>\n",
       "      <td>357.6</td>\n",
       "      <td>0.13840</td>\n",
       "      <td>0.17100</td>\n",
       "      <td>0.20000</td>\n",
       "      <td>0.09127</td>\n",
       "      <td>0.2226</td>\n",
       "      <td>0.08283</td>\n",
       "      <td>1</td>\n",
       "    </tr>\n",
       "    <tr>\n",
       "      <th>4</th>\n",
       "      <td>13.110</td>\n",
       "      <td>22.54</td>\n",
       "      <td>87.02</td>\n",
       "      <td>529.4</td>\n",
       "      <td>0.10020</td>\n",
       "      <td>0.14830</td>\n",
       "      <td>0.087050</td>\n",
       "      <td>0.05102</td>\n",
       "      <td>0.1850</td>\n",
       "      <td>0.07310</td>\n",
       "      <td>...</td>\n",
       "      <td>29.16</td>\n",
       "      <td>99.48</td>\n",
       "      <td>639.3</td>\n",
       "      <td>0.13490</td>\n",
       "      <td>0.44020</td>\n",
       "      <td>0.31620</td>\n",
       "      <td>0.11260</td>\n",
       "      <td>0.4128</td>\n",
       "      <td>0.10760</td>\n",
       "      <td>1</td>\n",
       "    </tr>\n",
       "    <tr>\n",
       "      <th>...</th>\n",
       "      <td>...</td>\n",
       "      <td>...</td>\n",
       "      <td>...</td>\n",
       "      <td>...</td>\n",
       "      <td>...</td>\n",
       "      <td>...</td>\n",
       "      <td>...</td>\n",
       "      <td>...</td>\n",
       "      <td>...</td>\n",
       "      <td>...</td>\n",
       "      <td>...</td>\n",
       "      <td>...</td>\n",
       "      <td>...</td>\n",
       "      <td>...</td>\n",
       "      <td>...</td>\n",
       "      <td>...</td>\n",
       "      <td>...</td>\n",
       "      <td>...</td>\n",
       "      <td>...</td>\n",
       "      <td>...</td>\n",
       "      <td>...</td>\n",
       "    </tr>\n",
       "    <tr>\n",
       "      <th>450</th>\n",
       "      <td>11.940</td>\n",
       "      <td>20.76</td>\n",
       "      <td>77.87</td>\n",
       "      <td>441.0</td>\n",
       "      <td>0.08605</td>\n",
       "      <td>0.10110</td>\n",
       "      <td>0.065740</td>\n",
       "      <td>0.03791</td>\n",
       "      <td>0.1588</td>\n",
       "      <td>0.06766</td>\n",
       "      <td>...</td>\n",
       "      <td>27.29</td>\n",
       "      <td>92.20</td>\n",
       "      <td>546.1</td>\n",
       "      <td>0.11160</td>\n",
       "      <td>0.28130</td>\n",
       "      <td>0.23650</td>\n",
       "      <td>0.11550</td>\n",
       "      <td>0.2465</td>\n",
       "      <td>0.09981</td>\n",
       "      <td>1</td>\n",
       "    </tr>\n",
       "    <tr>\n",
       "      <th>451</th>\n",
       "      <td>14.450</td>\n",
       "      <td>20.22</td>\n",
       "      <td>94.49</td>\n",
       "      <td>642.7</td>\n",
       "      <td>0.09872</td>\n",
       "      <td>0.12060</td>\n",
       "      <td>0.118000</td>\n",
       "      <td>0.05980</td>\n",
       "      <td>0.1950</td>\n",
       "      <td>0.06466</td>\n",
       "      <td>...</td>\n",
       "      <td>30.12</td>\n",
       "      <td>117.90</td>\n",
       "      <td>1044.0</td>\n",
       "      <td>0.15520</td>\n",
       "      <td>0.40560</td>\n",
       "      <td>0.49670</td>\n",
       "      <td>0.18380</td>\n",
       "      <td>0.4753</td>\n",
       "      <td>0.10130</td>\n",
       "      <td>0</td>\n",
       "    </tr>\n",
       "    <tr>\n",
       "      <th>452</th>\n",
       "      <td>12.960</td>\n",
       "      <td>18.29</td>\n",
       "      <td>84.18</td>\n",
       "      <td>525.2</td>\n",
       "      <td>0.07351</td>\n",
       "      <td>0.07899</td>\n",
       "      <td>0.040570</td>\n",
       "      <td>0.01883</td>\n",
       "      <td>0.1874</td>\n",
       "      <td>0.05899</td>\n",
       "      <td>...</td>\n",
       "      <td>24.61</td>\n",
       "      <td>96.31</td>\n",
       "      <td>621.9</td>\n",
       "      <td>0.09329</td>\n",
       "      <td>0.23180</td>\n",
       "      <td>0.16040</td>\n",
       "      <td>0.06608</td>\n",
       "      <td>0.3207</td>\n",
       "      <td>0.07247</td>\n",
       "      <td>1</td>\n",
       "    </tr>\n",
       "    <tr>\n",
       "      <th>453</th>\n",
       "      <td>9.504</td>\n",
       "      <td>12.44</td>\n",
       "      <td>60.34</td>\n",
       "      <td>273.9</td>\n",
       "      <td>0.10240</td>\n",
       "      <td>0.06492</td>\n",
       "      <td>0.029560</td>\n",
       "      <td>0.02076</td>\n",
       "      <td>0.1815</td>\n",
       "      <td>0.06905</td>\n",
       "      <td>...</td>\n",
       "      <td>15.66</td>\n",
       "      <td>65.13</td>\n",
       "      <td>314.9</td>\n",
       "      <td>0.13240</td>\n",
       "      <td>0.11480</td>\n",
       "      <td>0.08867</td>\n",
       "      <td>0.06227</td>\n",
       "      <td>0.2450</td>\n",
       "      <td>0.07773</td>\n",
       "      <td>1</td>\n",
       "    </tr>\n",
       "    <tr>\n",
       "      <th>454</th>\n",
       "      <td>10.160</td>\n",
       "      <td>19.59</td>\n",
       "      <td>64.73</td>\n",
       "      <td>311.7</td>\n",
       "      <td>0.10030</td>\n",
       "      <td>0.07504</td>\n",
       "      <td>0.005025</td>\n",
       "      <td>0.01116</td>\n",
       "      <td>0.1791</td>\n",
       "      <td>0.06331</td>\n",
       "      <td>...</td>\n",
       "      <td>22.88</td>\n",
       "      <td>67.88</td>\n",
       "      <td>347.3</td>\n",
       "      <td>0.12650</td>\n",
       "      <td>0.12000</td>\n",
       "      <td>0.01005</td>\n",
       "      <td>0.02232</td>\n",
       "      <td>0.2262</td>\n",
       "      <td>0.06742</td>\n",
       "      <td>1</td>\n",
       "    </tr>\n",
       "  </tbody>\n",
       "</table>\n",
       "<p>455 rows × 31 columns</p>\n",
       "</div>"
      ],
      "text/plain": [
       "     mean radius  mean texture  mean perimeter  mean area  mean smoothness  \\\n",
       "0         15.190         13.21           97.65      711.8          0.07963   \n",
       "1         19.000         18.91          123.40     1138.0          0.08217   \n",
       "2         10.170         14.88           64.55      311.9          0.11340   \n",
       "3         10.290         27.61           65.67      321.4          0.09030   \n",
       "4         13.110         22.54           87.02      529.4          0.10020   \n",
       "..           ...           ...             ...        ...              ...   \n",
       "450       11.940         20.76           77.87      441.0          0.08605   \n",
       "451       14.450         20.22           94.49      642.7          0.09872   \n",
       "452       12.960         18.29           84.18      525.2          0.07351   \n",
       "453        9.504         12.44           60.34      273.9          0.10240   \n",
       "454       10.160         19.59           64.73      311.7          0.10030   \n",
       "\n",
       "     mean compactness  mean concavity  mean concave points  mean symmetry  \\\n",
       "0             0.06934        0.033930              0.02657         0.1721   \n",
       "1             0.08028        0.092710              0.05627         0.1946   \n",
       "2             0.08061        0.010840              0.01290         0.2743   \n",
       "3             0.07658        0.059990              0.02738         0.1593   \n",
       "4             0.14830        0.087050              0.05102         0.1850   \n",
       "..                ...             ...                  ...            ...   \n",
       "450           0.10110        0.065740              0.03791         0.1588   \n",
       "451           0.12060        0.118000              0.05980         0.1950   \n",
       "452           0.07899        0.040570              0.01883         0.1874   \n",
       "453           0.06492        0.029560              0.02076         0.1815   \n",
       "454           0.07504        0.005025              0.01116         0.1791   \n",
       "\n",
       "     mean fractal dimension  ...  worst texture  worst perimeter  worst area  \\\n",
       "0                   0.05544  ...          15.73           104.50       819.1   \n",
       "1                   0.05044  ...          25.73           148.20      1538.0   \n",
       "2                   0.06960  ...          17.45            69.86       368.6   \n",
       "3                   0.06127  ...          34.91            69.57       357.6   \n",
       "4                   0.07310  ...          29.16            99.48       639.3   \n",
       "..                      ...  ...            ...              ...         ...   \n",
       "450                 0.06766  ...          27.29            92.20       546.1   \n",
       "451                 0.06466  ...          30.12           117.90      1044.0   \n",
       "452                 0.05899  ...          24.61            96.31       621.9   \n",
       "453                 0.06905  ...          15.66            65.13       314.9   \n",
       "454                 0.06331  ...          22.88            67.88       347.3   \n",
       "\n",
       "     worst smoothness  worst compactness  worst concavity  \\\n",
       "0             0.11260            0.17370          0.13620   \n",
       "1             0.10210            0.22640          0.32070   \n",
       "2             0.12750            0.09866          0.02168   \n",
       "3             0.13840            0.17100          0.20000   \n",
       "4             0.13490            0.44020          0.31620   \n",
       "..                ...                ...              ...   \n",
       "450           0.11160            0.28130          0.23650   \n",
       "451           0.15520            0.40560          0.49670   \n",
       "452           0.09329            0.23180          0.16040   \n",
       "453           0.13240            0.11480          0.08867   \n",
       "454           0.12650            0.12000          0.01005   \n",
       "\n",
       "     worst concave points  worst symmetry  worst fractal dimension  Target  \n",
       "0                 0.08178          0.2487                  0.06766       1  \n",
       "1                 0.12180          0.2841                  0.06541       0  \n",
       "2                 0.02579          0.3557                  0.08020       1  \n",
       "3                 0.09127          0.2226                  0.08283       1  \n",
       "4                 0.11260          0.4128                  0.10760       1  \n",
       "..                    ...             ...                      ...     ...  \n",
       "450               0.11550          0.2465                  0.09981       1  \n",
       "451               0.18380          0.4753                  0.10130       0  \n",
       "452               0.06608          0.3207                  0.07247       1  \n",
       "453               0.06227          0.2450                  0.07773       1  \n",
       "454               0.02232          0.2262                  0.06742       1  \n",
       "\n",
       "[455 rows x 31 columns]"
      ]
     },
     "execution_count": 118,
     "metadata": {},
     "output_type": "execute_result"
    }
   ],
   "source": [
    "cancer_train_df = pd.DataFrame(data=X_train, columns=cancer.feature_names)\n",
    "cancer_train_df['Target'] = y_train\n",
    "cancer_train_df"
   ]
  },
  {
   "cell_type": "code",
   "execution_count": 119,
   "id": "7774a7c3",
   "metadata": {},
   "outputs": [
    {
     "data": {
      "text/html": [
       "<div>\n",
       "<style scoped>\n",
       "    .dataframe tbody tr th:only-of-type {\n",
       "        vertical-align: middle;\n",
       "    }\n",
       "\n",
       "    .dataframe tbody tr th {\n",
       "        vertical-align: top;\n",
       "    }\n",
       "\n",
       "    .dataframe thead th {\n",
       "        text-align: right;\n",
       "    }\n",
       "</style>\n",
       "<table border=\"1\" class=\"dataframe\">\n",
       "  <thead>\n",
       "    <tr style=\"text-align: right;\">\n",
       "      <th></th>\n",
       "      <th>mean radius</th>\n",
       "      <th>mean texture</th>\n",
       "      <th>mean perimeter</th>\n",
       "      <th>mean area</th>\n",
       "      <th>mean smoothness</th>\n",
       "      <th>mean compactness</th>\n",
       "      <th>mean concavity</th>\n",
       "      <th>mean concave points</th>\n",
       "      <th>mean symmetry</th>\n",
       "      <th>mean fractal dimension</th>\n",
       "      <th>...</th>\n",
       "      <th>worst texture</th>\n",
       "      <th>worst perimeter</th>\n",
       "      <th>worst area</th>\n",
       "      <th>worst smoothness</th>\n",
       "      <th>worst compactness</th>\n",
       "      <th>worst concavity</th>\n",
       "      <th>worst concave points</th>\n",
       "      <th>worst symmetry</th>\n",
       "      <th>worst fractal dimension</th>\n",
       "      <th>Target</th>\n",
       "    </tr>\n",
       "  </thead>\n",
       "  <tbody>\n",
       "    <tr>\n",
       "      <th>0</th>\n",
       "      <td>13.59</td>\n",
       "      <td>21.84</td>\n",
       "      <td>87.16</td>\n",
       "      <td>561.0</td>\n",
       "      <td>0.07956</td>\n",
       "      <td>0.08259</td>\n",
       "      <td>0.040720</td>\n",
       "      <td>0.021420</td>\n",
       "      <td>0.1635</td>\n",
       "      <td>0.05859</td>\n",
       "      <td>...</td>\n",
       "      <td>30.04</td>\n",
       "      <td>97.66</td>\n",
       "      <td>661.5</td>\n",
       "      <td>0.10050</td>\n",
       "      <td>0.17300</td>\n",
       "      <td>0.145300</td>\n",
       "      <td>0.06189</td>\n",
       "      <td>0.2446</td>\n",
       "      <td>0.07024</td>\n",
       "      <td>1</td>\n",
       "    </tr>\n",
       "    <tr>\n",
       "      <th>1</th>\n",
       "      <td>12.90</td>\n",
       "      <td>15.92</td>\n",
       "      <td>83.74</td>\n",
       "      <td>512.2</td>\n",
       "      <td>0.08677</td>\n",
       "      <td>0.09509</td>\n",
       "      <td>0.048940</td>\n",
       "      <td>0.030880</td>\n",
       "      <td>0.1778</td>\n",
       "      <td>0.06235</td>\n",
       "      <td>...</td>\n",
       "      <td>21.82</td>\n",
       "      <td>97.17</td>\n",
       "      <td>643.8</td>\n",
       "      <td>0.13120</td>\n",
       "      <td>0.25480</td>\n",
       "      <td>0.209000</td>\n",
       "      <td>0.10120</td>\n",
       "      <td>0.3549</td>\n",
       "      <td>0.08118</td>\n",
       "      <td>1</td>\n",
       "    </tr>\n",
       "    <tr>\n",
       "      <th>2</th>\n",
       "      <td>10.90</td>\n",
       "      <td>12.96</td>\n",
       "      <td>68.69</td>\n",
       "      <td>366.8</td>\n",
       "      <td>0.07515</td>\n",
       "      <td>0.03718</td>\n",
       "      <td>0.003090</td>\n",
       "      <td>0.006588</td>\n",
       "      <td>0.1442</td>\n",
       "      <td>0.05743</td>\n",
       "      <td>...</td>\n",
       "      <td>18.20</td>\n",
       "      <td>78.07</td>\n",
       "      <td>470.0</td>\n",
       "      <td>0.11710</td>\n",
       "      <td>0.08294</td>\n",
       "      <td>0.018540</td>\n",
       "      <td>0.03953</td>\n",
       "      <td>0.2738</td>\n",
       "      <td>0.07685</td>\n",
       "      <td>1</td>\n",
       "    </tr>\n",
       "    <tr>\n",
       "      <th>3</th>\n",
       "      <td>13.05</td>\n",
       "      <td>13.84</td>\n",
       "      <td>82.71</td>\n",
       "      <td>530.6</td>\n",
       "      <td>0.08352</td>\n",
       "      <td>0.03735</td>\n",
       "      <td>0.004559</td>\n",
       "      <td>0.008829</td>\n",
       "      <td>0.1453</td>\n",
       "      <td>0.05518</td>\n",
       "      <td>...</td>\n",
       "      <td>17.40</td>\n",
       "      <td>93.96</td>\n",
       "      <td>672.4</td>\n",
       "      <td>0.10160</td>\n",
       "      <td>0.05847</td>\n",
       "      <td>0.018240</td>\n",
       "      <td>0.03532</td>\n",
       "      <td>0.2107</td>\n",
       "      <td>0.06580</td>\n",
       "      <td>1</td>\n",
       "    </tr>\n",
       "    <tr>\n",
       "      <th>4</th>\n",
       "      <td>12.47</td>\n",
       "      <td>17.31</td>\n",
       "      <td>80.45</td>\n",
       "      <td>480.1</td>\n",
       "      <td>0.08928</td>\n",
       "      <td>0.07630</td>\n",
       "      <td>0.036090</td>\n",
       "      <td>0.023690</td>\n",
       "      <td>0.1526</td>\n",
       "      <td>0.06046</td>\n",
       "      <td>...</td>\n",
       "      <td>24.34</td>\n",
       "      <td>92.82</td>\n",
       "      <td>607.3</td>\n",
       "      <td>0.12760</td>\n",
       "      <td>0.25060</td>\n",
       "      <td>0.202800</td>\n",
       "      <td>0.10530</td>\n",
       "      <td>0.3035</td>\n",
       "      <td>0.07661</td>\n",
       "      <td>1</td>\n",
       "    </tr>\n",
       "    <tr>\n",
       "      <th>...</th>\n",
       "      <td>...</td>\n",
       "      <td>...</td>\n",
       "      <td>...</td>\n",
       "      <td>...</td>\n",
       "      <td>...</td>\n",
       "      <td>...</td>\n",
       "      <td>...</td>\n",
       "      <td>...</td>\n",
       "      <td>...</td>\n",
       "      <td>...</td>\n",
       "      <td>...</td>\n",
       "      <td>...</td>\n",
       "      <td>...</td>\n",
       "      <td>...</td>\n",
       "      <td>...</td>\n",
       "      <td>...</td>\n",
       "      <td>...</td>\n",
       "      <td>...</td>\n",
       "      <td>...</td>\n",
       "      <td>...</td>\n",
       "      <td>...</td>\n",
       "    </tr>\n",
       "    <tr>\n",
       "      <th>109</th>\n",
       "      <td>20.58</td>\n",
       "      <td>22.14</td>\n",
       "      <td>134.70</td>\n",
       "      <td>1290.0</td>\n",
       "      <td>0.09090</td>\n",
       "      <td>0.13480</td>\n",
       "      <td>0.164000</td>\n",
       "      <td>0.095610</td>\n",
       "      <td>0.1765</td>\n",
       "      <td>0.05024</td>\n",
       "      <td>...</td>\n",
       "      <td>27.84</td>\n",
       "      <td>158.30</td>\n",
       "      <td>1656.0</td>\n",
       "      <td>0.11780</td>\n",
       "      <td>0.29200</td>\n",
       "      <td>0.386100</td>\n",
       "      <td>0.19200</td>\n",
       "      <td>0.2909</td>\n",
       "      <td>0.05865</td>\n",
       "      <td>0</td>\n",
       "    </tr>\n",
       "    <tr>\n",
       "      <th>110</th>\n",
       "      <td>13.05</td>\n",
       "      <td>18.59</td>\n",
       "      <td>85.09</td>\n",
       "      <td>512.0</td>\n",
       "      <td>0.10820</td>\n",
       "      <td>0.13040</td>\n",
       "      <td>0.096030</td>\n",
       "      <td>0.056030</td>\n",
       "      <td>0.2035</td>\n",
       "      <td>0.06501</td>\n",
       "      <td>...</td>\n",
       "      <td>24.85</td>\n",
       "      <td>94.22</td>\n",
       "      <td>591.2</td>\n",
       "      <td>0.13430</td>\n",
       "      <td>0.26580</td>\n",
       "      <td>0.257300</td>\n",
       "      <td>0.12580</td>\n",
       "      <td>0.3113</td>\n",
       "      <td>0.08317</td>\n",
       "      <td>1</td>\n",
       "    </tr>\n",
       "    <tr>\n",
       "      <th>111</th>\n",
       "      <td>12.05</td>\n",
       "      <td>14.63</td>\n",
       "      <td>78.04</td>\n",
       "      <td>449.3</td>\n",
       "      <td>0.10310</td>\n",
       "      <td>0.09092</td>\n",
       "      <td>0.065920</td>\n",
       "      <td>0.027490</td>\n",
       "      <td>0.1675</td>\n",
       "      <td>0.06043</td>\n",
       "      <td>...</td>\n",
       "      <td>20.70</td>\n",
       "      <td>89.88</td>\n",
       "      <td>582.6</td>\n",
       "      <td>0.14940</td>\n",
       "      <td>0.21560</td>\n",
       "      <td>0.305000</td>\n",
       "      <td>0.06548</td>\n",
       "      <td>0.2747</td>\n",
       "      <td>0.08301</td>\n",
       "      <td>1</td>\n",
       "    </tr>\n",
       "    <tr>\n",
       "      <th>112</th>\n",
       "      <td>14.58</td>\n",
       "      <td>21.53</td>\n",
       "      <td>97.41</td>\n",
       "      <td>644.8</td>\n",
       "      <td>0.10540</td>\n",
       "      <td>0.18680</td>\n",
       "      <td>0.142500</td>\n",
       "      <td>0.087830</td>\n",
       "      <td>0.2252</td>\n",
       "      <td>0.06924</td>\n",
       "      <td>...</td>\n",
       "      <td>33.21</td>\n",
       "      <td>122.40</td>\n",
       "      <td>896.9</td>\n",
       "      <td>0.15250</td>\n",
       "      <td>0.66430</td>\n",
       "      <td>0.553900</td>\n",
       "      <td>0.27010</td>\n",
       "      <td>0.4264</td>\n",
       "      <td>0.12750</td>\n",
       "      <td>0</td>\n",
       "    </tr>\n",
       "    <tr>\n",
       "      <th>113</th>\n",
       "      <td>12.54</td>\n",
       "      <td>18.07</td>\n",
       "      <td>79.42</td>\n",
       "      <td>491.9</td>\n",
       "      <td>0.07436</td>\n",
       "      <td>0.02650</td>\n",
       "      <td>0.001194</td>\n",
       "      <td>0.005449</td>\n",
       "      <td>0.1528</td>\n",
       "      <td>0.05185</td>\n",
       "      <td>...</td>\n",
       "      <td>20.98</td>\n",
       "      <td>86.82</td>\n",
       "      <td>585.7</td>\n",
       "      <td>0.09293</td>\n",
       "      <td>0.04327</td>\n",
       "      <td>0.003581</td>\n",
       "      <td>0.01635</td>\n",
       "      <td>0.2233</td>\n",
       "      <td>0.05521</td>\n",
       "      <td>1</td>\n",
       "    </tr>\n",
       "  </tbody>\n",
       "</table>\n",
       "<p>114 rows × 31 columns</p>\n",
       "</div>"
      ],
      "text/plain": [
       "     mean radius  mean texture  mean perimeter  mean area  mean smoothness  \\\n",
       "0          13.59         21.84           87.16      561.0          0.07956   \n",
       "1          12.90         15.92           83.74      512.2          0.08677   \n",
       "2          10.90         12.96           68.69      366.8          0.07515   \n",
       "3          13.05         13.84           82.71      530.6          0.08352   \n",
       "4          12.47         17.31           80.45      480.1          0.08928   \n",
       "..           ...           ...             ...        ...              ...   \n",
       "109        20.58         22.14          134.70     1290.0          0.09090   \n",
       "110        13.05         18.59           85.09      512.0          0.10820   \n",
       "111        12.05         14.63           78.04      449.3          0.10310   \n",
       "112        14.58         21.53           97.41      644.8          0.10540   \n",
       "113        12.54         18.07           79.42      491.9          0.07436   \n",
       "\n",
       "     mean compactness  mean concavity  mean concave points  mean symmetry  \\\n",
       "0             0.08259        0.040720             0.021420         0.1635   \n",
       "1             0.09509        0.048940             0.030880         0.1778   \n",
       "2             0.03718        0.003090             0.006588         0.1442   \n",
       "3             0.03735        0.004559             0.008829         0.1453   \n",
       "4             0.07630        0.036090             0.023690         0.1526   \n",
       "..                ...             ...                  ...            ...   \n",
       "109           0.13480        0.164000             0.095610         0.1765   \n",
       "110           0.13040        0.096030             0.056030         0.2035   \n",
       "111           0.09092        0.065920             0.027490         0.1675   \n",
       "112           0.18680        0.142500             0.087830         0.2252   \n",
       "113           0.02650        0.001194             0.005449         0.1528   \n",
       "\n",
       "     mean fractal dimension  ...  worst texture  worst perimeter  worst area  \\\n",
       "0                   0.05859  ...          30.04            97.66       661.5   \n",
       "1                   0.06235  ...          21.82            97.17       643.8   \n",
       "2                   0.05743  ...          18.20            78.07       470.0   \n",
       "3                   0.05518  ...          17.40            93.96       672.4   \n",
       "4                   0.06046  ...          24.34            92.82       607.3   \n",
       "..                      ...  ...            ...              ...         ...   \n",
       "109                 0.05024  ...          27.84           158.30      1656.0   \n",
       "110                 0.06501  ...          24.85            94.22       591.2   \n",
       "111                 0.06043  ...          20.70            89.88       582.6   \n",
       "112                 0.06924  ...          33.21           122.40       896.9   \n",
       "113                 0.05185  ...          20.98            86.82       585.7   \n",
       "\n",
       "     worst smoothness  worst compactness  worst concavity  \\\n",
       "0             0.10050            0.17300         0.145300   \n",
       "1             0.13120            0.25480         0.209000   \n",
       "2             0.11710            0.08294         0.018540   \n",
       "3             0.10160            0.05847         0.018240   \n",
       "4             0.12760            0.25060         0.202800   \n",
       "..                ...                ...              ...   \n",
       "109           0.11780            0.29200         0.386100   \n",
       "110           0.13430            0.26580         0.257300   \n",
       "111           0.14940            0.21560         0.305000   \n",
       "112           0.15250            0.66430         0.553900   \n",
       "113           0.09293            0.04327         0.003581   \n",
       "\n",
       "     worst concave points  worst symmetry  worst fractal dimension  Target  \n",
       "0                 0.06189          0.2446                  0.07024       1  \n",
       "1                 0.10120          0.3549                  0.08118       1  \n",
       "2                 0.03953          0.2738                  0.07685       1  \n",
       "3                 0.03532          0.2107                  0.06580       1  \n",
       "4                 0.10530          0.3035                  0.07661       1  \n",
       "..                    ...             ...                      ...     ...  \n",
       "109               0.19200          0.2909                  0.05865       0  \n",
       "110               0.12580          0.3113                  0.08317       1  \n",
       "111               0.06548          0.2747                  0.08301       1  \n",
       "112               0.27010          0.4264                  0.12750       0  \n",
       "113               0.01635          0.2233                  0.05521       1  \n",
       "\n",
       "[114 rows x 31 columns]"
      ]
     },
     "execution_count": 119,
     "metadata": {},
     "output_type": "execute_result"
    }
   ],
   "source": [
    "cancer_train_df = pd.DataFrame(data=X_test, columns=cancer.feature_names)\n",
    "cancer_train_df['Target'] = y_test\n",
    "cancer_train_df"
   ]
  },
  {
   "cell_type": "code",
   "execution_count": 120,
   "id": "dc9d98ef",
   "metadata": {},
   "outputs": [],
   "source": [
    "scaler = StandardScaler()\n",
    "X_train_scale = scaler.fit_transform(X_train)\n",
    "X_test_scale = scaler.transform(X_test)"
   ]
  },
  {
   "cell_type": "code",
   "execution_count": 121,
   "id": "39bf40ee",
   "metadata": {},
   "outputs": [
    {
     "data": {
      "text/plain": [
       "KNeighborsClassifier()"
      ]
     },
     "execution_count": 121,
     "metadata": {},
     "output_type": "execute_result"
    }
   ],
   "source": [
    "model = KNeighborsClassifier()\n",
    "model.fit(X_train,y_train)"
   ]
  },
  {
   "cell_type": "code",
   "execution_count": 122,
   "id": "ec88d8cb",
   "metadata": {},
   "outputs": [
    {
     "name": "stdout",
     "output_type": "stream",
     "text": [
      "학습 데이터 점수 : 0.9428571428571428\n",
      "평가 데이터 점수 : 0.9210526315789473\n"
     ]
    }
   ],
   "source": [
    "print('학습 데이터 점수 : {}'.format(model.score(X_train,y_train)))\n",
    "print('평가 데이터 점수 : {}'.format(model.score(X_test,y_test)))"
   ]
  },
  {
   "cell_type": "code",
   "execution_count": 123,
   "id": "cbad334a",
   "metadata": {},
   "outputs": [
    {
     "data": {
      "text/plain": [
       "KNeighborsClassifier()"
      ]
     },
     "execution_count": 123,
     "metadata": {},
     "output_type": "execute_result"
    }
   ],
   "source": [
    "model = KNeighborsClassifier()\n",
    "model.fit(X_train_scale,y_train)"
   ]
  },
  {
   "cell_type": "code",
   "execution_count": 124,
   "id": "f553ce45",
   "metadata": {},
   "outputs": [
    {
     "name": "stdout",
     "output_type": "stream",
     "text": [
      "학습 데이터 점수 : 0.9758241758241758\n",
      "평가 데이터 점수 : 0.9649122807017544\n"
     ]
    }
   ],
   "source": [
    "print('학습 데이터 점수 : {}'.format(model.score(X_train_scale,y_train)))\n",
    "print('평가 데이터 점수 : {}'.format(model.score(X_test_scale,y_test)))"
   ]
  },
  {
   "cell_type": "code",
   "execution_count": 125,
   "id": "04174eba",
   "metadata": {},
   "outputs": [],
   "source": [
    "estimator = make_pipeline(\n",
    "    StandardScaler(),\n",
    "    KNeighborsClassifier()\n",
    ")"
   ]
  },
  {
   "cell_type": "code",
   "execution_count": 127,
   "id": "eeae8fd8",
   "metadata": {},
   "outputs": [
    {
     "name": "stderr",
     "output_type": "stream",
     "text": [
      "[Parallel(n_jobs=8)]: Using backend LokyBackend with 8 concurrent workers.\n",
      "[Parallel(n_jobs=8)]: Done   2 out of   5 | elapsed:    0.0s remaining:    0.0s\n",
      "[Parallel(n_jobs=8)]: Done   5 out of   5 | elapsed:    0.0s finished\n"
     ]
    },
    {
     "data": {
      "text/plain": [
       "{'fit_time': array([0.00200057, 0.00200057, 0.00100088, 0.00200081, 0.00099993]),\n",
       " 'score_time': array([0.00399899, 0.00500011, 0.00500011, 0.00499916, 0.00599909]),\n",
       " 'test_score': array([0.96491228, 0.95614035, 0.98245614, 0.95614035, 0.96460177])}"
      ]
     },
     "execution_count": 127,
     "metadata": {},
     "output_type": "execute_result"
    }
   ],
   "source": [
    "cross_validate(\n",
    "    estimator=estimator,\n",
    "    X=X, y=y,\n",
    "    cv=5,\n",
    "    n_jobs=multiprocessing.cpu_count(),\n",
    "    verbose=True\n",
    ")"
   ]
  },
  {
   "cell_type": "code",
   "execution_count": 128,
   "id": "06619c51",
   "metadata": {},
   "outputs": [],
   "source": [
    "pipe = Pipeline(\n",
    "    [('scaler', StandardScaler()),\n",
    "        ('model', KNeighborsClassifier())])"
   ]
  },
  {
   "cell_type": "code",
   "execution_count": 129,
   "id": "a84aceaa",
   "metadata": {},
   "outputs": [],
   "source": [
    "param_grid = [{'model__n_neighbors': [3,5,7],\n",
    "              'model__weights': ['uniform','distance'],\n",
    "              'model__algorithm': ['ball_tree', 'kd_tree','brute']}]"
   ]
  },
  {
   "cell_type": "code",
   "execution_count": 130,
   "id": "19e4b43f",
   "metadata": {},
   "outputs": [],
   "source": [
    "gs = GridSearchCV(\n",
    "    estimator=pipe,\n",
    "    param_grid=param_grid,\n",
    "    n_jobs=multiprocessing.cpu_count(),\n",
    "    verbose=True\n",
    ")"
   ]
  },
  {
   "cell_type": "code",
   "execution_count": 131,
   "id": "f00547a6",
   "metadata": {},
   "outputs": [
    {
     "name": "stdout",
     "output_type": "stream",
     "text": [
      "Fitting 5 folds for each of 18 candidates, totalling 90 fits\n"
     ]
    },
    {
     "data": {
      "text/plain": [
       "GridSearchCV(estimator=Pipeline(steps=[('scaler', StandardScaler()),\n",
       "                                       ('model', KNeighborsClassifier())]),\n",
       "             n_jobs=8,\n",
       "             param_grid=[{'model__algorithm': ['ball_tree', 'kd_tree', 'brute'],\n",
       "                          'model__n_neighbors': [3, 5, 7],\n",
       "                          'model__weights': ['uniform', 'distance']}],\n",
       "             verbose=True)"
      ]
     },
     "execution_count": 131,
     "metadata": {},
     "output_type": "execute_result"
    }
   ],
   "source": [
    "gs.fit(X,y)"
   ]
  },
  {
   "cell_type": "code",
   "execution_count": 132,
   "id": "48eca0e5",
   "metadata": {},
   "outputs": [
    {
     "data": {
      "text/plain": [
       "Pipeline(steps=[('scaler', StandardScaler()),\n",
       "                ('model',\n",
       "                 KNeighborsClassifier(algorithm='ball_tree', n_neighbors=7))])"
      ]
     },
     "execution_count": 132,
     "metadata": {},
     "output_type": "execute_result"
    }
   ],
   "source": [
    "gs.best_estimator_"
   ]
  },
  {
   "cell_type": "code",
   "execution_count": 133,
   "id": "8e8a5e97",
   "metadata": {},
   "outputs": [
    {
     "name": "stdout",
     "output_type": "stream",
     "text": [
      "GridSearchCV best score: 0.9701288619779538\n"
     ]
    }
   ],
   "source": [
    "print('GridSearchCV best score: {}'.format(gs.best_score_))"
   ]
  },
  {
   "cell_type": "code",
   "execution_count": 134,
   "id": "5eb7864b",
   "metadata": {},
   "outputs": [],
   "source": [
    "tsne = TSNE(n_components=2)\n",
    "X_comp = tsne.fit_transform(X)"
   ]
  },
  {
   "cell_type": "code",
   "execution_count": 135,
   "id": "a727983c",
   "metadata": {},
   "outputs": [
    {
     "data": {
      "text/html": [
       "<div>\n",
       "<style scoped>\n",
       "    .dataframe tbody tr th:only-of-type {\n",
       "        vertical-align: middle;\n",
       "    }\n",
       "\n",
       "    .dataframe tbody tr th {\n",
       "        vertical-align: top;\n",
       "    }\n",
       "\n",
       "    .dataframe thead th {\n",
       "        text-align: right;\n",
       "    }\n",
       "</style>\n",
       "<table border=\"1\" class=\"dataframe\">\n",
       "  <thead>\n",
       "    <tr style=\"text-align: right;\">\n",
       "      <th></th>\n",
       "      <th>0</th>\n",
       "      <th>1</th>\n",
       "      <th>target</th>\n",
       "    </tr>\n",
       "  </thead>\n",
       "  <tbody>\n",
       "    <tr>\n",
       "      <th>0</th>\n",
       "      <td>-3.611904</td>\n",
       "      <td>-28.335194</td>\n",
       "      <td>0</td>\n",
       "    </tr>\n",
       "    <tr>\n",
       "      <th>1</th>\n",
       "      <td>-4.524421</td>\n",
       "      <td>-25.585722</td>\n",
       "      <td>0</td>\n",
       "    </tr>\n",
       "    <tr>\n",
       "      <th>2</th>\n",
       "      <td>0.354878</td>\n",
       "      <td>-24.793194</td>\n",
       "      <td>0</td>\n",
       "    </tr>\n",
       "    <tr>\n",
       "      <th>3</th>\n",
       "      <td>-11.455451</td>\n",
       "      <td>19.118437</td>\n",
       "      <td>0</td>\n",
       "    </tr>\n",
       "    <tr>\n",
       "      <th>4</th>\n",
       "      <td>1.279451</td>\n",
       "      <td>-22.447569</td>\n",
       "      <td>0</td>\n",
       "    </tr>\n",
       "    <tr>\n",
       "      <th>...</th>\n",
       "      <td>...</td>\n",
       "      <td>...</td>\n",
       "      <td>...</td>\n",
       "    </tr>\n",
       "    <tr>\n",
       "      <th>564</th>\n",
       "      <td>-6.289808</td>\n",
       "      <td>-25.385851</td>\n",
       "      <td>0</td>\n",
       "    </tr>\n",
       "    <tr>\n",
       "      <th>565</th>\n",
       "      <td>-0.717662</td>\n",
       "      <td>-24.277222</td>\n",
       "      <td>0</td>\n",
       "    </tr>\n",
       "    <tr>\n",
       "      <th>566</th>\n",
       "      <td>17.493011</td>\n",
       "      <td>-15.218309</td>\n",
       "      <td>0</td>\n",
       "    </tr>\n",
       "    <tr>\n",
       "      <th>567</th>\n",
       "      <td>-2.219107</td>\n",
       "      <td>-25.221348</td>\n",
       "      <td>0</td>\n",
       "    </tr>\n",
       "    <tr>\n",
       "      <th>568</th>\n",
       "      <td>-39.677502</td>\n",
       "      <td>-4.038836</td>\n",
       "      <td>1</td>\n",
       "    </tr>\n",
       "  </tbody>\n",
       "</table>\n",
       "<p>569 rows × 3 columns</p>\n",
       "</div>"
      ],
      "text/plain": [
       "             0          1  target\n",
       "0    -3.611904 -28.335194       0\n",
       "1    -4.524421 -25.585722       0\n",
       "2     0.354878 -24.793194       0\n",
       "3   -11.455451  19.118437       0\n",
       "4     1.279451 -22.447569       0\n",
       "..         ...        ...     ...\n",
       "564  -6.289808 -25.385851       0\n",
       "565  -0.717662 -24.277222       0\n",
       "566  17.493011 -15.218309       0\n",
       "567  -2.219107 -25.221348       0\n",
       "568 -39.677502  -4.038836       1\n",
       "\n",
       "[569 rows x 3 columns]"
      ]
     },
     "execution_count": 135,
     "metadata": {},
     "output_type": "execute_result"
    }
   ],
   "source": [
    "cancer_comp_df = pd.DataFrame(data=X_comp)\n",
    "cancer_comp_df['target'] = y\n",
    "cancer_comp_df"
   ]
  },
  {
   "cell_type": "code",
   "execution_count": 136,
   "id": "7cb7dfb2",
   "metadata": {},
   "outputs": [
    {
     "data": {
      "text/plain": [
       "<matplotlib.collections.PathCollection at 0x129302d23d0>"
      ]
     },
     "execution_count": 136,
     "metadata": {},
     "output_type": "execute_result"
    },
    {
     "data": {
      "image/png": "[encoded data removed]",
      "text/plain": [
       "<Figure size 432x288 with 1 Axes>"
      ]
     },
     "metadata": {},
     "output_type": "display_data"
    }
   ],
   "source": [
    "plt.scatter(X_comp[:,0], X_comp[:,1], c=y, cmap=plt.cm.coolwarm, s=20, edgecolors='k')"
   ]
  },
  {
   "cell_type": "code",
   "execution_count": 137,
   "id": "6fec741c",
   "metadata": {},
   "outputs": [],
   "source": [
    "model = KNeighborsClassifier()\n",
    "model.fit(X_comp,y)\n",
    "predict = model.predict(X_comp)"
   ]
  },
  {
   "cell_type": "code",
   "execution_count": 138,
   "id": "4bbd4813",
   "metadata": {},
   "outputs": [
    {
     "ename": "TypeError",
     "evalue": "cannot unpack non-iterable NoneType object",
     "output_type": "error",
     "traceback": [
      "\u001b[1;31m---------------------------------------------------------------------------\u001b[0m",
      "\u001b[1;31mTypeError\u001b[0m                                 Traceback (most recent call last)",
      "Input \u001b[1;32mIn [138]\u001b[0m, in \u001b[0;36m<cell line: 1>\u001b[1;34m()\u001b[0m\n\u001b[1;32m----> 1\u001b[0m xx, yy \u001b[38;5;241m=\u001b[39m make_meshgrid(X_comp[:,\u001b[38;5;241m0\u001b[39m], X_comp[:,\u001b[38;5;241m1\u001b[39m])\n\u001b[0;32m      2\u001b[0m plot_contours(model, xx, yy, cmap\u001b[38;5;241m=\u001b[39mplt\u001b[38;5;241m.\u001b[39mcm\u001b[38;5;241m.\u001b[39mcoolwarm, alpha\u001b[38;5;241m=\u001b[39m\u001b[38;5;241m0.8\u001b[39m)\n\u001b[0;32m      3\u001b[0m plt\u001b[38;5;241m.\u001b[39mscatter(X_comp[:,\u001b[38;5;241m0\u001b[39m], X_comp[:,\u001b[38;5;241m1\u001b[39m], c\u001b[38;5;241m=\u001b[39my, cmap\u001b[38;5;241m=\u001b[39mplt\u001b[38;5;241m.\u001b[39mcm\u001b[38;5;241m.\u001b[39mcoolwarm, s\u001b[38;5;241m=\u001b[39m\u001b[38;5;241m20\u001b[39m, edgecolors\u001b[38;5;241m=\u001b[39m\u001b[38;5;124m'\u001b[39m\u001b[38;5;124mk\u001b[39m\u001b[38;5;124m'\u001b[39m)\n",
      "\u001b[1;31mTypeError\u001b[0m: cannot unpack non-iterable NoneType object"
     ]
    }
   ],
   "source": [
    "xx, yy = make_meshgrid(X_comp[:,0], X_comp[:,1])\n",
    "plot_contours(model, xx, yy, cmap=plt.cm.coolwarm, alpha=0.8)\n",
    "plt.scatter(X_comp[:,0], X_comp[:,1], c=y, cmap=plt.cm.coolwarm, s=20, edgecolors='k')"
   ]
  },
  {
   "cell_type": "markdown",
   "id": "464f0b78",
   "metadata": {},
   "source": [
    "## K 최근접 이웃 회귀\n",
    "- k 최근접 이웃 분류와 마찬가지로 예측에 이웃 데이터 포인트 사용\n",
    "- 이웃 데이터 포인트의 평균이 예측 결과"
   ]
  },
  {
   "cell_type": "markdown",
   "id": "0b9c125c",
   "metadata": {},
   "source": [
    "#### 보스턴 주택 가격 데이터"
   ]
  },
  {
   "cell_type": "code",
   "execution_count": 140,
   "id": "3d658269",
   "metadata": {},
   "outputs": [],
   "source": [
    "boston = load_boston()"
   ]
  },
  {
   "cell_type": "code",
   "execution_count": 141,
   "id": "5fbb0b26",
   "metadata": {},
   "outputs": [
    {
     "data": {
      "text/html": [
       "<div>\n",
       "<style scoped>\n",
       "    .dataframe tbody tr th:only-of-type {\n",
       "        vertical-align: middle;\n",
       "    }\n",
       "\n",
       "    .dataframe tbody tr th {\n",
       "        vertical-align: top;\n",
       "    }\n",
       "\n",
       "    .dataframe thead th {\n",
       "        text-align: right;\n",
       "    }\n",
       "</style>\n",
       "<table border=\"1\" class=\"dataframe\">\n",
       "  <thead>\n",
       "    <tr style=\"text-align: right;\">\n",
       "      <th></th>\n",
       "      <th>CRIM</th>\n",
       "      <th>ZN</th>\n",
       "      <th>INDUS</th>\n",
       "      <th>CHAS</th>\n",
       "      <th>NOX</th>\n",
       "      <th>RM</th>\n",
       "      <th>AGE</th>\n",
       "      <th>DIS</th>\n",
       "      <th>RAD</th>\n",
       "      <th>TAX</th>\n",
       "      <th>PTRATIO</th>\n",
       "      <th>B</th>\n",
       "      <th>LSTAT</th>\n",
       "      <th>Target</th>\n",
       "    </tr>\n",
       "  </thead>\n",
       "  <tbody>\n",
       "    <tr>\n",
       "      <th>0</th>\n",
       "      <td>0.00632</td>\n",
       "      <td>18.0</td>\n",
       "      <td>2.31</td>\n",
       "      <td>0.0</td>\n",
       "      <td>0.538</td>\n",
       "      <td>6.575</td>\n",
       "      <td>65.2</td>\n",
       "      <td>4.0900</td>\n",
       "      <td>1.0</td>\n",
       "      <td>296.0</td>\n",
       "      <td>15.3</td>\n",
       "      <td>396.90</td>\n",
       "      <td>4.98</td>\n",
       "      <td>24.0</td>\n",
       "    </tr>\n",
       "    <tr>\n",
       "      <th>1</th>\n",
       "      <td>0.02731</td>\n",
       "      <td>0.0</td>\n",
       "      <td>7.07</td>\n",
       "      <td>0.0</td>\n",
       "      <td>0.469</td>\n",
       "      <td>6.421</td>\n",
       "      <td>78.9</td>\n",
       "      <td>4.9671</td>\n",
       "      <td>2.0</td>\n",
       "      <td>242.0</td>\n",
       "      <td>17.8</td>\n",
       "      <td>396.90</td>\n",
       "      <td>9.14</td>\n",
       "      <td>21.6</td>\n",
       "    </tr>\n",
       "    <tr>\n",
       "      <th>2</th>\n",
       "      <td>0.02729</td>\n",
       "      <td>0.0</td>\n",
       "      <td>7.07</td>\n",
       "      <td>0.0</td>\n",
       "      <td>0.469</td>\n",
       "      <td>7.185</td>\n",
       "      <td>61.1</td>\n",
       "      <td>4.9671</td>\n",
       "      <td>2.0</td>\n",
       "      <td>242.0</td>\n",
       "      <td>17.8</td>\n",
       "      <td>392.83</td>\n",
       "      <td>4.03</td>\n",
       "      <td>34.7</td>\n",
       "    </tr>\n",
       "    <tr>\n",
       "      <th>3</th>\n",
       "      <td>0.03237</td>\n",
       "      <td>0.0</td>\n",
       "      <td>2.18</td>\n",
       "      <td>0.0</td>\n",
       "      <td>0.458</td>\n",
       "      <td>6.998</td>\n",
       "      <td>45.8</td>\n",
       "      <td>6.0622</td>\n",
       "      <td>3.0</td>\n",
       "      <td>222.0</td>\n",
       "      <td>18.7</td>\n",
       "      <td>394.63</td>\n",
       "      <td>2.94</td>\n",
       "      <td>33.4</td>\n",
       "    </tr>\n",
       "    <tr>\n",
       "      <th>4</th>\n",
       "      <td>0.06905</td>\n",
       "      <td>0.0</td>\n",
       "      <td>2.18</td>\n",
       "      <td>0.0</td>\n",
       "      <td>0.458</td>\n",
       "      <td>7.147</td>\n",
       "      <td>54.2</td>\n",
       "      <td>6.0622</td>\n",
       "      <td>3.0</td>\n",
       "      <td>222.0</td>\n",
       "      <td>18.7</td>\n",
       "      <td>396.90</td>\n",
       "      <td>5.33</td>\n",
       "      <td>36.2</td>\n",
       "    </tr>\n",
       "    <tr>\n",
       "      <th>...</th>\n",
       "      <td>...</td>\n",
       "      <td>...</td>\n",
       "      <td>...</td>\n",
       "      <td>...</td>\n",
       "      <td>...</td>\n",
       "      <td>...</td>\n",
       "      <td>...</td>\n",
       "      <td>...</td>\n",
       "      <td>...</td>\n",
       "      <td>...</td>\n",
       "      <td>...</td>\n",
       "      <td>...</td>\n",
       "      <td>...</td>\n",
       "      <td>...</td>\n",
       "    </tr>\n",
       "    <tr>\n",
       "      <th>501</th>\n",
       "      <td>0.06263</td>\n",
       "      <td>0.0</td>\n",
       "      <td>11.93</td>\n",
       "      <td>0.0</td>\n",
       "      <td>0.573</td>\n",
       "      <td>6.593</td>\n",
       "      <td>69.1</td>\n",
       "      <td>2.4786</td>\n",
       "      <td>1.0</td>\n",
       "      <td>273.0</td>\n",
       "      <td>21.0</td>\n",
       "      <td>391.99</td>\n",
       "      <td>9.67</td>\n",
       "      <td>22.4</td>\n",
       "    </tr>\n",
       "    <tr>\n",
       "      <th>502</th>\n",
       "      <td>0.04527</td>\n",
       "      <td>0.0</td>\n",
       "      <td>11.93</td>\n",
       "      <td>0.0</td>\n",
       "      <td>0.573</td>\n",
       "      <td>6.120</td>\n",
       "      <td>76.7</td>\n",
       "      <td>2.2875</td>\n",
       "      <td>1.0</td>\n",
       "      <td>273.0</td>\n",
       "      <td>21.0</td>\n",
       "      <td>396.90</td>\n",
       "      <td>9.08</td>\n",
       "      <td>20.6</td>\n",
       "    </tr>\n",
       "    <tr>\n",
       "      <th>503</th>\n",
       "      <td>0.06076</td>\n",
       "      <td>0.0</td>\n",
       "      <td>11.93</td>\n",
       "      <td>0.0</td>\n",
       "      <td>0.573</td>\n",
       "      <td>6.976</td>\n",
       "      <td>91.0</td>\n",
       "      <td>2.1675</td>\n",
       "      <td>1.0</td>\n",
       "      <td>273.0</td>\n",
       "      <td>21.0</td>\n",
       "      <td>396.90</td>\n",
       "      <td>5.64</td>\n",
       "      <td>23.9</td>\n",
       "    </tr>\n",
       "    <tr>\n",
       "      <th>504</th>\n",
       "      <td>0.10959</td>\n",
       "      <td>0.0</td>\n",
       "      <td>11.93</td>\n",
       "      <td>0.0</td>\n",
       "      <td>0.573</td>\n",
       "      <td>6.794</td>\n",
       "      <td>89.3</td>\n",
       "      <td>2.3889</td>\n",
       "      <td>1.0</td>\n",
       "      <td>273.0</td>\n",
       "      <td>21.0</td>\n",
       "      <td>393.45</td>\n",
       "      <td>6.48</td>\n",
       "      <td>22.0</td>\n",
       "    </tr>\n",
       "    <tr>\n",
       "      <th>505</th>\n",
       "      <td>0.04741</td>\n",
       "      <td>0.0</td>\n",
       "      <td>11.93</td>\n",
       "      <td>0.0</td>\n",
       "      <td>0.573</td>\n",
       "      <td>6.030</td>\n",
       "      <td>80.8</td>\n",
       "      <td>2.5050</td>\n",
       "      <td>1.0</td>\n",
       "      <td>273.0</td>\n",
       "      <td>21.0</td>\n",
       "      <td>396.90</td>\n",
       "      <td>7.88</td>\n",
       "      <td>11.9</td>\n",
       "    </tr>\n",
       "  </tbody>\n",
       "</table>\n",
       "<p>506 rows × 14 columns</p>\n",
       "</div>"
      ],
      "text/plain": [
       "        CRIM    ZN  INDUS  CHAS    NOX     RM   AGE     DIS  RAD    TAX  \\\n",
       "0    0.00632  18.0   2.31   0.0  0.538  6.575  65.2  4.0900  1.0  296.0   \n",
       "1    0.02731   0.0   7.07   0.0  0.469  6.421  78.9  4.9671  2.0  242.0   \n",
       "2    0.02729   0.0   7.07   0.0  0.469  7.185  61.1  4.9671  2.0  242.0   \n",
       "3    0.03237   0.0   2.18   0.0  0.458  6.998  45.8  6.0622  3.0  222.0   \n",
       "4    0.06905   0.0   2.18   0.0  0.458  7.147  54.2  6.0622  3.0  222.0   \n",
       "..       ...   ...    ...   ...    ...    ...   ...     ...  ...    ...   \n",
       "501  0.06263   0.0  11.93   0.0  0.573  6.593  69.1  2.4786  1.0  273.0   \n",
       "502  0.04527   0.0  11.93   0.0  0.573  6.120  76.7  2.2875  1.0  273.0   \n",
       "503  0.06076   0.0  11.93   0.0  0.573  6.976  91.0  2.1675  1.0  273.0   \n",
       "504  0.10959   0.0  11.93   0.0  0.573  6.794  89.3  2.3889  1.0  273.0   \n",
       "505  0.04741   0.0  11.93   0.0  0.573  6.030  80.8  2.5050  1.0  273.0   \n",
       "\n",
       "     PTRATIO       B  LSTAT  Target  \n",
       "0       15.3  396.90   4.98    24.0  \n",
       "1       17.8  396.90   9.14    21.6  \n",
       "2       17.8  392.83   4.03    34.7  \n",
       "3       18.7  394.63   2.94    33.4  \n",
       "4       18.7  396.90   5.33    36.2  \n",
       "..       ...     ...    ...     ...  \n",
       "501     21.0  391.99   9.67    22.4  \n",
       "502     21.0  396.90   9.08    20.6  \n",
       "503     21.0  396.90   5.64    23.9  \n",
       "504     21.0  393.45   6.48    22.0  \n",
       "505     21.0  396.90   7.88    11.9  \n",
       "\n",
       "[506 rows x 14 columns]"
      ]
     },
     "execution_count": 141,
     "metadata": {},
     "output_type": "execute_result"
    }
   ],
   "source": [
    "boston_df = pd.DataFrame(data=boston.data, columns=boston.feature_names)\n",
    "boston_df['Target'] = boston.target\n",
    "boston_df"
   ]
  },
  {
   "cell_type": "code",
   "execution_count": 142,
   "id": "e0f64e58",
   "metadata": {},
   "outputs": [],
   "source": [
    "X,y = boston.data, boston.target\n",
    "X_train,X_test,y_train,y_test = train_test_split(X,y,test_size=0.2)"
   ]
  },
  {
   "cell_type": "code",
   "execution_count": 143,
   "id": "3130e726",
   "metadata": {},
   "outputs": [],
   "source": [
    "scaler = StandardScaler()\n",
    "X_train_scale = scaler.fit_transform(X_train)\n",
    "X_test_scale = scaler.transform(X_test)"
   ]
  },
  {
   "cell_type": "code",
   "execution_count": 144,
   "id": "16af6e71",
   "metadata": {},
   "outputs": [
    {
     "data": {
      "text/plain": [
       "KNeighborsRegressor()"
      ]
     },
     "execution_count": 144,
     "metadata": {},
     "output_type": "execute_result"
    }
   ],
   "source": [
    "model = KNeighborsRegressor()\n",
    "model.fit(X_train, y_train)"
   ]
  },
  {
   "cell_type": "code",
   "execution_count": 145,
   "id": "6162e10b",
   "metadata": {},
   "outputs": [
    {
     "name": "stdout",
     "output_type": "stream",
     "text": [
      "학습 데이터 점수 : 0.7023616726081106\n",
      "평가 데이터 점수 : 0.5136111539291981\n"
     ]
    }
   ],
   "source": [
    "print('학습 데이터 점수 : {}'.format(model.score(X_train,y_train)))\n",
    "print('평가 데이터 점수 : {}'.format(model.score(X_test,y_test)))"
   ]
  },
  {
   "cell_type": "code",
   "execution_count": 146,
   "id": "5d77a10e",
   "metadata": {},
   "outputs": [
    {
     "data": {
      "text/plain": [
       "KNeighborsRegressor()"
      ]
     },
     "execution_count": 146,
     "metadata": {},
     "output_type": "execute_result"
    }
   ],
   "source": [
    "model = KNeighborsRegressor()\n",
    "model.fit(X_train_scale, y_train)"
   ]
  },
  {
   "cell_type": "code",
   "execution_count": 147,
   "id": "d8d2e2fb",
   "metadata": {},
   "outputs": [
    {
     "name": "stdout",
     "output_type": "stream",
     "text": [
      "학습 데이터 점수 : 0.8621380901965947\n",
      "평가 데이터 점수 : 0.732153447565436\n"
     ]
    }
   ],
   "source": [
    "print('학습 데이터 점수 : {}'.format(model.score(X_train_scale,y_train)))\n",
    "print('평가 데이터 점수 : {}'.format(model.score(X_test_scale,y_test)))"
   ]
  },
  {
   "cell_type": "code",
   "execution_count": 149,
   "id": "559912b1",
   "metadata": {},
   "outputs": [],
   "source": [
    "estimator = make_pipeline(\n",
    "    StandardScaler(),\n",
    "    KNeighborsRegressor()\n",
    ")"
   ]
  },
  {
   "cell_type": "code",
   "execution_count": 150,
   "id": "3a948c91",
   "metadata": {},
   "outputs": [
    {
     "name": "stderr",
     "output_type": "stream",
     "text": [
      "[Parallel(n_jobs=8)]: Using backend LokyBackend with 8 concurrent workers.\n",
      "[Parallel(n_jobs=8)]: Done   2 out of   5 | elapsed:    1.0s remaining:    1.6s\n",
      "[Parallel(n_jobs=8)]: Done   5 out of   5 | elapsed:    1.1s finished\n"
     ]
    },
    {
     "data": {
      "text/plain": [
       "{'fit_time': array([0.00199986, 0.00200105, 0.00092888, 0.00100017, 0.00200009]),\n",
       " 'score_time': array([0.00100231, 0.00199986, 0.0010004 , 0.00299978, 0.00099993]),\n",
       " 'test_score': array([0.56089547, 0.61917359, 0.48661916, 0.46986886, 0.23133037])}"
      ]
     },
     "execution_count": 150,
     "metadata": {},
     "output_type": "execute_result"
    }
   ],
   "source": [
    "cross_validate(\n",
    "    estimator=estimator,\n",
    "    X=X, y=y,\n",
    "    cv=5,\n",
    "    n_jobs=multiprocessing.cpu_count(),\n",
    "    verbose=True\n",
    ")"
   ]
  },
  {
   "cell_type": "code",
   "execution_count": 151,
   "id": "d4a0dde4",
   "metadata": {},
   "outputs": [],
   "source": [
    "pipe = Pipeline(\n",
    "    [('scaler', StandardScaler()),\n",
    "        ('model', KNeighborsRegressor())])"
   ]
  },
  {
   "cell_type": "code",
   "execution_count": 152,
   "id": "00bf5f94",
   "metadata": {},
   "outputs": [],
   "source": [
    "param_grid = [{'model__n_neighbors': [3,5,7],\n",
    "              'model__weights': ['uniform','distance'],\n",
    "              'model__algorithm': ['ball_tree', 'kd_tree','brute']}]"
   ]
  },
  {
   "cell_type": "code",
   "execution_count": 153,
   "id": "60e81e80",
   "metadata": {},
   "outputs": [],
   "source": [
    "gs = GridSearchCV(\n",
    "    estimator=pipe,\n",
    "    param_grid=param_grid,\n",
    "    n_jobs=multiprocessing.cpu_count(),\n",
    "    verbose=True\n",
    ")"
   ]
  },
  {
   "cell_type": "code",
   "execution_count": 154,
   "id": "b3f66a0a",
   "metadata": {},
   "outputs": [
    {
     "name": "stdout",
     "output_type": "stream",
     "text": [
      "Fitting 5 folds for each of 18 candidates, totalling 90 fits\n"
     ]
    },
    {
     "data": {
      "text/plain": [
       "GridSearchCV(estimator=Pipeline(steps=[('scaler', StandardScaler()),\n",
       "                                       ('model', KNeighborsRegressor())]),\n",
       "             n_jobs=8,\n",
       "             param_grid=[{'model__algorithm': ['ball_tree', 'kd_tree', 'brute'],\n",
       "                          'model__n_neighbors': [3, 5, 7],\n",
       "                          'model__weights': ['uniform', 'distance']}],\n",
       "             verbose=True)"
      ]
     },
     "execution_count": 154,
     "metadata": {},
     "output_type": "execute_result"
    }
   ],
   "source": [
    "gs.fit(X,y)"
   ]
  },
  {
   "cell_type": "code",
   "execution_count": 155,
   "id": "0c3ca1c7",
   "metadata": {},
   "outputs": [
    {
     "data": {
      "text/plain": [
       "Pipeline(steps=[('scaler', StandardScaler()),\n",
       "                ('model',\n",
       "                 KNeighborsRegressor(algorithm='ball_tree', n_neighbors=7,\n",
       "                                     weights='distance'))])"
      ]
     },
     "execution_count": 155,
     "metadata": {},
     "output_type": "execute_result"
    }
   ],
   "source": [
    "gs.best_estimator_"
   ]
  },
  {
   "cell_type": "code",
   "execution_count": 156,
   "id": "c9368d0b",
   "metadata": {},
   "outputs": [
    {
     "name": "stdout",
     "output_type": "stream",
     "text": [
      "GridSearchCV best score: 0.4973060611762845\n"
     ]
    }
   ],
   "source": [
    "print('GridSearchCV best score: {}'.format(gs.best_score_))"
   ]
  },
  {
   "cell_type": "code",
   "execution_count": 162,
   "id": "3e38e8ce",
   "metadata": {},
   "outputs": [],
   "source": [
    "tsne = TSNE(n_components=1)\n",
    "X_comp = tsne.fit_transform(X)"
   ]
  },
  {
   "cell_type": "code",
   "execution_count": 163,
   "id": "a41f3720",
   "metadata": {},
   "outputs": [
    {
     "data": {
      "text/html": [
       "<div>\n",
       "<style scoped>\n",
       "    .dataframe tbody tr th:only-of-type {\n",
       "        vertical-align: middle;\n",
       "    }\n",
       "\n",
       "    .dataframe tbody tr th {\n",
       "        vertical-align: top;\n",
       "    }\n",
       "\n",
       "    .dataframe thead th {\n",
       "        text-align: right;\n",
       "    }\n",
       "</style>\n",
       "<table border=\"1\" class=\"dataframe\">\n",
       "  <thead>\n",
       "    <tr style=\"text-align: right;\">\n",
       "      <th></th>\n",
       "      <th>0</th>\n",
       "      <th>target</th>\n",
       "    </tr>\n",
       "  </thead>\n",
       "  <tbody>\n",
       "    <tr>\n",
       "      <th>0</th>\n",
       "      <td>8.721950</td>\n",
       "      <td>24.0</td>\n",
       "    </tr>\n",
       "    <tr>\n",
       "      <th>1</th>\n",
       "      <td>-15.851033</td>\n",
       "      <td>21.6</td>\n",
       "    </tr>\n",
       "    <tr>\n",
       "      <th>2</th>\n",
       "      <td>-11.974822</td>\n",
       "      <td>34.7</td>\n",
       "    </tr>\n",
       "    <tr>\n",
       "      <th>3</th>\n",
       "      <td>-12.908138</td>\n",
       "      <td>33.4</td>\n",
       "    </tr>\n",
       "    <tr>\n",
       "      <th>4</th>\n",
       "      <td>-13.161236</td>\n",
       "      <td>36.2</td>\n",
       "    </tr>\n",
       "    <tr>\n",
       "      <th>...</th>\n",
       "      <td>...</td>\n",
       "      <td>...</td>\n",
       "    </tr>\n",
       "    <tr>\n",
       "      <th>501</th>\n",
       "      <td>1.915591</td>\n",
       "      <td>22.4</td>\n",
       "    </tr>\n",
       "    <tr>\n",
       "      <th>502</th>\n",
       "      <td>1.286089</td>\n",
       "      <td>20.6</td>\n",
       "    </tr>\n",
       "    <tr>\n",
       "      <th>503</th>\n",
       "      <td>0.529436</td>\n",
       "      <td>23.9</td>\n",
       "    </tr>\n",
       "    <tr>\n",
       "      <th>504</th>\n",
       "      <td>0.572126</td>\n",
       "      <td>22.0</td>\n",
       "    </tr>\n",
       "    <tr>\n",
       "      <th>505</th>\n",
       "      <td>1.011367</td>\n",
       "      <td>11.9</td>\n",
       "    </tr>\n",
       "  </tbody>\n",
       "</table>\n",
       "<p>506 rows × 2 columns</p>\n",
       "</div>"
      ],
      "text/plain": [
       "             0  target\n",
       "0     8.721950    24.0\n",
       "1   -15.851033    21.6\n",
       "2   -11.974822    34.7\n",
       "3   -12.908138    33.4\n",
       "4   -13.161236    36.2\n",
       "..         ...     ...\n",
       "501   1.915591    22.4\n",
       "502   1.286089    20.6\n",
       "503   0.529436    23.9\n",
       "504   0.572126    22.0\n",
       "505   1.011367    11.9\n",
       "\n",
       "[506 rows x 2 columns]"
      ]
     },
     "execution_count": 163,
     "metadata": {},
     "output_type": "execute_result"
    }
   ],
   "source": [
    "boston_comp_df = pd.DataFrame(data=X_comp)\n",
    "boston_comp_df['target'] = y\n",
    "boston_comp_df"
   ]
  },
  {
   "cell_type": "code",
   "execution_count": 165,
   "id": "cf25cfc3",
   "metadata": {},
   "outputs": [
    {
     "data": {
      "text/plain": [
       "<matplotlib.collections.PathCollection at 0x12930422cd0>"
      ]
     },
     "execution_count": 165,
     "metadata": {},
     "output_type": "execute_result"
    },
    {
     "data": {
      "image/png": "[encoded data removed]",
      "text/plain": [
       "<Figure size 432x288 with 1 Axes>"
      ]
     },
     "metadata": {},
     "output_type": "display_data"
    }
   ],
   "source": [
    "plt.scatter(X_comp, y, c='b', cmap=plt.cm.coolwarm, s=20, edgecolors='k')"
   ]
  },
  {
   "cell_type": "code",
   "execution_count": 166,
   "id": "d145d6c1",
   "metadata": {},
   "outputs": [],
   "source": [
    "model = KNeighborsRegressor()\n",
    "model.fit(X_comp,y)\n",
    "predict = model.predict(X_comp)"
   ]
  },
  {
   "cell_type": "code",
   "execution_count": 167,
   "id": "dba04c7b",
   "metadata": {},
   "outputs": [
    {
     "data": {
      "text/plain": [
       "<matplotlib.collections.PathCollection at 0x12930496a00>"
      ]
     },
     "execution_count": 167,
     "metadata": {},
     "output_type": "execute_result"
    },
    {
     "data": {
      "image/png": "[encoded data removed]",
      "text/plain": [
       "<Figure size 432x288 with 1 Axes>"
      ]
     },
     "metadata": {},
     "output_type": "display_data"
    }
   ],
   "source": [
    "plt.scatter(X_comp, y, c='b', cmap=plt.cm.coolwarm, s=20, edgecolors='k')\n",
    "plt.scatter(X_comp, predict, c='r', cmap=plt.cm.coolwarm, s=20, edgecolors='k')"
   ]
  },
  {
   "cell_type": "markdown",
   "id": "27541298",
   "metadata": {},
   "source": [
    "#### 캘리포니아 주택 가격 데이터"
   ]
  },
  {
   "cell_type": "code",
   "execution_count": 169,
   "id": "a1d29db9",
   "metadata": {},
   "outputs": [],
   "source": [
    "california = fetch_california_housing()"
   ]
  },
  {
   "cell_type": "code",
   "execution_count": 170,
   "id": "71aacf01",
   "metadata": {},
   "outputs": [
    {
     "data": {
      "text/html": [
       "<div>\n",
       "<style scoped>\n",
       "    .dataframe tbody tr th:only-of-type {\n",
       "        vertical-align: middle;\n",
       "    }\n",
       "\n",
       "    .dataframe tbody tr th {\n",
       "        vertical-align: top;\n",
       "    }\n",
       "\n",
       "    .dataframe thead th {\n",
       "        text-align: right;\n",
       "    }\n",
       "</style>\n",
       "<table border=\"1\" class=\"dataframe\">\n",
       "  <thead>\n",
       "    <tr style=\"text-align: right;\">\n",
       "      <th></th>\n",
       "      <th>MedInc</th>\n",
       "      <th>HouseAge</th>\n",
       "      <th>AveRooms</th>\n",
       "      <th>AveBedrms</th>\n",
       "      <th>Population</th>\n",
       "      <th>AveOccup</th>\n",
       "      <th>Latitude</th>\n",
       "      <th>Longitude</th>\n",
       "      <th>Target</th>\n",
       "    </tr>\n",
       "  </thead>\n",
       "  <tbody>\n",
       "    <tr>\n",
       "      <th>0</th>\n",
       "      <td>8.3252</td>\n",
       "      <td>41.0</td>\n",
       "      <td>6.984127</td>\n",
       "      <td>1.023810</td>\n",
       "      <td>322.0</td>\n",
       "      <td>2.555556</td>\n",
       "      <td>37.88</td>\n",
       "      <td>-122.23</td>\n",
       "      <td>4.526</td>\n",
       "    </tr>\n",
       "    <tr>\n",
       "      <th>1</th>\n",
       "      <td>8.3014</td>\n",
       "      <td>21.0</td>\n",
       "      <td>6.238137</td>\n",
       "      <td>0.971880</td>\n",
       "      <td>2401.0</td>\n",
       "      <td>2.109842</td>\n",
       "      <td>37.86</td>\n",
       "      <td>-122.22</td>\n",
       "      <td>3.585</td>\n",
       "    </tr>\n",
       "    <tr>\n",
       "      <th>2</th>\n",
       "      <td>7.2574</td>\n",
       "      <td>52.0</td>\n",
       "      <td>8.288136</td>\n",
       "      <td>1.073446</td>\n",
       "      <td>496.0</td>\n",
       "      <td>2.802260</td>\n",
       "      <td>37.85</td>\n",
       "      <td>-122.24</td>\n",
       "      <td>3.521</td>\n",
       "    </tr>\n",
       "    <tr>\n",
       "      <th>3</th>\n",
       "      <td>5.6431</td>\n",
       "      <td>52.0</td>\n",
       "      <td>5.817352</td>\n",
       "      <td>1.073059</td>\n",
       "      <td>558.0</td>\n",
       "      <td>2.547945</td>\n",
       "      <td>37.85</td>\n",
       "      <td>-122.25</td>\n",
       "      <td>3.413</td>\n",
       "    </tr>\n",
       "    <tr>\n",
       "      <th>4</th>\n",
       "      <td>3.8462</td>\n",
       "      <td>52.0</td>\n",
       "      <td>6.281853</td>\n",
       "      <td>1.081081</td>\n",
       "      <td>565.0</td>\n",
       "      <td>2.181467</td>\n",
       "      <td>37.85</td>\n",
       "      <td>-122.25</td>\n",
       "      <td>3.422</td>\n",
       "    </tr>\n",
       "    <tr>\n",
       "      <th>...</th>\n",
       "      <td>...</td>\n",
       "      <td>...</td>\n",
       "      <td>...</td>\n",
       "      <td>...</td>\n",
       "      <td>...</td>\n",
       "      <td>...</td>\n",
       "      <td>...</td>\n",
       "      <td>...</td>\n",
       "      <td>...</td>\n",
       "    </tr>\n",
       "    <tr>\n",
       "      <th>20635</th>\n",
       "      <td>1.5603</td>\n",
       "      <td>25.0</td>\n",
       "      <td>5.045455</td>\n",
       "      <td>1.133333</td>\n",
       "      <td>845.0</td>\n",
       "      <td>2.560606</td>\n",
       "      <td>39.48</td>\n",
       "      <td>-121.09</td>\n",
       "      <td>0.781</td>\n",
       "    </tr>\n",
       "    <tr>\n",
       "      <th>20636</th>\n",
       "      <td>2.5568</td>\n",
       "      <td>18.0</td>\n",
       "      <td>6.114035</td>\n",
       "      <td>1.315789</td>\n",
       "      <td>356.0</td>\n",
       "      <td>3.122807</td>\n",
       "      <td>39.49</td>\n",
       "      <td>-121.21</td>\n",
       "      <td>0.771</td>\n",
       "    </tr>\n",
       "    <tr>\n",
       "      <th>20637</th>\n",
       "      <td>1.7000</td>\n",
       "      <td>17.0</td>\n",
       "      <td>5.205543</td>\n",
       "      <td>1.120092</td>\n",
       "      <td>1007.0</td>\n",
       "      <td>2.325635</td>\n",
       "      <td>39.43</td>\n",
       "      <td>-121.22</td>\n",
       "      <td>0.923</td>\n",
       "    </tr>\n",
       "    <tr>\n",
       "      <th>20638</th>\n",
       "      <td>1.8672</td>\n",
       "      <td>18.0</td>\n",
       "      <td>5.329513</td>\n",
       "      <td>1.171920</td>\n",
       "      <td>741.0</td>\n",
       "      <td>2.123209</td>\n",
       "      <td>39.43</td>\n",
       "      <td>-121.32</td>\n",
       "      <td>0.847</td>\n",
       "    </tr>\n",
       "    <tr>\n",
       "      <th>20639</th>\n",
       "      <td>2.3886</td>\n",
       "      <td>16.0</td>\n",
       "      <td>5.254717</td>\n",
       "      <td>1.162264</td>\n",
       "      <td>1387.0</td>\n",
       "      <td>2.616981</td>\n",
       "      <td>39.37</td>\n",
       "      <td>-121.24</td>\n",
       "      <td>0.894</td>\n",
       "    </tr>\n",
       "  </tbody>\n",
       "</table>\n",
       "<p>20640 rows × 9 columns</p>\n",
       "</div>"
      ],
      "text/plain": [
       "       MedInc  HouseAge  AveRooms  AveBedrms  Population  AveOccup  Latitude  \\\n",
       "0      8.3252      41.0  6.984127   1.023810       322.0  2.555556     37.88   \n",
       "1      8.3014      21.0  6.238137   0.971880      2401.0  2.109842     37.86   \n",
       "2      7.2574      52.0  8.288136   1.073446       496.0  2.802260     37.85   \n",
       "3      5.6431      52.0  5.817352   1.073059       558.0  2.547945     37.85   \n",
       "4      3.8462      52.0  6.281853   1.081081       565.0  2.181467     37.85   \n",
       "...       ...       ...       ...        ...         ...       ...       ...   \n",
       "20635  1.5603      25.0  5.045455   1.133333       845.0  2.560606     39.48   \n",
       "20636  2.5568      18.0  6.114035   1.315789       356.0  3.122807     39.49   \n",
       "20637  1.7000      17.0  5.205543   1.120092      1007.0  2.325635     39.43   \n",
       "20638  1.8672      18.0  5.329513   1.171920       741.0  2.123209     39.43   \n",
       "20639  2.3886      16.0  5.254717   1.162264      1387.0  2.616981     39.37   \n",
       "\n",
       "       Longitude  Target  \n",
       "0        -122.23   4.526  \n",
       "1        -122.22   3.585  \n",
       "2        -122.24   3.521  \n",
       "3        -122.25   3.413  \n",
       "4        -122.25   3.422  \n",
       "...          ...     ...  \n",
       "20635    -121.09   0.781  \n",
       "20636    -121.21   0.771  \n",
       "20637    -121.22   0.923  \n",
       "20638    -121.32   0.847  \n",
       "20639    -121.24   0.894  \n",
       "\n",
       "[20640 rows x 9 columns]"
      ]
     },
     "execution_count": 170,
     "metadata": {},
     "output_type": "execute_result"
    }
   ],
   "source": [
    "california_df = pd.DataFrame(data=california.data, columns=california.feature_names)\n",
    "california_df['Target'] = california.target\n",
    "california_df"
   ]
  },
  {
   "cell_type": "code",
   "execution_count": 171,
   "id": "1b178a0c",
   "metadata": {},
   "outputs": [],
   "source": [
    "X,y = california.data, california.target\n",
    "X_train,X_test,y_train,y_test = train_test_split(X,y,test_size=0.2)"
   ]
  },
  {
   "cell_type": "code",
   "execution_count": 172,
   "id": "cf0364da",
   "metadata": {},
   "outputs": [],
   "source": [
    "scaler = StandardScaler()\n",
    "X_train_scale = scaler.fit_transform(X_train)\n",
    "X_test_scale = scaler.transform(X_test)"
   ]
  },
  {
   "cell_type": "code",
   "execution_count": 173,
   "id": "7b5efbe1",
   "metadata": {},
   "outputs": [
    {
     "data": {
      "text/plain": [
       "KNeighborsRegressor()"
      ]
     },
     "execution_count": 173,
     "metadata": {},
     "output_type": "execute_result"
    }
   ],
   "source": [
    "model = KNeighborsRegressor()\n",
    "model.fit(X_train, y_train)"
   ]
  },
  {
   "cell_type": "code",
   "execution_count": 174,
   "id": "fcdbb3fb",
   "metadata": {},
   "outputs": [
    {
     "name": "stdout",
     "output_type": "stream",
     "text": [
      "학습 데이터 점수 : 0.4580699929127158\n",
      "평가 데이터 점수 : 0.13402369721030583\n"
     ]
    }
   ],
   "source": [
    "print('학습 데이터 점수 : {}'.format(model.score(X_train,y_train)))\n",
    "print('평가 데이터 점수 : {}'.format(model.score(X_test,y_test)))"
   ]
  },
  {
   "cell_type": "code",
   "execution_count": 175,
   "id": "c7021f8c",
   "metadata": {},
   "outputs": [
    {
     "data": {
      "text/plain": [
       "KNeighborsRegressor()"
      ]
     },
     "execution_count": 175,
     "metadata": {},
     "output_type": "execute_result"
    }
   ],
   "source": [
    "model = KNeighborsRegressor()\n",
    "model.fit(X_train_scale, y_train)"
   ]
  },
  {
   "cell_type": "code",
   "execution_count": 176,
   "id": "eadbd370",
   "metadata": {},
   "outputs": [
    {
     "name": "stdout",
     "output_type": "stream",
     "text": [
      "학습 데이터 점수 : 0.7952150984602991\n",
      "평가 데이터 점수 : 0.6833562791561409\n"
     ]
    }
   ],
   "source": [
    "print('학습 데이터 점수 : {}'.format(model.score(X_train_scale,y_train)))\n",
    "print('평가 데이터 점수 : {}'.format(model.score(X_test_scale,y_test)))"
   ]
  },
  {
   "cell_type": "code",
   "execution_count": 177,
   "id": "db788807",
   "metadata": {},
   "outputs": [],
   "source": [
    "estimator = make_pipeline(\n",
    "    StandardScaler(),\n",
    "    KNeighborsRegressor()\n",
    ")"
   ]
  },
  {
   "cell_type": "code",
   "execution_count": 178,
   "id": "6c3d6b55",
   "metadata": {},
   "outputs": [
    {
     "name": "stderr",
     "output_type": "stream",
     "text": [
      "[Parallel(n_jobs=8)]: Using backend LokyBackend with 8 concurrent workers.\n",
      "[Parallel(n_jobs=8)]: Done   2 out of   5 | elapsed:    1.4s remaining:    2.1s\n",
      "[Parallel(n_jobs=8)]: Done   5 out of   5 | elapsed:    1.4s finished\n"
     ]
    },
    {
     "data": {
      "text/plain": [
       "{'fit_time': array([0.0184381 , 0.0234406 , 0.02544141, 0.02059793, 0.01944208]),\n",
       " 'score_time': array([0.33194518, 0.26853609, 0.26704264, 0.33992434, 0.31748128]),\n",
       " 'test_score': array([0.47879396, 0.4760079 , 0.57624554, 0.50259828, 0.57228584])}"
      ]
     },
     "execution_count": 178,
     "metadata": {},
     "output_type": "execute_result"
    }
   ],
   "source": [
    "cross_validate(\n",
    "    estimator=estimator,\n",
    "    X=X, y=y,\n",
    "    cv=5,\n",
    "    n_jobs=multiprocessing.cpu_count(),\n",
    "    verbose=True\n",
    ")"
   ]
  },
  {
   "cell_type": "code",
   "execution_count": 179,
   "id": "6165124b",
   "metadata": {},
   "outputs": [],
   "source": [
    "pipe = Pipeline(\n",
    "    [('scaler', StandardScaler()),\n",
    "        ('model', KNeighborsRegressor())])"
   ]
  },
  {
   "cell_type": "code",
   "execution_count": 180,
   "id": "5c32fde5",
   "metadata": {},
   "outputs": [],
   "source": [
    "param_grid = [{'model__n_neighbors': [3,5,7],\n",
    "              'model__weights': ['uniform','distance'],\n",
    "              'model__algorithm': ['ball_tree', 'kd_tree','brute']}]"
   ]
  },
  {
   "cell_type": "code",
   "execution_count": 181,
   "id": "528eb8f8",
   "metadata": {},
   "outputs": [],
   "source": [
    "gs = GridSearchCV(\n",
    "    estimator=pipe,\n",
    "    param_grid=param_grid,\n",
    "    n_jobs=multiprocessing.cpu_count(),\n",
    "    verbose=True\n",
    ")"
   ]
  },
  {
   "cell_type": "code",
   "execution_count": 182,
   "id": "c7ee1920",
   "metadata": {},
   "outputs": [
    {
     "name": "stdout",
     "output_type": "stream",
     "text": [
      "Fitting 5 folds for each of 18 candidates, totalling 90 fits\n"
     ]
    },
    {
     "data": {
      "text/plain": [
       "GridSearchCV(estimator=Pipeline(steps=[('scaler', StandardScaler()),\n",
       "                                       ('model', KNeighborsRegressor())]),\n",
       "             n_jobs=8,\n",
       "             param_grid=[{'model__algorithm': ['ball_tree', 'kd_tree', 'brute'],\n",
       "                          'model__n_neighbors': [3, 5, 7],\n",
       "                          'model__weights': ['uniform', 'distance']}],\n",
       "             verbose=True)"
      ]
     },
     "execution_count": 182,
     "metadata": {},
     "output_type": "execute_result"
    }
   ],
   "source": [
    "gs.fit(X,y)"
   ]
  },
  {
   "cell_type": "code",
   "execution_count": 183,
   "id": "208450e4",
   "metadata": {},
   "outputs": [
    {
     "data": {
      "text/plain": [
       "Pipeline(steps=[('scaler', StandardScaler()),\n",
       "                ('model',\n",
       "                 KNeighborsRegressor(algorithm='ball_tree', n_neighbors=7,\n",
       "                                     weights='distance'))])"
      ]
     },
     "execution_count": 183,
     "metadata": {},
     "output_type": "execute_result"
    }
   ],
   "source": [
    "gs.best_estimator_"
   ]
  },
  {
   "cell_type": "code",
   "execution_count": 184,
   "id": "5e13129f",
   "metadata": {},
   "outputs": [
    {
     "name": "stdout",
     "output_type": "stream",
     "text": [
      "GridSearchCV best score: 0.5376515274379832\n"
     ]
    }
   ],
   "source": [
    "print('GridSearchCV best score: {}'.format(gs.best_score_))"
   ]
  },
  {
   "cell_type": "code",
   "execution_count": 185,
   "id": "65002482",
   "metadata": {},
   "outputs": [],
   "source": [
    "tsne = TSNE(n_components=1)\n",
    "X_comp = tsne.fit_transform(X)"
   ]
  },
  {
   "cell_type": "code",
   "execution_count": 186,
   "id": "f035b69a",
   "metadata": {},
   "outputs": [
    {
     "data": {
      "text/html": [
       "<div>\n",
       "<style scoped>\n",
       "    .dataframe tbody tr th:only-of-type {\n",
       "        vertical-align: middle;\n",
       "    }\n",
       "\n",
       "    .dataframe tbody tr th {\n",
       "        vertical-align: top;\n",
       "    }\n",
       "\n",
       "    .dataframe thead th {\n",
       "        text-align: right;\n",
       "    }\n",
       "</style>\n",
       "<table border=\"1\" class=\"dataframe\">\n",
       "  <thead>\n",
       "    <tr style=\"text-align: right;\">\n",
       "      <th></th>\n",
       "      <th>0</th>\n",
       "      <th>target</th>\n",
       "    </tr>\n",
       "  </thead>\n",
       "  <tbody>\n",
       "    <tr>\n",
       "      <th>0</th>\n",
       "      <td>71.007683</td>\n",
       "      <td>4.526</td>\n",
       "    </tr>\n",
       "    <tr>\n",
       "      <th>1</th>\n",
       "      <td>32.762421</td>\n",
       "      <td>3.585</td>\n",
       "    </tr>\n",
       "    <tr>\n",
       "      <th>2</th>\n",
       "      <td>50.648243</td>\n",
       "      <td>3.521</td>\n",
       "    </tr>\n",
       "    <tr>\n",
       "      <th>3</th>\n",
       "      <td>45.384743</td>\n",
       "      <td>3.413</td>\n",
       "    </tr>\n",
       "    <tr>\n",
       "      <th>4</th>\n",
       "      <td>43.699558</td>\n",
       "      <td>3.422</td>\n",
       "    </tr>\n",
       "    <tr>\n",
       "      <th>...</th>\n",
       "      <td>...</td>\n",
       "      <td>...</td>\n",
       "    </tr>\n",
       "    <tr>\n",
       "      <th>20635</th>\n",
       "      <td>-51.496788</td>\n",
       "      <td>0.781</td>\n",
       "    </tr>\n",
       "    <tr>\n",
       "      <th>20636</th>\n",
       "      <td>69.217743</td>\n",
       "      <td>0.771</td>\n",
       "    </tr>\n",
       "    <tr>\n",
       "      <th>20637</th>\n",
       "      <td>-84.283623</td>\n",
       "      <td>0.923</td>\n",
       "    </tr>\n",
       "    <tr>\n",
       "      <th>20638</th>\n",
       "      <td>-0.012669</td>\n",
       "      <td>0.847</td>\n",
       "    </tr>\n",
       "    <tr>\n",
       "      <th>20639</th>\n",
       "      <td>-30.566780</td>\n",
       "      <td>0.894</td>\n",
       "    </tr>\n",
       "  </tbody>\n",
       "</table>\n",
       "<p>20640 rows × 2 columns</p>\n",
       "</div>"
      ],
      "text/plain": [
       "               0  target\n",
       "0      71.007683   4.526\n",
       "1      32.762421   3.585\n",
       "2      50.648243   3.521\n",
       "3      45.384743   3.413\n",
       "4      43.699558   3.422\n",
       "...          ...     ...\n",
       "20635 -51.496788   0.781\n",
       "20636  69.217743   0.771\n",
       "20637 -84.283623   0.923\n",
       "20638  -0.012669   0.847\n",
       "20639 -30.566780   0.894\n",
       "\n",
       "[20640 rows x 2 columns]"
      ]
     },
     "execution_count": 186,
     "metadata": {},
     "output_type": "execute_result"
    }
   ],
   "source": [
    "boston_comp_df = pd.DataFrame(data=X_comp)\n",
    "boston_comp_df['target'] = y\n",
    "boston_comp_df"
   ]
  },
  {
   "cell_type": "code",
   "execution_count": 187,
   "id": "3ec2f4f2",
   "metadata": {},
   "outputs": [
    {
     "data": {
      "text/plain": [
       "<matplotlib.collections.PathCollection at 0x1293074fc40>"
      ]
     },
     "execution_count": 187,
     "metadata": {},
     "output_type": "execute_result"
    },
    {
     "data": {
      "image/png": "[encoded data removed]",
      "text/plain": [
       "<Figure size 432x288 with 1 Axes>"
      ]
     },
     "metadata": {},
     "output_type": "display_data"
    }
   ],
   "source": [
    "plt.scatter(X_comp, y, c='b', cmap=plt.cm.coolwarm, s=20, edgecolors='k')"
   ]
  },
  {
   "cell_type": "code",
   "execution_count": 188,
   "id": "4e9349eb",
   "metadata": {},
   "outputs": [],
   "source": [
    "model = KNeighborsRegressor()\n",
    "model.fit(X_comp,y)\n",
    "predict = model.predict(X_comp)"
   ]
  },
  {
   "cell_type": "code",
   "execution_count": 189,
   "id": "c0c591f0",
   "metadata": {},
   "outputs": [
    {
     "data": {
      "text/plain": [
       "<matplotlib.collections.PathCollection at 0x12930befd00>"
      ]
     },
     "execution_count": 189,
     "metadata": {},
     "output_type": "execute_result"
    },
    {
     "data": {
      "image/png": "[encoded data removed]",
      "text/plain": [
       "<Figure size 432x288 with 1 Axes>"
      ]
     },
     "metadata": {},
     "output_type": "display_data"
    }
   ],
   "source": [
    "plt.scatter(X_comp, y, c='b', cmap=plt.cm.coolwarm, s=20, edgecolors='k')\n",
    "plt.scatter(X_comp, predict, c='r', cmap=plt.cm.coolwarm, s=20, edgecolors='k')"
   ]
  },
  {
   "cell_type": "code",
   "execution_count": null,
   "id": "e018662a",
   "metadata": {},
   "outputs": [],
   "source": []
  },
  {
   "cell_type": "code",
   "execution_count": null,
   "id": "c8df5eed",
   "metadata": {},
   "outputs": [],
   "source": []
  }
 ],
 "metadata": {
  "kernelspec": {
   "display_name": "Python 3 (ipykernel)",
   "language": "python",
   "name": "python3"
  },
  "language_info": {
   "codemirror_mode": {
    "name": "ipython",
    "version": 3
   },
   "file_extension": ".py",
   "mimetype": "text/x-python",
   "name": "python",
   "nbconvert_exporter": "python",
   "pygments_lexer": "ipython3",
   "version": "3.11.7"
  }
 },
 "nbformat": 4,
 "nbformat_minor": 5
}
